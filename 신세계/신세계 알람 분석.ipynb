{
 "cells": [
  {
   "cell_type": "code",
   "execution_count": null,
   "metadata": {
    "colab": {},
    "colab_type": "code",
    "id": "tI5WZeMsPYdq",
    "scrolled": true
   },
   "outputs": [],
   "source": [
    "import pandas as pd\n",
    "import numpy as np\n",
    "import warnings\n",
    "import seaborn as sns\n",
    "import matplotlib.pyplot as plt\n",
    "%matplotlib inline\n",
    "from matplotlib import font_manager, rc\n",
    "import scipy.cluster.hierarchy as spc\n",
    "font_name = font_manager.FontProperties(fname=\"/usr/share/fonts/nanum/nanumGothic.ttf\").get_name()\n",
    "plt.rc('font', family=font_name)\n",
    "plt.rc('style')\n",
    "import warnings\n",
    "warnings.filterwarnings(action='ignore') \n",
    "pd.options.display.float_format = '{:.2f}'.format\n",
    "pd.set_option('max_colwidth', 1000)"
   ]
  },
  {
   "cell_type": "code",
   "execution_count": null,
   "metadata": {
    "colab": {},
    "colab_type": "code",
    "id": "8Bt3dzV2PYdv"
   },
   "outputs": [],
   "source": [
    "from IPython.display import display_html\n",
    "def display_side_by_side(*args):\n",
    "    html_str=''\n",
    "    for df in args:\n",
    "        html_str+=df.to_html()\n",
    "    display_html(html_str.replace('table','table style=\"display:inline\"'),raw=True)"
   ]
  },
  {
   "cell_type": "code",
   "execution_count": null,
   "metadata": {},
   "outputs": [],
   "source": [
    "import os\n",
    "file_list =os.listdir('../신세계/DATA/')"
   ]
  },
  {
   "cell_type": "code",
   "execution_count": null,
   "metadata": {},
   "outputs": [],
   "source": [
    "for i in file_list:\n",
    "    if i == \".ipynb_checkpoints\":\n",
    "        file_list.remove(i)\n",
    "print(file_list)"
   ]
  },
  {
   "cell_type": "code",
   "execution_count": null,
   "metadata": {},
   "outputs": [],
   "source": [
    "data_list = []\n",
    "for i in file_list:\n",
    "    print(i)\n",
    "    data = pd.read_csv('../신세계/DATA/'+i, encoding='UTF-8',sep=\"\\|\\|\",header=None,error_bad_lines=False)\n",
    "    data_list.append(data)\n"
   ]
  },
  {
   "cell_type": "code",
   "execution_count": null,
   "metadata": {},
   "outputs": [],
   "source": [
    "data = pd.concat(data_list ,axis=0)"
   ]
  },
  {
   "cell_type": "code",
   "execution_count": null,
   "metadata": {
    "colab": {},
    "colab_type": "code",
    "id": "5VEOhS3UPYdy"
   },
   "outputs": [],
   "source": [
    "#data = pd.read_excel('data/alram_ds.xls',sheet_name=None, encoding='UTF-8')\n",
    "#df_list = [ v for k,v in data.items()] \n",
    "#data = pd.concat(df_list ,axis=0)"
   ]
  },
  {
   "cell_type": "markdown",
   "metadata": {
    "colab_type": "text",
    "id": "2QF9Zp_0PYd3"
   },
   "source": [
    "## 1. 알람 데이터 로드 및 전처리"
   ]
  },
  {
   "cell_type": "code",
   "execution_count": null,
   "metadata": {},
   "outputs": [],
   "source": [
    "data.columns = [\"ALARM_LEVEL\",\"ALARM_NAME\",\"CTIME\",\"DTIME\",\"HOSTNAME\",\"IP\",\"PATH1\",\"PATH2\",\"PATH3\",\"PATH4\",\"PATH5\",\"PATH6\",\"PATH7\",\"NAME\",\"CONDITIONLOGTEXT\",\"CURRENTALARMSTATUS\"]"
   ]
  },
  {
   "cell_type": "code",
   "execution_count": null,
   "metadata": {
    "colab": {},
    "colab_type": "code",
    "id": "LJLmM6TpPYd9"
   },
   "outputs": [],
   "source": [
    "#행렬 확인\n",
    "data.shape"
   ]
  },
  {
   "cell_type": "code",
   "execution_count": null,
   "metadata": {
    "colab": {},
    "colab_type": "code",
    "id": "Zo8YV2wYPYeK",
    "scrolled": true
   },
   "outputs": [],
   "source": [
    "#컬럼 이름 수정\n",
    "data.columns = ['degree', 'alarm_name','time','clear_time','hostname','ip','group1','group2','group3','group4','group5','group6', 'group7','resource_name','condition','status']"
   ]
  },
  {
   "cell_type": "code",
   "execution_count": null,
   "metadata": {
    "colab": {},
    "colab_type": "code",
    "id": "SK67xjWUPYeN",
    "scrolled": true
   },
   "outputs": [],
   "source": [
    "#추가 컬럼 생성\n",
    "data.degree = data.degree.astype(str)\n",
    "data['time'] = pd.to_datetime(data['time'], format='%Y-%m-%d %H:%M:%S')\n",
    "data['clear_time'] = pd.to_datetime(data['clear_time'], format='%Y-%m-%d %H:%M:%S')\n",
    "data['last_time'] = data['clear_time'] - data['time']\n",
    "data['last_time'] = data['last_time'].dt.seconds\n",
    "data['last_time'] = data['last_time'].fillna(0)\n",
    "data['time_month'] = data['time'].dt.month\n",
    "data['time_day'] = data['time'].dt.day\n",
    "data['time_hour'] = data['time'].dt.hour\n",
    "data['time_date']= data['time'].dt.strftime('%Y-%m-%d')\n",
    "data['time_date_hour']= data['time'].dt.strftime('%Y-%m-%d %H')\n",
    "ipaddr = data['ip'].str.split('.', expand=True)\n",
    "ipaddr[3] = \"0\"\n",
    "data['C_class']= ipaddr[0] + '.' + ipaddr[1] + '.' + ipaddr[2] + '.' + ipaddr[3]\n",
    "ipaddr[3] = \"0\"\n",
    "ipaddr[2] = \"0\"\n",
    "data['B_class']= ipaddr[0] + '.' + ipaddr[1] + '.' + ipaddr[2] + '.' + ipaddr[3]"
   ]
  },
  {
   "cell_type": "code",
   "execution_count": null,
   "metadata": {},
   "outputs": [],
   "source": [
    "data.degree = data.degree.replace({\"1\":\"주의\",\"2\":\"경고\",\"3\":\"심각\"})"
   ]
  },
  {
   "cell_type": "code",
   "execution_count": null,
   "metadata": {},
   "outputs": [],
   "source": [
    "data.drop(812252,inplace=True)\n",
    "data.drop(812251,inplace=True)"
   ]
  },
  {
   "cell_type": "code",
   "execution_count": null,
   "metadata": {},
   "outputs": [],
   "source": [
    "data_log = data[data.alarm_name.isin(['PLog Info','PLog Warn','PLog Error','PLog Fatal','AMS_ERROR_POS','AMS_ERROR','Log Warning-Error - 복사본','Log Info','Log Warning-Error'])]"
   ]
  },
  {
   "cell_type": "code",
   "execution_count": null,
   "metadata": {},
   "outputs": [],
   "source": [
    "data = data[~data.alarm_name.isin(['PLog Info','PLog Warn','PLog Error','PLog Fatal','AMS_ERROR_POS','AMS_ERROR','Log Warning-Error - 복사본','Log Info','Log Warning-Error'])]"
   ]
  },
  {
   "cell_type": "code",
   "execution_count": null,
   "metadata": {},
   "outputs": [],
   "source": [
    "data['group'] = data.group1.fillna('')+'>'+data.group2.fillna('')+'>'+data.group3.fillna('')+'>'+data.group4.fillna('')+'>'+data.group5.fillna('')+'>'+data.group6.fillna('')+'>'+data.group7.fillna('')"
   ]
  },
  {
   "cell_type": "code",
   "execution_count": null,
   "metadata": {},
   "outputs": [],
   "source": [
    "data['group'] = data.group.str.replace('>Root>','')"
   ]
  },
  {
   "cell_type": "code",
   "execution_count": null,
   "metadata": {},
   "outputs": [],
   "source": [
    "data['group'] = data['group'].str.replace('Root>','')"
   ]
  },
  {
   "cell_type": "code",
   "execution_count": null,
   "metadata": {},
   "outputs": [],
   "source": [
    "data['group'] = data['group'].str.replace(r'^SNMP 관제 그룹','02. Network>SNMP 관제 그룹')"
   ]
  },
  {
   "cell_type": "code",
   "execution_count": null,
   "metadata": {},
   "outputs": [],
   "source": [
    "data['group'] = data['group'].str.replace(r'^PING관제그룹','02. Network>PING관제그룹')"
   ]
  },
  {
   "cell_type": "code",
   "execution_count": null,
   "metadata": {},
   "outputs": [],
   "source": [
    "data['group'] = data['group'].str.replace('>>','')\n",
    "data['group'] = data['group'].str.replace('>>>','')\n",
    "data['group'] = data['group'].str.replace('>>>>','')"
   ]
  },
  {
   "cell_type": "code",
   "execution_count": null,
   "metadata": {},
   "outputs": [],
   "source": [
    "data['group'] = data['group'].str.replace('>03. 보안','03. 보안')\n",
    "data['group'] = data['group'].str.replace('>02. Network','02. Network')\n",
    "data['group'] = data['group'].str.replace('>01. Server','01. Server')"
   ]
  },
  {
   "cell_type": "code",
   "execution_count": null,
   "metadata": {},
   "outputs": [],
   "source": [
    "data['group'].str.split('>', expand=True)[0].unique()"
   ]
  },
  {
   "cell_type": "code",
   "execution_count": null,
   "metadata": {},
   "outputs": [],
   "source": [
    "data['group1'] = data['group'].str.split('>', expand=True)[0]\n",
    "\n",
    "data['group2'] = data['group'].str.split('>', expand=True)[1]\n",
    "\n",
    "data['group3'] = data['group'].str.split('>', expand=True)[2]\n",
    "\n",
    "data['group4'] = data['group'].str.split('>', expand=True)[3]\n",
    "\n",
    "data['group5'] = data['group'].str.split('>', expand=True)[4]\n",
    "\n",
    "data['group6'] = data['group'].str.split('>', expand=True)[5]"
   ]
  },
  {
   "cell_type": "code",
   "execution_count": null,
   "metadata": {},
   "outputs": [],
   "source": [
    "server_data = data[data.group1==\"01. Server\"]"
   ]
  },
  {
   "cell_type": "code",
   "execution_count": null,
   "metadata": {},
   "outputs": [],
   "source": [
    "network_data = data[data.group1==\"02. Network\"]"
   ]
  },
  {
   "cell_type": "code",
   "execution_count": null,
   "metadata": {},
   "outputs": [],
   "source": [
    "server_data[server_data.group3==\"[S2][DR][아,Uc] Polestar South DR 서버 (Active)\"]"
   ]
  },
  {
   "cell_type": "code",
   "execution_count": null,
   "metadata": {},
   "outputs": [],
   "source": [
    "rotation = 45\n",
    "\n",
    "colors = ['orange','yellow','red']\n",
    "f,ax=plt.subplots(1,1,figsize=(18,8))\n",
    "sns.countplot('group2',hue='degree',data=server_data,order=server_data.group2.value_counts().iloc[:10].index, palette=sns.xkcd_palette(colors))\n",
    "ax.set_title('group 별 심각도')\n",
    "plt.xticks(rotation=rotation)\n",
    "plt.show()\n",
    "\n",
    "df = server_data.groupby(['group2','degree'])['time'].count().reindex().reset_index().sort_values('time',ascending=False)\n",
    "df.columns = ['group1','degree','count']\n",
    "df_1 = df[df['degree'] == '심각'].head(10)\n",
    "df_2 = df[df['degree'] == '경고'].head(10)\n",
    "df_3 = df[df['degree'] == '주의'].head(10)\n",
    "display_side_by_side(df_1,df_2,df_3)\n",
    "\n",
    "colors = ['orange','yellow','red']\n",
    "f,ax=plt.subplots(1,1,figsize=(18,8))\n",
    "sns.countplot('group3',hue='degree',data=server_data,order=server_data.group3.value_counts().iloc[:10].index, palette=sns.xkcd_palette(colors))\n",
    "ax.set_title('group2 별 심각도')\n",
    "plt.xticks(rotation=rotation)\n",
    "plt.show()\n",
    "\n",
    "df = server_data.groupby(['group3','degree'])['time'].count().reindex().reset_index().sort_values('time',ascending=False)\n",
    "df.columns = ['group1','degree','count']\n",
    "df_1 = df[df['degree'] == '심각'].head(10)\n",
    "df_2 = df[df['degree'] == '경고'].head(10)\n",
    "df_3 = df[df['degree'] == '주의'].head(10)\n",
    "display_side_by_side(df_1,df_2,df_3)\n",
    "\n",
    "colors = ['orange','yellow','red']\n",
    "f,ax=plt.subplots(1,1,figsize=(18,8))\n",
    "sns.countplot('group4',hue='degree',data=server_data,order=server_data.group4.value_counts().iloc[:10].index, palette=sns.xkcd_palette(colors))\n",
    "ax.set_title('group3 별 심각도')\n",
    "plt.xticks(rotation=rotation)\n",
    "plt.show()\n",
    "\n",
    "df = server_data.groupby(['group4','degree'])['time'].count().reindex().reset_index().sort_values('time',ascending=False)\n",
    "df.columns = ['group1','degree','count']\n",
    "df_1 = df[df['degree'] == '심각'].head(10)\n",
    "df_2 = df[df['degree'] == '경고'].head(10)\n",
    "df_3 = df[df['degree'] == '주의'].head(10)\n",
    "display_side_by_side(df_1,df_2,df_3)"
   ]
  },
  {
   "cell_type": "code",
   "execution_count": null,
   "metadata": {},
   "outputs": [],
   "source": [
    "rotation = 45\n",
    "\n",
    "colors = ['orange','yellow','red']\n",
    "f,ax=plt.subplots(1,1,figsize=(18,8))\n",
    "sns.countplot('group2',hue='degree',data=network_data,order=network_data.group2.value_counts().iloc[:10].index, palette=sns.xkcd_palette(colors))\n",
    "ax.set_title('group 별 심각도')\n",
    "plt.xticks(rotation=rotation)\n",
    "plt.show()\n",
    "\n",
    "df = network_data.groupby(['group2','degree'])['time'].count().reindex().reset_index().sort_values('time',ascending=False)\n",
    "df.columns = ['group1','degree','count']\n",
    "df_1 = df[df['degree'] == '심각'].head(10)\n",
    "df_2 = df[df['degree'] == '경고'].head(10)\n",
    "df_3 = df[df['degree'] == '주의'].head(10)\n",
    "display_side_by_side(df_1,df_2,df_3)\n",
    "\n",
    "colors = ['orange','yellow','red']\n",
    "f,ax=plt.subplots(1,1,figsize=(18,8))\n",
    "sns.countplot('group3',hue='degree',data=network_data,order=network_data.group3.value_counts().iloc[:10].index, palette=sns.xkcd_palette(colors))\n",
    "ax.set_title('group2 별 심각도')\n",
    "plt.xticks(rotation=rotation)\n",
    "plt.show()\n",
    "\n",
    "df = network_data.groupby(['group3','degree'])['time'].count().reindex().reset_index().sort_values('time',ascending=False)\n",
    "df.columns = ['group1','degree','count']\n",
    "df_1 = df[df['degree'] == '심각'].head(10)\n",
    "df_2 = df[df['degree'] == '경고'].head(10)\n",
    "df_3 = df[df['degree'] == '주의'].head(10)\n",
    "display_side_by_side(df_1,df_2,df_3)\n",
    "\n",
    "colors = ['orange','yellow','red']\n",
    "f,ax=plt.subplots(1,1,figsize=(18,8))\n",
    "sns.countplot('group4',hue='degree',data=network_data,order=network_data.group4.value_counts().iloc[:10].index, palette=sns.xkcd_palette(colors))\n",
    "ax.set_title('group3 별 심각도')\n",
    "plt.xticks(rotation=rotation)\n",
    "plt.show()\n",
    "\n",
    "df = network_data.groupby(['group4','degree'])['time'].count().reindex().reset_index().sort_values('time',ascending=False)\n",
    "df.columns = ['group1','degree','count']\n",
    "df_1 = df[df['degree'] == '심각'].head(10)\n",
    "df_2 = df[df['degree'] == '경고'].head(10)\n",
    "df_3 = df[df['degree'] == '주의'].head(10)\n",
    "display_side_by_side(df_1,df_2,df_3)\n",
    "\n",
    "colors = ['orange','yellow','red']\n",
    "f,ax=plt.subplots(1,1,figsize=(18,8))\n",
    "sns.countplot('group5',hue='degree',data=network_data,order=network_data.group5.value_counts().iloc[:10].index, palette=sns.xkcd_palette(colors))\n",
    "ax.set_title('group4 별 심각도')\n",
    "plt.xticks(rotation=rotation)\n",
    "plt.show()\n",
    "\n",
    "df = network_data.groupby(['group5','degree'])['time'].count().reindex().reset_index().sort_values('time',ascending=False)\n",
    "df.columns = ['group1','degree','count']\n",
    "df_1 = df[df['degree'] == '심각'].head(10)\n",
    "df_2 = df[df['degree'] == '경고'].head(10)\n",
    "df_3 = df[df['degree'] == '주의'].head(10)\n",
    "display_side_by_side(df_1,df_2,df_3)"
   ]
  },
  {
   "cell_type": "code",
   "execution_count": null,
   "metadata": {},
   "outputs": [],
   "source": [
    "len(data_log)"
   ]
  },
  {
   "cell_type": "code",
   "execution_count": null,
   "metadata": {},
   "outputs": [],
   "source": [
    "#data[['group1','group2','group3','group4','group5','group6','group7']]\n",
    "len(data[(data.group1==\"SNMP 관제 그룹\")|(data.group2==\"SNMP 관제 그룹\")|(data.group3==\"SNMP 관제 그룹\")|(data.group4==\"SNMP 관제 그룹\")|(data.group5==\"SNMP 관제 그룹\")|(data.group6==\"SNMP 관제 그룹\")|(data.group7==\"SNMP 관제 그룹\")])"
   ]
  },
  {
   "cell_type": "code",
   "execution_count": null,
   "metadata": {},
   "outputs": [],
   "source": [
    "data[(data.hostname==\"[S1][스,Nu] 전자영수증 DB #1\")&(data.alarm_name==\"EventLog Info\")].sort_values('time')"
   ]
  },
  {
   "cell_type": "code",
   "execution_count": null,
   "metadata": {},
   "outputs": [],
   "source": [
    "data[(data.hostname==\"[S1][사,Bl] 중앙POS\")].sort_values('time')"
   ]
  },
  {
   "cell_type": "code",
   "execution_count": null,
   "metadata": {},
   "outputs": [],
   "source": [
    "def search_date_diff(search_time,search_time2,degree,types):\n",
    "    df1 = data[(data.time_date==search_time)&(data.degree==degree)].groupby([types])['ip'].count().reset_index().reindex().sort_values('ip',ascending=False)\n",
    "    df2 = data[(data.time_date==search_time2)&(data.degree==degree)].groupby([types])['ip'].count().reset_index().reindex().sort_values('ip',ascending=False)\n",
    "    merge_df =pd.merge(df1, df2, on=types, how='left').head(10)\n",
    "    merge_df.columns = [types,search_time,search_time2]\n",
    "    display(merge_df)\n",
    "    "
   ]
  },
  {
   "cell_type": "code",
   "execution_count": null,
   "metadata": {},
   "outputs": [],
   "source": [
    "search_date_diff('2018-12-06','2018-12-08','경고','alarm_name')\n",
    "search_date_diff('2018-12-06','2018-12-08','주의','alarm_name')\n",
    "search_date_diff('2018-12-06','2018-12-08','심각','alarm_name')"
   ]
  },
  {
   "cell_type": "code",
   "execution_count": null,
   "metadata": {},
   "outputs": [],
   "source": [
    "def search_date_diff_alram_type(search_time,search_time2,degree,types):\n",
    "    df1 = data[(data.time_date==search_time)&(data.degree==degree)&(data.alarm_name==types)].groupby(['hostname'])['ip'].count().reset_index().reindex().sort_values('ip',ascending=False)\n",
    "    df2 = data[(data.time_date==search_time2)&(data.degree==degree)&(data.alarm_name==types)].groupby(['hostname'])['ip'].count().reset_index().reindex().sort_values('ip',ascending=False)\n",
    "    merge_df =pd.merge(df1, df2, on='hostname', how='left')\n",
    "    merge_df.columns = ['hostname',search_time,search_time2]\n",
    "    merge_df.fillna(0,inplace=True)\n",
    "    merge_df['diff'] = abs(merge_df[search_time] - merge_df[search_time2])\n",
    "    merge_df.sort_values('diff',ascending=False).to_excel('diff_{}_{}.xlsx'.format(degree,types),encoding='UTF-8')\n",
    "    display(merge_df.sort_values('diff',ascending=False))\n",
    "    "
   ]
  },
  {
   "cell_type": "code",
   "execution_count": null,
   "metadata": {},
   "outputs": [],
   "source": [
    "#search_date_diff('2018-12-06','2018-12-08','경고','alarm_name')\n",
    "search_date_diff_alram_type('2018-12-06','2018-12-08','주의','SNMP 응답')\n",
    "search_date_diff_alram_type('2018-12-06','2018-12-08','경고','Port_Down')\n",
    "search_date_diff_alram_type('2018-12-06','2018-12-08','심각','장비다운')"
   ]
  },
  {
   "cell_type": "code",
   "execution_count": null,
   "metadata": {},
   "outputs": [],
   "source": [
    "def search_date(search_time,search_time2):\n",
    "    print(\"총알람 수 : {}\".format(len(data[data.time_date==search_time])))\n",
    "    display_side_by_side(\n",
    "    data[data.time_date==search_time].groupby(['alarm_name'])['ip'].count().reset_index().reindex().sort_values('ip',ascending=False).head(10),\n",
    "    data[data.time_date==search_time].groupby(['hostname'])['ip'].count().reset_index().reindex().sort_values('ip',ascending=False).head(10))\n",
    "    display_side_by_side(\n",
    "    data[(data.time_date==search_time)&(data.degree==\"주의\")].groupby(['degree','alarm_name'])['ip'].count().reset_index().reindex().sort_values('ip',ascending=False).head(10),\n",
    "    data[(data.time_date==search_time)&(data.degree==\"경고\")].groupby(['degree','alarm_name'])['ip'].count().reset_index().reindex().sort_values('ip',ascending=False).head(10),\n",
    "    data[(data.time_date==search_time)&(data.degree==\"심각\")].groupby(['degree','alarm_name'])['ip'].count().reset_index().reindex().sort_values('ip',ascending=False).head(10))\n",
    "    display_side_by_side(\n",
    "    data[(data.time_date==search_time)&(data.degree==\"주의\")].groupby(['degree','alarm_name','hostname'])['ip'].count().reset_index().reindex().sort_values('ip',ascending=False).head(10),\n",
    "    data[(data.time_date==search_time)&(data.degree==\"경고\")].groupby(['degree','alarm_name','hostname'])['ip'].count().reset_index().reindex().sort_values('ip',ascending=False).head(10),\n",
    "    data[(data.time_date==search_time)&(data.degree==\"심각\")].groupby(['degree','alarm_name','hostname'])['ip'].count().reset_index().reindex().sort_values('ip',ascending=False).head(10))"
   ]
  },
  {
   "cell_type": "code",
   "execution_count": null,
   "metadata": {},
   "outputs": [],
   "source": [
    "search_date('2018-12-06')"
   ]
  },
  {
   "cell_type": "markdown",
   "metadata": {},
   "source": [
    "##데이터 월 정제용\n",
    "\n",
    "data = data[(data.time_date >= '2018-04-01')&(data.time_date < '2019-04-01')]\n",
    "\n",
    "import datetime\n",
    "\n",
    "data['time'] = data['time'] - datetime.timedelta(days=90)\n",
    "\n",
    "data['time_month'] = data['time'].dt.month"
   ]
  },
  {
   "cell_type": "markdown",
   "metadata": {
    "colab_type": "text",
    "id": "uGU0_4YzPYeX"
   },
   "source": [
    "## 2. 데이터 분석"
   ]
  },
  {
   "cell_type": "code",
   "execution_count": null,
   "metadata": {},
   "outputs": [],
   "source": [
    "#미복구 알람\n",
    "data[data.clear_time.isnull()==True].groupby(['degree','alarm_name','hostname'])['ip'].count().reindex().reset_index().sort_values('ip',ascending=False)"
   ]
  },
  {
   "cell_type": "markdown",
   "metadata": {
    "colab_type": "text",
    "id": "m-Xt-H1UPYeY"
   },
   "source": [
    "### 노드 별 심각도 건수"
   ]
  },
  {
   "cell_type": "code",
   "execution_count": null,
   "metadata": {
    "colab": {},
    "colab_type": "code",
    "id": "e6FOQLC7PYea"
   },
   "outputs": [],
   "source": [
    "df = data.groupby(['hostname','degree'])['alarm_name'].count().reindex().reset_index()\n",
    "alram_count = df.pivot_table(values='alarm_name', index=df.hostname, columns='degree', aggfunc='first',fill_value=0).reset_index()\n",
    "alram_count['total_count'] = alram_count['경고'] + alram_count['주의'] + alram_count['심각']\n",
    "alram_count.sort_values('total_count',ascending=False).head(20).total_count"
   ]
  },
  {
   "cell_type": "markdown",
   "metadata": {
    "colab_type": "text",
    "id": "YtFqzhJEPYeg"
   },
   "source": [
    "### 등급별 건수"
   ]
  },
  {
   "cell_type": "code",
   "execution_count": null,
   "metadata": {
    "colab": {},
    "colab_type": "code",
    "id": "Gry2Uo8nPYeh"
   },
   "outputs": [],
   "source": [
    "df = data.groupby(['degree'])['alarm_name'].count().reindex().reset_index()\n",
    "df['per'] = (df.alarm_name/df.alarm_name.sum())*100\n",
    "df['per']= df['per'].round(2)\n",
    "df.columns = ['degree', 'count' , 'per']\n",
    "#fig = plt.figure(figsize=(15, 7))\n",
    "#ax1 = fig.add_subplot(1, 2, 1)\n",
    "#ax2 = fig.add_subplot(1, 2, 2)\n",
    "#ax2.axis('off')\n",
    "#ax2.axis('tight')\n",
    "#ax1.pie(df.per, explode=[0.05,0.05,0.05],labels=df.degree, autopct='%1.1f%%',colors=['orange','red','yellow'],textprops={'fontsize': 20},\n",
    "       #shadow=True, startangle=90)\n",
    "#ax2.table(cellText=df.values, colLabels=df.columns, loc='center')\n",
    "df"
   ]
  },
  {
   "cell_type": "markdown",
   "metadata": {
    "colab_type": "text",
    "id": "5lxRMDpvPYen"
   },
   "source": [
    "### 일별 등급 알람건수"
   ]
  },
  {
   "cell_type": "code",
   "execution_count": null,
   "metadata": {
    "colab": {},
    "colab_type": "code",
    "id": "UKo8zv4wPYeo"
   },
   "outputs": [],
   "source": [
    "df = data.groupby(['time_date','degree'])['alarm_name'].count().reindex().reset_index()\n",
    "df = df[df['degree'] == '심각']\n",
    "df.sort_values('alarm_name',ascending=False).head()"
   ]
  },
  {
   "cell_type": "code",
   "execution_count": null,
   "metadata": {
    "colab": {},
    "colab_type": "code",
    "id": "LlOhSDvGPYet"
   },
   "outputs": [],
   "source": [
    "df = data.groupby(['time_date','degree'])['alarm_name'].count().reindex().reset_index()\n",
    "df = df[df['degree'] == '주의']\n",
    "df.sort_values('alarm_name',ascending=False).head()"
   ]
  },
  {
   "cell_type": "code",
   "execution_count": null,
   "metadata": {
    "colab": {},
    "colab_type": "code",
    "id": "OzadNRY8PYez"
   },
   "outputs": [],
   "source": [
    "df = data.groupby(['time_date','degree'])['alarm_name'].count().reindex().reset_index()\n",
    "df = df[df['degree'] == '경고']\n",
    "df.sort_values('alarm_name',ascending=False).head()"
   ]
  },
  {
   "cell_type": "markdown",
   "metadata": {
    "colab_type": "text",
    "id": "Ak53gD9wPYe9"
   },
   "source": [
    "### 노드별 발생 알람이름 건수"
   ]
  },
  {
   "cell_type": "code",
   "execution_count": null,
   "metadata": {
    "colab": {},
    "colab_type": "code",
    "id": "QHQ5pukHPYfB"
   },
   "outputs": [],
   "source": [
    "df = data.groupby(['alarm_name'])['time'].count().reindex().reset_index()\n",
    "#df = df.pivot_table(values='time', index=df.alarm_name, columns='alarm_name', aggfunc='first',fill_value=0).reset_index()\n",
    "#df = df.set_index('alarm_name')\n",
    "#df.reindex(columns='시스템명')\n",
    "#df['total_count']= df.sum(axis=1)\n",
    "df.sort_values('time',ascending=False).head(10)"
   ]
  },
  {
   "cell_type": "code",
   "execution_count": null,
   "metadata": {
    "colab": {},
    "colab_type": "code",
    "id": "4I-RwCfsPYfK"
   },
   "outputs": [],
   "source": [
    "df = data.groupby(['hostname'])['time'].count().reindex().reset_index().sort_values('time')\n",
    "df[df['time'] == 1]"
   ]
  },
  {
   "cell_type": "code",
   "execution_count": null,
   "metadata": {},
   "outputs": [],
   "source": [
    "server_group = data[(data.group1==\"01. Server\")|(data.group2==\"01. Server\")|(data.group3==\"01. Server\")|(data.group4==\"01. Server\")|(data.group5==\"01. Server\")|(data.group6==\"01. Server\")|(data.group7==\"01. Server\")]"
   ]
  },
  {
   "cell_type": "code",
   "execution_count": null,
   "metadata": {},
   "outputs": [],
   "source": [
    "len(server_group)"
   ]
  },
  {
   "cell_type": "code",
   "execution_count": null,
   "metadata": {},
   "outputs": [],
   "source": [
    "display_side_by_side(server_group[server_group.degree=='심각'].groupby(['alarm_name','degree'])['ip'].count().reset_index().reindex().sort_values('ip',ascending=False).head(10),\n",
    "                    server_group[server_group.degree=='주의'].groupby(['alarm_name','degree'])['ip'].count().reset_index().reindex().sort_values('ip',ascending=False).head(10),\n",
    "                    server_group[server_group.degree=='경고'].groupby(['alarm_name','degree'])['ip'].count().reset_index().reindex().sort_values('ip',ascending=False).head(10))"
   ]
  },
  {
   "cell_type": "code",
   "execution_count": null,
   "metadata": {},
   "outputs": [],
   "source": [
    "server_group.groupby(['hostname','alarm_name'])['ip'].count().reset_index().reindex().sort_values('ip',ascending=False).head(10)"
   ]
  },
  {
   "cell_type": "code",
   "execution_count": null,
   "metadata": {},
   "outputs": [],
   "source": [
    "network_group = data[(data.group1==\"02. Network\")|(data.group2==\"02. Network\")|(data.group3==\"02. Network\")|(data.group4==\"02. Network\")|(data.group5==\"02. Network\")|(data.group6==\"02. Network\")|(data.group7==\"02. Network\")]"
   ]
  },
  {
   "cell_type": "code",
   "execution_count": null,
   "metadata": {},
   "outputs": [],
   "source": [
    "len(network_group)"
   ]
  },
  {
   "cell_type": "code",
   "execution_count": null,
   "metadata": {},
   "outputs": [],
   "source": [
    "display_side_by_side(network_group[network_group.degree=='심각'].groupby(['alarm_name','degree'])['ip'].count().reset_index().reindex().sort_values('ip',ascending=False).head(10),\n",
    "                     network_group[network_group.degree=='경고'].groupby(['alarm_name','degree'])['ip'].count().reset_index().reindex().sort_values('ip',ascending=False).head(10),\n",
    "                     network_group[network_group.degree=='주의'].groupby(['alarm_name','degree'])['ip'].count().reset_index().reindex().sort_values('ip',ascending=False).head(10))"
   ]
  },
  {
   "cell_type": "code",
   "execution_count": null,
   "metadata": {},
   "outputs": [],
   "source": [
    "network_group.groupby(['hostname','alarm_name'])['ip'].count().reset_index().reindex().sort_values('ip',ascending=False).head(10)"
   ]
  },
  {
   "cell_type": "code",
   "execution_count": null,
   "metadata": {},
   "outputs": [],
   "source": [
    "df1 = data.groupby(['group4','degree'])['time'].count().reset_index().reindex()\n",
    "df1.columns = ['group','degree','count']\n",
    "df2 = data.groupby(['group5','degree'])['time'].count().reset_index().reindex()\n",
    "df2.columns = ['group','degree','count']\n",
    "df3 = data.groupby(['group6','degree'])['time'].count().reset_index().reindex()\n",
    "df3.columns = ['group','degree','count']"
   ]
  },
  {
   "cell_type": "code",
   "execution_count": null,
   "metadata": {},
   "outputs": [],
   "source": [
    "df_result =pd.merge(pd.merge(df1,df2,on=['group','degree']),df3,on=['group','degree'])"
   ]
  },
  {
   "cell_type": "code",
   "execution_count": null,
   "metadata": {},
   "outputs": [],
   "source": [
    "df_result['sum'] = pd.merge(pd.merge(df1,df2,on=['group','degree']),df3,on=['group','degree']).sum(axis=1)"
   ]
  },
  {
   "cell_type": "code",
   "execution_count": null,
   "metadata": {},
   "outputs": [],
   "source": [
    "df_result.drop(['count_x','count_y','count'],axis=1,inplace=True)"
   ]
  },
  {
   "cell_type": "code",
   "execution_count": null,
   "metadata": {},
   "outputs": [],
   "source": [
    "df_result.pivot_table(values='sum', index='group', columns=df_result.degree, aggfunc='first',fill_value=0).reset_index().to_excel('result_group.xlsx',encoding='UTF-8')"
   ]
  },
  {
   "cell_type": "code",
   "execution_count": null,
   "metadata": {},
   "outputs": [],
   "source": [
    "df2 = data.groupby(['group5','degree'])['time'].count().reset_index().reindex()"
   ]
  },
  {
   "cell_type": "code",
   "execution_count": null,
   "metadata": {},
   "outputs": [],
   "source": [
    "data.groupby(['group5','degree'])['time'].count().reset_index().reindex()"
   ]
  },
  {
   "cell_type": "code",
   "execution_count": null,
   "metadata": {},
   "outputs": [],
   "source": [
    "data.groupby(['group6','degree'])['time'].count().reset_index().reindex()"
   ]
  },
  {
   "cell_type": "markdown",
   "metadata": {
    "colab_type": "text",
    "id": "xtnAmYyfPYfT"
   },
   "source": [
    "### "
   ]
  },
  {
   "cell_type": "code",
   "execution_count": null,
   "metadata": {
    "colab": {},
    "colab_type": "code",
    "id": "sFHySi0EPYfV"
   },
   "outputs": [],
   "source": [
    "rotation = 45\n",
    "\n",
    "colors = ['orange','yellow','red']\n",
    "f,ax=plt.subplots(1,1,figsize=(18,8))\n",
    "sns.countplot('group4',hue='degree',data=data,order=data.group1.value_counts().iloc[:10].index, palette=sns.xkcd_palette(colors))\n",
    "ax.set_title('group 별 심각도')\n",
    "plt.xticks(rotation=rotation)\n",
    "plt.show()\n",
    "df = data.groupby(['group1','degree'])['time'].count().reindex().reset_index().sort_values('time',ascending=False)\n",
    "df.columns = ['group1','degree','count']\n",
    "df_1 = df[df['degree'] == '심각'].head(10)\n",
    "df_2 = df[df['degree'] == '경고'].head(10)\n",
    "df_3 = df[df['degree'] == '주의'].head(10)\n",
    "display_side_by_side(df_1,df_2,df_3)\n",
    "\n",
    "colors = ['orange','yellow','red']\n",
    "f,ax=plt.subplots(1,1,figsize=(18,8))\n",
    "sns.countplot('group5',hue='degree',data=data,order=data.group2.value_counts().iloc[:10].index, palette=sns.xkcd_palette(colors))\n",
    "ax.set_title('group2 심각도')\n",
    "plt.xticks(rotation=rotation)\n",
    "plt.show()\n",
    "df = data.groupby(['group2','degree'])['time'].count().reindex().reset_index().sort_values('time',ascending=False)\n",
    "df.columns = ['group2','degree','count']\n",
    "df_1 = df[df['degree'] == '심각'].head(10)\n",
    "df_2 = df[df['degree'] == '경고'].head(10)\n",
    "df_3 = df[df['degree'] == '주의'].head(10)\n",
    "display_side_by_side(df_1,df_2,df_3)\n",
    "\n",
    "colors = ['orange','yellow','red']\n",
    "f,ax=plt.subplots(1,1,figsize=(18,8))\n",
    "sns.countplot('group3',hue='degree',data=data,order=data.group3.value_counts().iloc[:10].index, palette=sns.xkcd_palette(colors))\n",
    "ax.set_title('group3 심각도')\n",
    "plt.xticks(rotation=rotation)\n",
    "plt.tick_params(axis='both', which='minor', labelsize=0.2)\n",
    "plt.show()\n",
    "df = data.groupby(['group6','degree'])['time'].count().reindex().reset_index().sort_values('time',ascending=False)\n",
    "df.columns = ['group6','degree','count']\n",
    "df_1 = df[df['degree'] == '심각'].head(10)\n",
    "df_2 = df[df['degree'] == '경고'].head(10)\n",
    "df_3 = df[df['degree'] == '주의'].head(10)\n",
    "display_side_by_side(df_1,df_2,df_3)\n",
    "\n",
    "colors = ['orange','yellow','red']\n",
    "f,ax=plt.subplots(1,1,figsize=(18,8))\n",
    "sns.countplot('hostname',hue='degree',data=data,order=data.hostname.value_counts().iloc[:10].index, palette=sns.xkcd_palette(colors))\n",
    "ax.set_title('시스템별 심각도')\n",
    "plt.xticks(rotation=rotation)\n",
    "plt.tick_params(axis='both', which='minor', labelsize=0.2)\n",
    "plt.show()\n",
    "df = data.groupby(['hostname','degree'])['time'].count().reindex().reset_index().sort_values('time',ascending=False)\n",
    "df.columns = ['hostname','degree','count']\n",
    "df_1 = df[df['degree'] == '심각'].head(10)\n",
    "df_2 = df[df['degree'] == '경고'].head(10)\n",
    "df_3 = df[df['degree'] == '주의'].head(10)\n",
    "display_side_by_side(df_1,df_2,df_3)\n",
    "\n",
    "colors = ['orange','yellow','red']\n",
    "f,ax=plt.subplots(1,1,figsize=(18,8))\n",
    "sns.countplot('alarm_name',hue='degree',data=data,order=data.alarm_name.value_counts().iloc[:10].index, palette=sns.xkcd_palette(colors))\n",
    "ax.set_title('알람 이름 별 심각도')\n",
    "plt.xticks(rotation=rotation)\n",
    "plt.tick_params(axis='both', which='minor', labelsize=0.2)\n",
    "plt.show()\n",
    "df = data.groupby(['alarm_name','degree'])['time'].count().reindex().reset_index().sort_values('time',ascending=False)\n",
    "df.columns = ['alarm_name','degree','count']\n",
    "df_1 = df[df['degree'] == '심각'].head(10)\n",
    "df_2 = df[df['degree'] == '경고'].head(10)\n",
    "df_3 = df[df['degree'] == '주의'].head(10)\n",
    "display_side_by_side(df_1,df_2,df_3)\n",
    "\n",
    "\n",
    "colors = ['orange','yellow','red']\n",
    "f,ax=plt.subplots(1,1,figsize=(18,8))\n",
    "sns.countplot('C_class',hue='degree',data=data,order=data.C_class.value_counts().iloc[:10].index, palette=sns.xkcd_palette(colors))\n",
    "ax.set_title('C_class')\n",
    "plt.xticks(rotation=rotation)\n",
    "plt.tick_params(axis='both', which='minor', labelsize=0.2)\n",
    "plt.show()\n",
    "df = data.groupby(['C_class','degree'])['time'].count().reindex().reset_index().sort_values('time',ascending=False)\n",
    "df.columns = ['C_class','degree','count']\n",
    "df_1 = df[df['degree'] == '심각'].head(10)\n",
    "df_2 = df[df['degree'] == '경고'].head(10)\n",
    "df_3 = df[df['degree'] == '주의'].head(10)\n",
    "display_side_by_side(df_1,df_2,df_3)\n",
    "\n",
    "\n",
    "colors = ['orange','yellow','red']\n",
    "f,ax=plt.subplots(1,1,figsize=(18,8))\n",
    "sns.countplot('B_class',hue='degree',data=data,order=data.B_class.value_counts().iloc[:10].index, palette=sns.xkcd_palette(colors))\n",
    "ax.set_title('B_class')\n",
    "plt.xticks(rotation=rotation)\n",
    "plt.tick_params(axis='both', which='minor', labelsize=0.2)\n",
    "plt.show()\n",
    "df = data.groupby(['B_class','degree'])['time'].count().reindex().reset_index().sort_values('time',ascending=False)\n",
    "df.columns = ['B_class','degree','count']\n",
    "df_1 = df[df['degree'] == '심각'].head(10)\n",
    "df_2 = df[df['degree'] == '경고'].head(10)\n",
    "df_3 = df[df['degree'] == '주의'].head(10)\n",
    "display_side_by_side(df_1,df_2,df_3)"
   ]
  },
  {
   "cell_type": "markdown",
   "metadata": {
    "colab_type": "text",
    "id": "ZXZmyN2LPYfc"
   },
   "source": [
    "### 3. time_date(특정일) time_hour(시간) time_weekday(요일) time_day(일) time_week(주) 별 알람 건수"
   ]
  },
  {
   "cell_type": "code",
   "execution_count": null,
   "metadata": {
    "colab": {},
    "colab_type": "code",
    "id": "Tik_1hudPYfd"
   },
   "outputs": [],
   "source": [
    "'''\n",
    "df = data.groupby(['hostname','time_date'])['time'].count().reindex().reset_index()\n",
    "df.columns =['hostname', 'time_date', 'total_count']\n",
    "df = df.pivot_table(values='total_count', index=df['time_date'], columns=df['hostname'], aggfunc='first',fill_value=0)\n",
    "df['total_count'] = df.sum(axis=1)\n",
    "df = df.sort_values('total_count',ascending=False)\n",
    "'''\n",
    "df_hour = data.groupby(['time_hour','degree'])['time'].count().reindex().reset_index()\n",
    "df_hour.columns = ['time_hour', 'degree' , 'total_count']\n",
    "\n",
    "data['time_weekday'] = data['time'].dt.weekday\n",
    "df_weekday = data.groupby(['time_weekday','degree'])['time'].count().reindex().reset_index()\n",
    "df_weekday.columns = ['time_weekday', 'degree' , 'total_count']\n",
    "\n",
    "df_days = data.groupby(['time_day','degree'])['time'].count().reindex().reset_index()\n",
    "df_days.columns = ['time_day', 'degree' , 'total_count']\n",
    "\n",
    "data['time_week'] = data['time'].dt.week\n",
    "df_week = data.groupby(['time_week','degree'])['time'].count().reindex().reset_index()\n",
    "df_week.columns = ['time_week', 'degree' , 'total_count']"
   ]
  },
  {
   "cell_type": "code",
   "execution_count": null,
   "metadata": {},
   "outputs": [],
   "source": [
    "df_month = data.groupby(['time_month','degree'])['time'].count().reindex().reset_index()\n",
    "df_month.columns = ['time_month', 'degree' , 'total_count']"
   ]
  },
  {
   "cell_type": "code",
   "execution_count": null,
   "metadata": {
    "colab": {},
    "colab_type": "code",
    "id": "Uz2nu2--PYfi"
   },
   "outputs": [],
   "source": [
    "df = data.groupby(['time_date','degree'])['time'].count().reindex().reset_index()\n",
    "df.columns = ['time_date', 'degree' , 'total_count']\n",
    "display_side_by_side(df[df.degree.str.match('심각')==True].sort_values('total_count', ascending=False).head(),\n",
    "        df[df.degree.str.match('주의')==True].sort_values('total_count', ascending=False).head(),\n",
    "        df[df.degree.str.match('경고')==True].sort_values('total_count', ascending=False).head())"
   ]
  },
  {
   "cell_type": "code",
   "execution_count": null,
   "metadata": {
    "colab": {},
    "colab_type": "code",
    "id": "2q7npPe1PYfq"
   },
   "outputs": [],
   "source": [
    "display_side_by_side(df_hour[df_hour.degree.str.match('심각')==True].sort_values('total_count', ascending=False).head(),\n",
    "df_hour[df_hour.degree.str.match('주의')==True].sort_values('total_count', ascending=False).head(),\n",
    "df_hour[df_hour.degree.str.match('경고')==True].sort_values('total_count', ascending=False).head())"
   ]
  },
  {
   "cell_type": "code",
   "execution_count": null,
   "metadata": {
    "colab": {},
    "colab_type": "code",
    "id": "6a49EByBPYfw"
   },
   "outputs": [],
   "source": [
    "display_side_by_side(df_days[df_days.degree.str.match('심각')==True].sort_values('total_count', ascending=False).head(),\n",
    "df_days[df_days.degree.str.match('주의')==True].sort_values('total_count', ascending=False).head(),\n",
    "df_days[df_days.degree.str.match('경고')==True].sort_values('total_count', ascending=False).head())"
   ]
  },
  {
   "cell_type": "code",
   "execution_count": null,
   "metadata": {
    "colab": {},
    "colab_type": "code",
    "id": "DcBr5acQPYf1"
   },
   "outputs": [],
   "source": [
    "display_side_by_side(df_weekday[df_weekday.degree.str.match('심각')==True].sort_values('total_count', ascending=False).head(),\n",
    "df_weekday[df_weekday.degree.str.match('주의')==True].sort_values('total_count', ascending=False).head(),\n",
    "df_weekday[df_weekday.degree.str.match('경고')==True].sort_values('total_count', ascending=False).head())\n"
   ]
  },
  {
   "cell_type": "code",
   "execution_count": null,
   "metadata": {
    "colab": {},
    "colab_type": "code",
    "id": "7XVvbxAaPYf7"
   },
   "outputs": [],
   "source": [
    "display_side_by_side(df_week[df_week.degree.str.match('심각')==True].sort_values('total_count', ascending=False).head(),\n",
    "df_week[df_week.degree.str.match('주의')==True].sort_values('total_count', ascending=False).head(),\n",
    "df_week[df_week.degree.str.match('경고')==True].sort_values('total_count', ascending=False).head())\n"
   ]
  },
  {
   "cell_type": "code",
   "execution_count": null,
   "metadata": {},
   "outputs": [],
   "source": [
    "display_side_by_side(df_month[df_month.degree.str.match('심각')==True].sort_values('total_count', ascending=False).head(),\n",
    "df_month[df_month.degree.str.match('주의')==True].sort_values('total_count', ascending=False).head(),\n",
    "df_month[df_month.degree.str.match('경고')==True].sort_values('total_count', ascending=False).head())\n"
   ]
  },
  {
   "cell_type": "code",
   "execution_count": null,
   "metadata": {
    "colab": {},
    "colab_type": "code",
    "id": "CCdfvtZiPYgC",
    "scrolled": false
   },
   "outputs": [],
   "source": [
    "#colors = ['orange','red','yellow']\n",
    "#sns.set(style=\"ticks\",rc={\"lines.linewidth\": 0.7})\n",
    "sns.factorplot(data=df, x=\"time_date\", y=\"total_count\",hue='degree',legend_out=True,markers=['None','None','None'] ,size=3, aspect=4)\n",
    "plt.xticks(rotation='vertical')\n",
    "plt.title('일자별 알람 추이')"
   ]
  },
  {
   "cell_type": "code",
   "execution_count": null,
   "metadata": {},
   "outputs": [],
   "source": [
    "sns.factorplot(data=df_hour, x=\"time_hour\", y=\"total_count\",hue='degree',legend_out=True, size=3, aspect=4)\n",
    "plt.title('시간별 알람 추이')\n",
    "\n",
    "sns.factorplot(data=df_days, x=\"time_day\", y=\"total_count\",hue='degree',legend_out=True, size=3, aspect=4)\n",
    "plt.title('일자별 알람 추이(1일~31일)')\n",
    "sns.factorplot(data=df_weekday, x=\"time_weekday\", y=\"total_count\",hue='degree',legend_out=True, size=3, aspect=4)\n",
    "plt.title('요일별 알람 추이')\n",
    "sns.factorplot(data=df_week, x=\"time_week\", y=\"total_count\",hue='degree',legend_out=True, size=3, aspect=4)\n",
    "plt.title('주별 알람 추이')\n",
    "sns.factorplot(data=df_month, x=\"time_month\", y=\"total_count\",hue='degree',legend_out=True, size=3, aspect=4)\n",
    "plt.title('월별 알람 추이')"
   ]
  },
  {
   "cell_type": "code",
   "execution_count": null,
   "metadata": {},
   "outputs": [],
   "source": [
    "sns.factorplot(data=df_month, x=\"time_month\", y=\"total_count\",hue='degree',legend_out=True, size=3, aspect=4)\n",
    "plt.title('월별 알람 추이')"
   ]
  },
  {
   "cell_type": "markdown",
   "metadata": {
    "colab_type": "text",
    "id": "nWjrN-XePYgH"
   },
   "source": [
    "### 4. 특정 일에 발생한 알람 확인을 위한 코드"
   ]
  },
  {
   "cell_type": "code",
   "execution_count": null,
   "metadata": {
    "colab": {},
    "colab_type": "code",
    "id": "jIBRczC_PYgJ"
   },
   "outputs": [],
   "source": [
    "df = data.groupby(['time_date','degree','alarm_name','hostname','condition'])['ip'].count().reindex().reset_index()\n",
    "df.columns = ['time_date', 'degree' ,'alarm_name','hostname','condition', 'total_count']\n",
    "\n",
    "display(df[df['degree'] == '심각'].sort_values('total_count', ascending=False).head(30))\n",
    "display(df[df['degree'] == '경고'].sort_values('total_count', ascending=False).head(30))\n",
    "display(df[df['degree'] == '주의'].sort_values('total_count', ascending=False).head(30))"
   ]
  },
  {
   "cell_type": "markdown",
   "metadata": {
    "colab_type": "text",
    "id": "M9FaMi72PYgO"
   },
   "source": [
    "df = data.groupby(['time_date_hour','degree'])['ip'].count().reindex().reset_index()\n",
    "df.columns = ['time_date_hour', 'degree' , 'total_count']\n",
    "\n",
    "sns.factorplot(data=df, x=\"time_date_hour\", y=\"total_count\",hue='degree',legend_out=True, size=20, aspect=4 ,)\n",
    "plt.xticks(rotation='vertical')\n",
    "plt.title('시간별 알람 추이')\n",
    "\n",
    "display(df[df['degree'] == '심각'].sort_values('total_count', ascending=False).head())\n",
    "index_time = df[df['degree'] == '심각'].sort_values('total_count', ascending=False).head().time_date\n",
    "for time in index_time:\n",
    "   df[(df['degree'] == '심각')&(df['time'].astype('str').isin(time))]).sort_values('total_count', ascending=False).head(10))\n",
    "\n",
    "((df['degree'] == '심각')&(df['time'].astype('str').isin(time)))\n",
    "#display(df[df['degree'] == '경고'].sort_values('total_count', ascending=False).head())\n",
    "#display(df[df['degree'] == '주의'].sort_values('total_count', ascending=False).head())"
   ]
  },
  {
   "cell_type": "code",
   "execution_count": null,
   "metadata": {
    "colab": {},
    "colab_type": "code",
    "id": "NS3_K04GPYgR"
   },
   "outputs": [],
   "source": [
    "df = data.groupby(['time','degree','alarm_name','hostname','condition'])['ip'].count().reindex().reset_index()\n",
    "df.columns = ['time', 'degree' ,'alarm_name','hostname','condition', 'total_count']\n",
    "\n",
    "display_side_by_side(df[df['degree'] == '심각'].sort_values('total_count', ascending=False).head(10))\n",
    "display_side_by_side(df[df['degree'] == '경고'].sort_values('total_count', ascending=False).head(10))\n",
    "display_side_by_side(df[df['degree'] == '주의'].sort_values('total_count', ascending=False).head(10))"
   ]
  },
  {
   "cell_type": "markdown",
   "metadata": {
    "colab_type": "text",
    "id": "ImJUAQeFPYgc"
   },
   "source": [
    "### 5. 발생 알람 건수 분포 히스토그램"
   ]
  },
  {
   "cell_type": "code",
   "execution_count": null,
   "metadata": {
    "colab": {},
    "colab_type": "code",
    "id": "Uzi7iDaLPYge"
   },
   "outputs": [],
   "source": [
    "df = data.groupby(['hostname'])['alarm_name'].count().reindex().reset_index()\n",
    "sns.distplot( df[\"alarm_name\"], bins=100 )"
   ]
  },
  {
   "cell_type": "code",
   "execution_count": null,
   "metadata": {
    "colab": {},
    "colab_type": "code",
    "id": "MD_d50rMPYgj"
   },
   "outputs": [],
   "source": [
    "df.sort_values('alarm_name',ascending=False)"
   ]
  },
  {
   "cell_type": "markdown",
   "metadata": {
    "colab_type": "text",
    "id": "gvzuciHhPYgo"
   },
   "source": [
    "### 6. 노드 단위로 발생 알람 건수를 groupby 해서 75% (3분위 수) 120건 미만으로 발생한 노드는 제외함 (Cluster Step 1)"
   ]
  },
  {
   "cell_type": "markdown",
   "metadata": {
    "colab_type": "text",
    "id": "1cejVgGMPYgo"
   },
   "source": [
    "display(df[(df['degree'] == '심각')&((df['time'] >= '2018-07-21')&(df['time'] <= '2018-07-22'))].sort_values('total_count', ascending=False).head(100))\n"
   ]
  },
  {
   "cell_type": "code",
   "execution_count": null,
   "metadata": {
    "colab": {},
    "colab_type": "code",
    "id": "eNpO9d5APYgp",
    "scrolled": true
   },
   "outputs": [],
   "source": [
    "data_df = data.groupby(['hostname'])['time'].count().reindex().reset_index()\n",
    "data_df.sort_values('time',ascending=False)\n",
    "len(data_df[(data_df.time >= 1)&(data_df.time < 1000)])"
   ]
  },
  {
   "cell_type": "code",
   "execution_count": null,
   "metadata": {},
   "outputs": [],
   "source": [
    "len(data.hostname.unique())"
   ]
  },
  {
   "cell_type": "code",
   "execution_count": null,
   "metadata": {},
   "outputs": [],
   "source": [
    "data_df = data.groupby(['hostname'])['time'].count().reindex().reset_index()"
   ]
  },
  {
   "cell_type": "code",
   "execution_count": null,
   "metadata": {
    "colab": {},
    "colab_type": "code",
    "id": "0s7C0LftPYgr",
    "scrolled": true
   },
   "outputs": [],
   "source": [
    "data_df = data_df.rename(columns={'time': 'count'})"
   ]
  },
  {
   "cell_type": "code",
   "execution_count": null,
   "metadata": {
    "colab": {},
    "colab_type": "code",
    "id": "PS8Ajv2rPYgu",
    "scrolled": true
   },
   "outputs": [],
   "source": [
    "data_df.describe()"
   ]
  },
  {
   "cell_type": "code",
   "execution_count": null,
   "metadata": {
    "colab": {},
    "colab_type": "code",
    "id": "0p3WMilmPYg1",
    "scrolled": true
   },
   "outputs": [],
   "source": [
    "data_df = data_df[data_df['count'] > 1000]"
   ]
  },
  {
   "cell_type": "code",
   "execution_count": null,
   "metadata": {
    "colab": {},
    "colab_type": "code",
    "id": "jrTLluLsPYg9",
    "scrolled": true
   },
   "outputs": [],
   "source": [
    "node_names = data_df.sort_values('count',ascending=False).hostname.values"
   ]
  },
  {
   "cell_type": "code",
   "execution_count": null,
   "metadata": {
    "colab": {},
    "colab_type": "code",
    "id": "0RJ_PLDUPYhG",
    "scrolled": true
   },
   "outputs": [],
   "source": [
    "c_nodes = data[data['hostname'].isin(node_names)==True]"
   ]
  },
  {
   "cell_type": "code",
   "execution_count": null,
   "metadata": {
    "colab": {},
    "colab_type": "code",
    "id": "EsNM_-3TPYhJ",
    "scrolled": true
   },
   "outputs": [],
   "source": [
    "data_df_date = c_nodes.groupby(['time_date','hostname'])['time'].count().reindex().reset_index()\n",
    "data_df_date = data_df_date.pivot_table(values='time',columns='hostname',index=data_df_date['time_date'],aggfunc='first',fill_value=0)"
   ]
  },
  {
   "cell_type": "markdown",
   "metadata": {
    "colab_type": "text",
    "id": "OPHsIWOFPYhP"
   },
   "source": [
    "### 7. 노드별로 1달 동안 일별로 발생한 알람 건수를 가지고 각 노드들 끼리 알람 건수에 대한 상관도 측정 (Cluster Step 2)"
   ]
  },
  {
   "cell_type": "markdown",
   "metadata": {
    "colab_type": "text",
    "id": "Um1EaErjPYhW",
    "scrolled": false
   },
   "source": [
    "for node in data_df_date.reindex(sorted(data_df_date.columns), axis=1).columns:\n",
    "    print('>>>>>>>> '+node)\n",
    "    fig = plt.figure(figsize=(15, 7))\n",
    "    ax1 = fig.add_subplot(2, 1, 1)\n",
    "    ax2 = fig.add_subplot(2, 1, 2)\n",
    "    plt.subplots_adjust(top=0.5)\n",
    "    ax2.axis('off')\n",
    "    ax2.axis('tight')\n",
    "    c_nodes = data[data['system_name']==node]\n",
    "    dataset = c_nodes.groupby(['time_date','alarm_name'])['time'].count().reindex().reset_index().sort_values('time', ascending=False).head(10)\n",
    "    ax2.table(cellText=dataset.values, colLabels=dataset.columns, loc='bottom')\n",
    "    plt.setp(ax1.get_xticklabels(), rotation=90)\n",
    "    sns.pointplot(x=data_df_date.index, y=node, data=data_df_date,ax=ax1,rotation=90)\n",
    "    plt.show()\n",
    "    plt.clf()"
   ]
  },
  {
   "cell_type": "code",
   "execution_count": null,
   "metadata": {
    "colab": {},
    "colab_type": "code",
    "id": "lVxWabo9PYhX",
    "scrolled": true
   },
   "outputs": [],
   "source": [
    "corrmat = data_df_date.corr()"
   ]
  },
  {
   "cell_type": "markdown",
   "metadata": {
    "colab_type": "text",
    "id": "ondg0_qhPYha"
   },
   "source": [
    "### 8. 상관분석 결과 (Cluster Step 3)"
   ]
  },
  {
   "cell_type": "code",
   "execution_count": null,
   "metadata": {
    "colab": {},
    "colab_type": "code",
    "id": "Rsu_Ksa1PYhb"
   },
   "outputs": [],
   "source": [
    "corrmat[corrmat.index == '']"
   ]
  },
  {
   "cell_type": "code",
   "execution_count": null,
   "metadata": {
    "colab": {},
    "colab_type": "code",
    "id": "hNjzn_5dPYhi",
    "scrolled": false
   },
   "outputs": [],
   "source": [
    "f, ax = plt.subplots(figsize=(100,100))\n",
    "sns_plot = sns.heatmap(corrmat, ax=ax, cmap=\"YlGnBu\", linewidths=0.1)\n",
    "sns_plot.figure.savefig(\"output.png\")"
   ]
  },
  {
   "cell_type": "markdown",
   "metadata": {
    "colab_type": "text",
    "id": "G4oZY0vzPYhs"
   },
   "source": [
    "### 9. 상관분석 결과 상관도가 90% 이상인 노드들끼리 클러스터링 (Cluster Result)"
   ]
  },
  {
   "cell_type": "code",
   "execution_count": null,
   "metadata": {
    "colab": {},
    "colab_type": "code",
    "id": "85CgGc4ZPYht",
    "scrolled": true
   },
   "outputs": [],
   "source": [
    "clusters = []\n",
    "for node in corrmat.columns:\n",
    "    clusters.append(corrmat[corrmat[node] >= 0.9].index)\n",
    "clusters_new = []\n",
    "for cluster in clusters:\n",
    "    if len(cluster) > 1:\n",
    "        clusters_new.append(list(cluster))\n",
    "clusters_new = list(set([tuple(set(node)) for node in clusters_new]))\n",
    "\n",
    "dictt = {}\n",
    "for i in range(0,len(clusters_new)):\n",
    "    dictt.update({'cluster{}'.format(i) : list(clusters_new[i])})\n",
    "\n",
    "#pd.concat([pd.Series(clusters_new[0],name='cluster0'),pd.Series(clusters_new[1],name='cluster1')], axis=1)\n",
    "#for i in range(2,len(clusters_new)):\n",
    "#    df = pd.concat([df,pd.Series(clusters_new[i],name='cluster{}'.format(i))], axis=1)\n",
    "#df.fillna('',inplace=True)"
   ]
  },
  {
   "cell_type": "code",
   "execution_count": null,
   "metadata": {
    "colab": {},
    "colab_type": "code",
    "id": "OB7JAekfPYhx"
   },
   "outputs": [],
   "source": [
    "len(clusters_new)"
   ]
  },
  {
   "cell_type": "code",
   "execution_count": null,
   "metadata": {},
   "outputs": [],
   "source": [
    "clusters_new = [['']]"
   ]
  },
  {
   "cell_type": "markdown",
   "metadata": {
    "colab_type": "text",
    "id": "yDjE7wS6PYh1"
   },
   "source": [
    "### 10. 클러스터에 속한 각각의 노드의 한달 알람 발생 추의와 주요 알람 지표를 출력 (Visualization for Cluster Result)"
   ]
  },
  {
   "cell_type": "code",
   "execution_count": null,
   "metadata": {
    "colab": {},
    "colab_type": "code",
    "id": "Sncyh6JbPYh3",
    "scrolled": false
   },
   "outputs": [],
   "source": [
    "for cluster in clusters_new:\n",
    "    print('######### '+ str(cluster))\n",
    "    for node in cluster:\n",
    "        print('>>>>>>>> '+node)\n",
    "        fig = plt.figure(figsize=(15, 7))\n",
    "        ax1 = fig.add_subplot(2, 1, 1)\n",
    "        ax2 = fig.add_subplot(2, 1, 2)\n",
    "        plt.subplots_adjust(top=0.5)\n",
    "        ax2.axis('off')\n",
    "        ax2.axis('tight')\n",
    "        c_nodes = data[data['hostname']==node]\n",
    "        dataset = c_nodes.groupby(['time_date','alarm_name'])['time'].count().reindex().reset_index().sort_values('time', ascending=False).head(10)\n",
    "        ax2.table(cellText=dataset.values, colLabels=dataset.columns, loc='bottom')\n",
    "        plt.setp(ax1.get_xticklabels(), rotation=90)\n",
    "        sns.pointplot(x=data_df_date.index, y=node, data=data_df_date,ax=ax1,rotation=90)\n",
    "        plt.show()\n",
    "        plt.clf()"
   ]
  },
  {
   "cell_type": "markdown",
   "metadata": {
    "colab_type": "text",
    "id": "p9ATUV48PYh9"
   },
   "source": [
    "### 10-1 클러스터 별로 한달 알람 발생 추의와 주요 알람 지표를 출력"
   ]
  },
  {
   "cell_type": "code",
   "execution_count": null,
   "metadata": {
    "colab": {},
    "colab_type": "code",
    "id": "7l3BDuxOPYh-"
   },
   "outputs": [],
   "source": [
    "data_df_date = data_df_date.reset_index()"
   ]
  },
  {
   "cell_type": "code",
   "execution_count": null,
   "metadata": {
    "colab": {},
    "colab_type": "code",
    "id": "pxSBOckZPYiB"
   },
   "outputs": [],
   "source": [
    "#plt.legend(fontsize='x-large', title_fontsize='40')\n",
    "#sns.set(font_scale=1.5,style='ticks',font=font_name,rc={\"lines.linewidth\": 0.7})\n",
    "i = 0\n",
    "for cluster in clusters_new:\n",
    "    print('>>>>>>>>>cluster{}'.format(i))\n",
    "    test_data = pd.melt(data_df_date, id_vars=['time_date'],value_vars=cluster)\n",
    "    fig = plt.figure(figsize=(15, 7))\n",
    "    ax = sns.pointplot(x=\"time_date\", y=\"value\",hue=test_data.hostname, data=test_data)\n",
    "    plt.xticks(rotation='vertical')\n",
    "    plt.show()\n",
    "    plt.clf()\n",
    "    i += 1"
   ]
  },
  {
   "cell_type": "code",
   "execution_count": null,
   "metadata": {
    "scrolled": false
   },
   "outputs": [],
   "source": [
    "i = 0\n",
    "c_nodes = data[data['hostname'].isin(clusters_new[17])]\n",
    "c_nodes = c_nodes.groupby(['time_date','alarm_name','hostname'])['time'].count().reindex().reset_index().sort_values('time_date', ascending=True)\n",
    "c_nodes = c_nodes.groupby(['alarm_name','hostname'])['time'].sum().reindex().reset_index().sort_values('time', ascending=False)\n",
    "c_nodes = c_nodes[c_nodes.time > 50]\n",
    "display_side_by_side(c_nodes)"
   ]
  },
  {
   "cell_type": "code",
   "execution_count": null,
   "metadata": {
    "colab": {},
    "colab_type": "code",
    "id": "qjeU-OHzPYiM"
   },
   "outputs": [],
   "source": [
    "i = 0\n",
    "for cluster in clusters_new:\n",
    "    print('>>>>>>>cluster{}\\n{}'.format(i,cluster))\n",
    "    c_nodes = data[data['hostname'].isin(cluster)]\n",
    "    c_nodes = c_nodes.groupby(['time_date','alarm_name','hostname'])['time'].count().reindex().reset_index().sort_values('time_date', ascending=True)\n",
    "    c_nodes = c_nodes.groupby(['alarm_name','hostname'])['time'].sum().reindex().reset_index().sort_values('time', ascending=False)\n",
    "    c_nodes = c_nodes[c_nodes.time > 100]\n",
    "    display_side_by_side(c_nodes)\n",
    "    i += 1"
   ]
  },
  {
   "cell_type": "markdown",
   "metadata": {
    "colab_type": "text",
    "id": "rrGt0wy9PYiR"
   },
   "source": [
    "data[(data.system_name == 'tsgwap') & (data.time_date=='2018-08-03')]"
   ]
  },
  {
   "cell_type": "markdown",
   "metadata": {
    "colab_type": "text",
    "id": "yJDeULYpPYiS"
   },
   "source": [
    "pd.set_option('display.max_colwidth', -1)\n",
    "data[(data.system_name == 'tsgwap') & (data.time_date=='2018-08-03')].condition"
   ]
  },
  {
   "cell_type": "markdown",
   "metadata": {
    "colab_type": "text",
    "id": "ysXvTWNbPYiS"
   },
   "source": [
    "### 11-1. 클러스터 0번에 속한 노드의 주요 지표 디스크 Top I/O 처리율에 대한 노드별 심각도 알람 건수 추이 출력\n",
    "> (클러스터 0번이 첫번재 결과라 선택 함) - cluster0 ('HFEU-TREC234', 'HKCC-TREC231', 'HKCC-TREC236')\n",
    "> 날짜별 현황"
   ]
  },
  {
   "cell_type": "code",
   "execution_count": null,
   "metadata": {
    "colab": {},
    "colab_type": "code",
    "id": "Kp1mBotBPYiT"
   },
   "outputs": [],
   "source": [
    "df = data[(data.alarm_name == 'CPU Wait Process 수') & (data['hostname'].isin(clusters_new[1]))]\n",
    "#df = df[df['system_name'] == clusters_new[0][0]]\n",
    "df = df.groupby(['time_date','degree','hostname'])['ip'].count().reindex().reset_index()\n",
    "for node in clusters_new[1]:\n",
    "    df_2 = df[df['hostname'] == node]\n",
    "    df_2 = df_2.pivot_table(values='ip', index=df.time_date, columns='degree', aggfunc='first',fill_value=0).reset_index()\n",
    "    display(df_2)\n",
    "    df_2 = pd.melt(df_2,id_vars=['time_date'],value_vars=['주의','경고','심각'])\n",
    "    #display(df_2)\n",
    "    sns.factorplot(data=df_2, x=\"time_date\", y=\"value\",hue='degree',legend_out=True, size=3, aspect=4)\n",
    "    plt.title(node)\n",
    "    plt.xticks(rotation='vertical')"
   ]
  },
  {
   "cell_type": "markdown",
   "metadata": {
    "colab_type": "text",
    "id": "x2MXf0xDPYib"
   },
   "source": [
    "> #### 234 서버는 주말 관계없이 알람이 발생하는 하므로 서버 리소스 사용률이 평소에도 높은것으로 추측\n",
    "> #### 231,236 서버는 주말에 알람이 거의 발생하지 않는 것으로 확인"
   ]
  },
  {
   "cell_type": "markdown",
   "metadata": {
    "colab_type": "text",
    "id": "qOao-uaCPYic"
   },
   "source": [
    "### 11-2. 클러스터 0번에 속한 노드의 주요 지표 디스크 Top I/O 처리율에 대한 노드별 심각도 알람 건수 추이 출력\n",
    "> (클러스터 0번이 첫번재 결과라 선택 함) - cluster0 ('HFEU-TREC234', 'HKCC-TREC231', 'HKCC-TREC236')\n",
    "> 요일별 현황"
   ]
  },
  {
   "cell_type": "code",
   "execution_count": null,
   "metadata": {
    "colab": {},
    "colab_type": "code",
    "id": "fC2ZVJHXPYie"
   },
   "outputs": [],
   "source": [
    "df = data[(data.alarm_name == '디스크 Top I/O 처리율') & (data['system_name'].isin(clusters_new[0]))]\n",
    "#df = df[df['system_name'] == clusters_new[0][0]]\n",
    "df = df.groupby(['time_weekday','degree','system_name'])['ip'].count().reindex().reset_index()\n",
    "for node in clusters_new[0]:\n",
    "    df_2 = df[df['system_name'] == node]\n",
    "    df_2 = df_2.pivot_table(values='ip', index=df.time_weekday, columns='degree', aggfunc='first',fill_value=0).reset_index()\n",
    "    df_2 = pd.melt(df_2,id_vars=['time_weekday'],value_vars=['주의','경고','심각'])\n",
    "    display(df_2)\n",
    "    sns.factorplot(data=df_2, x=\"time_weekday\", y=\"value\",hue='degree',legend_out=True, size=3, aspect=4)\n",
    "    plt.title(node)"
   ]
  },
  {
   "cell_type": "markdown",
   "metadata": {},
   "source": [
    "## 3그룹 - CPUs 사용률\n",
    "### 심각 : 100% 이상\n",
    "### 경고 : 90% 이상\n",
    "### 주의 : 80% 이상"
   ]
  },
  {
   "cell_type": "code",
   "execution_count": null,
   "metadata": {},
   "outputs": [],
   "source": [
    "clusters_new = ['']"
   ]
  },
  {
   "cell_type": "code",
   "execution_count": null,
   "metadata": {},
   "outputs": [],
   "source": [
    "df = data[(data.alarm_name == 'TrafficRx') & (data['hostname'].isin(clusters_new))]\n",
    "print(df)\n",
    "condition  = df.condition.str.split(' ', expand=True)\n",
    "print(condition)\n",
    "df['type'] = condition[6]\n",
    "df['threshold'] = condition[5].str.extract('(\\d+(?:\\.\\d+)?)').astype(float)\n",
    "df['current'] = condition[2].str.extract('(\\d+(?:\\.\\d+)?)').astype(float)\n",
    "print(df.threshold.unique())\n",
    "df['current'] = np.where(condition[3]=='Gbps',df['current']*1000,df['current'])\n",
    "print(df[df['threshold']==8][['threshold','degree','type']])\n",
    "df_raw = df.groupby(['time','hostname','degree'])['current'].mean().reindex().reset_index()\n",
    "df_hour = df.groupby(['time_date_hour','hostname','degree'])['current'].agg(['mean', 'min', 'max']).reindex().reset_index()\n",
    "#display(df_hour)\n",
    "for i,node in enumerate(clusters_new):\n",
    "    print(node)\n",
    "    df_2 = df_raw[df_raw['hostname'] == node]\n",
    "    df_2 = df_2.pivot_table(values='current', index=df_2.time, columns='degree', aggfunc='first',fill_value=(np.NaN)).reset_index()\n",
    "    df_2['merge'] = df_2.sum(axis=1)\n",
    "    display(df_2)\n",
    "    df_2.to_excel(str(i)+'.xlsx',encoding='UTF-8')\n",
    "    df_3 = df_hour[df_hour['hostname'] == node]\n",
    "    df_3.to_excel(str(i)+'_hour.xlsx',encoding='UTF-8')\n",
    "    #df_2 = pd.melt(df_2,id_vars=['time'],value_vars=['주의','경고','심각'])\n",
    "    #df_2['merge'] = df_2.sum(axis=1)\n",
    "    #display(df_2)\n",
    "\n",
    " "
   ]
  },
  {
   "cell_type": "code",
   "execution_count": null,
   "metadata": {},
   "outputs": [],
   "source": [
    "df = data[(data.alarm_name == 'CPUs 사용률') & (data['hostname'].isin(clusters_new))]\n",
    "print(df.condition)\n",
    "condition  = df.condition.str.split(' ', expand=True)\n",
    "df['threshold'] = condition[4].str.extract('(\\d+(?:\\.\\d+)?)').astype(float)\n",
    "df['current'] = condition[1].str.extract('(\\d+(?:\\.\\d+)?)').astype(float)\n",
    "print(df.threshold.unique())\n",
    "df_raw = df.groupby(['time','hostname','degree'])['current'].mean().reindex().reset_index()\n",
    "df_hour = df.groupby(['time_date_hour','hostname','degree'])['current'].agg(['mean', 'min', 'max']).reindex().reset_index()\n",
    "#display(df_hour)\n",
    "for i,node in enumerate(clusters_new):\n",
    "    print(node)\n",
    "    df_2 = df_raw[df_raw['hostname'] == node]\n",
    "    df_2 = df_2.pivot_table(values='current', index=df_2.time, columns='degree', aggfunc='first',fill_value=(np.NaN)).reset_index()\n",
    "    df_2['merge'] = df_2.sum(axis=1)\n",
    "    #display(df_2)\n",
    "    df_2.to_excel(str(i)+'.xlsx',encoding='UTF-8')\n",
    "    df_3 = df_hour[df_hour['hostname'] == node]\n",
    "    df_3.to_excel(str(i)+'_hour.xlsx',encoding='UTF-8')\n",
    "    #df_2 = pd.melt(df_2,id_vars=['time'],value_vars=['주의','경고','심각'])\n",
    "    #df_2['merge'] = df_2.sum(axis=1)\n",
    "    #display(df_2)\n",
    "\n",
    " "
   ]
  },
  {
   "cell_type": "markdown",
   "metadata": {},
   "source": [
    "df = data[(data.alarm_name == 'CPUs 사용률') & (data['hostname'].isin(clusters_new))]\n",
    "condition  = df.condition.str.split(' ', expand=True)\n",
    "df['threshold'] = condition[4].str.extract('(\\d+(?:\\.\\d+)?)').astype(float)\n",
    "df['current'] = condition[1].str.extract('(\\d+(?:\\.\\d+)?)').astype(float)\n",
    "print(df.threshold.unique())\n",
    "df_raw = df.groupby(['time','hostname','degree'])['current'].mean().reindex().reset_index()\n",
    "df_hour = df.groupby(['time_date_hour','hostname','degree'])['current'].agg(['mean', 'min', 'max']).reindex().reset_index()\n",
    "#display(df_hour)\n",
    "for i,node in enumerate(clusters_new):\n",
    "    print(node)\n",
    "    df_2 = df_raw[df_raw['hostname'] == node]\n",
    "    df_2 = df_2.pivot_table(values='current', index=df_2.time, columns='degree', aggfunc='first',fill_value=(np.NaN)).reset_index()\n",
    "    df_2['merge'] = df_2.sum(axis=1)\n",
    "    df_2 = pd.melt(df_2,id_vars=['time'],value_vars=['주의','경고','심각'])\n",
    "    display(df_2)\n",
    "    #sns.distplot(df_2[\"merge\"], bins=50 )\n",
    "    sns.pointplot(x=\"time\", y=\"value\", hue=\"degree\", data=df_2, scale=0.2)\n",
    "    sns.pairplot(df_2, \n",
    "             diag_kind='auto',\n",
    "             hue=\"degree\", \n",
    "             palette='bright') # pastel, bright, deep, muted, colorblind, dark\n",
    "    plt.show()\n",
    "    plt.clf()\n",
    "    #display(df_2)\n",
    "    df_3 = df_hour[df_hour['hostname'] == node]\n",
    "    #df_2 = pd.melt(df_2,id_vars=['time'],value_vars=['주의','경고','심각'])\n",
    "    #df_2['merge'] = df_2.sum(axis=1)\n",
    "    #display(df_2)\n",
    "\n",
    " "
   ]
  },
  {
   "cell_type": "code",
   "execution_count": null,
   "metadata": {},
   "outputs": [],
   "source": [
    "clusters_new = ['']\n",
    "df = data[(data.alarm_name == 'CPUs 사용률') & (data['hostname'].isin(clusters_new))]\n",
    "condition  = df.condition.str.split(' ', expand=True)\n",
    "df['threshold'] = condition[4].str.extract('(\\d+(?:\\.\\d+)?)').astype(float)\n",
    "df['current'] = condition[1].str.extract('(\\d+(?:\\.\\d+)?)').astype(float)\n",
    "print(df.threshold.unique())\n",
    "df_raw = df.groupby(['time','hostname','degree'])['current'].mean().reindex().reset_index()\n",
    "df_hour = df.groupby(['time_date_hour','hostname','degree'])['current'].agg(['mean', 'min', 'max']).reindex().reset_index()\n",
    "#display(df_hour)\n",
    "for node in clusters_new:\n",
    "    print(node)\n",
    "    df_2 = df_raw[df_raw['hostname'] == node]\n",
    "    df_2 = df_2.pivot_table(values='current', index=df_2.time, columns='degree', aggfunc='first',fill_value=(np.NaN)).reset_index()\n",
    "    df_2['merge'] = df_2.sum(axis=1)\n",
    "    display(df_2)\n",
    "    df_3 = df_hour[df_hour['hostname'] == node]\n",
    "    display(df_3)\n",
    "    #df_2 = pd.melt(df_2,id_vars=['time'],value_vars=['주의','경고','심각'])\n",
    "    #df_2['merge'] = df_2.sum(axis=1)\n",
    "    #display(df_2)"
   ]
  },
  {
   "cell_type": "markdown",
   "metadata": {},
   "source": [
    "## 4그룹 - ErrorRx\n",
    "#### 심각 : >  30,  3회  연속\n",
    "#### 주의 : 범위    안   5     ~   30,    3회  연속)]"
   ]
  },
  {
   "cell_type": "code",
   "execution_count": null,
   "metadata": {},
   "outputs": [],
   "source": [
    "clusters_new = ['']\n",
    "df = data[(data.alarm_name == 'ErrorRx') & (data['hostname'].isin(clusters_new))]\n",
    "condition  = df.condition.str.split(' ', expand=True)\n",
    "#df['threshold'] = condition[1].str.extract('(\\d+(?:\\.\\d+)?)').astype(float)\n",
    "df['current'] = condition[2].str.extract('(\\d+(?:\\.\\d+)?)').astype(float)\n",
    "#df = df.groupby(['time','hostname','degree'])['current'].mean().reindex().reset_index()\n",
    "#display(df)\n",
    "for node in clusters_new:\n",
    "    print(node)\n",
    "    df_2 = df[df['hostname'] == node]\n",
    "    df_2 = df_2.pivot_table(values='current', index=df_2.time, columns='degree', aggfunc='first',fill_value=(np.NaN)).reset_index()\n",
    "    display(df_2)\n",
    "    print(df_2.describe())\n",
    "    df_2 = pd.melt(df_2,id_vars=['time'],value_vars=['주의','경고','심각'])\n",
    "    #display(df_2)"
   ]
  },
  {
   "cell_type": "markdown",
   "metadata": {},
   "source": [
    "## 5그룹 - CPUs 사용률\n",
    "### 심각 : 100% 이상\n",
    "### 경고 : 90% 이상\n",
    "### 주의 : 80% 이상"
   ]
  },
  {
   "cell_type": "code",
   "execution_count": null,
   "metadata": {},
   "outputs": [],
   "source": [
    "clusters_new = ['']\n",
    "df = data[(data.alarm_name == 'CPUs 사용률') & (data['hostname'].isin(clusters_new))]\n",
    "condition  = df.condition.str.split(' ', expand=True)\n",
    "df['threshold'] = condition[4].str.extract('(\\d+(?:\\.\\d+)?)').astype(float)\n",
    "df['current'] = condition[1].str.extract('(\\d+(?:\\.\\d+)?)').astype(float)\n",
    "print(df.threshold.unique())\n",
    "df = df.groupby(['time','hostname','degree'])['current'].mean().reindex().reset_index()\n",
    "for node in clusters_new:\n",
    "    print(node)\n",
    "    df_2 = df[df['hostname'] == node]\n",
    "    df_2 = df_2.pivot_table(values='current', index=df_2.time, columns='degree', aggfunc='first',fill_value=(np.NaN)).reset_index()\n",
    "    display(df_2)\n",
    "    print(df_2.describe())\n",
    "    df_2 = pd.melt(df_2,id_vars=['time'],value_vars=['주의','경고','심각'])\n",
    "    #display(df_2)"
   ]
  },
  {
   "cell_type": "markdown",
   "metadata": {},
   "source": [
    "## 6그룹 - CPUs 사용률\n",
    "### 심각 : 100% 이상\n",
    "### 경고 : 90% 이상\n",
    "### 주의 : 80% 이상\n",
    "## CPU Wait Process 수\n",
    "### 경고 : 20 이상\n",
    "### 주의 : 15 이상"
   ]
  },
  {
   "cell_type": "code",
   "execution_count": null,
   "metadata": {},
   "outputs": [],
   "source": [
    "clusters_new = ['']\n",
    "df = data[(data.alarm_name == 'CPUs 사용률') & (data['hostname'].isin(clusters_new))]\n",
    "condition  = df.condition.str.split(' ', expand=True)\n",
    "df['threshold'] = condition[4].str.extract('(\\d+(?:\\.\\d+)?)').astype(float)\n",
    "df['current'] = condition[1].str.extract('(\\d+(?:\\.\\d+)?)').astype(float)\n",
    "print(df.threshold.unique())\n",
    "df = df.groupby(['time','hostname','degree'])['current'].mean().reindex().reset_index()\n",
    "for node in clusters_new:\n",
    "    print(node)\n",
    "    df_2 = df[df['hostname'] == node]\n",
    "    df_2 = df_2.pivot_table(values='current', index=df_2.time, columns='degree', aggfunc='first',fill_value=(np.NaN)).reset_index()\n",
    "    display(df_2)\n",
    "    print(df_2.describe())\n",
    "    df_2 = pd.melt(df_2,id_vars=['time'],value_vars=['주의','경고','심각'])\n",
    "    #display(df_2)"
   ]
  },
  {
   "cell_type": "code",
   "execution_count": null,
   "metadata": {},
   "outputs": [],
   "source": [
    "df = data[(data.alarm_name == 'CPU Wait Process 수') & (data['hostname'].isin(clusters_new))]\n",
    "condition  = df.condition.str.split(' ', expand=True)\n",
    "df['threshold'] = condition[5].str.extract('(\\d+(?:\\.\\d+)?)').astype(float)\n",
    "df['current'] = condition[3].str.extract('(\\d+(?:\\.\\d+)?)').astype(float)\n",
    "print(df.threshold.unique())\n",
    "df = df.groupby(['time','hostname','degree'])['current'].mean().reindex().reset_index()\n",
    "for node in clusters_new:\n",
    "    print(node)\n",
    "    df_2 = df[df['hostname'] == node]\n",
    "    df_2 = df_2.pivot_table(values='current', index=df_2.time, columns='degree', aggfunc='first',fill_value=(np.NaN)).reset_index()\n",
    "    display(df_2)\n",
    "    print(df_2.describe())\n",
    "    df_2 = pd.melt(df_2,id_vars=['time'],value_vars=['주의','경고','심각'])\n",
    "    #display(df_2)"
   ]
  },
  {
   "cell_type": "markdown",
   "metadata": {},
   "source": [
    "## 7그룹 - CPUs 사용률\n",
    "### 심각 : 100% 이상\n",
    "### 경고 : 90% 이상\n",
    "### 주의 : 80% 이상\n",
    "## CPU Wait Process 수\n",
    "### 경고 : 20 이상\n",
    "### 주의 : 15 이상"
   ]
  },
  {
   "cell_type": "code",
   "execution_count": null,
   "metadata": {},
   "outputs": [],
   "source": [
    "clusters_new = ['']\n",
    "df = data[(data.alarm_name == 'CPUs 사용률') & (data['hostname'].isin(clusters_new))]\n",
    "condition  = df.condition.str.split(' ', expand=True)\n",
    "df['threshold'] = condition[4].str.extract('(\\d+(?:\\.\\d+)?)').astype(float)\n",
    "df['current'] = condition[1].str.extract('(\\d+(?:\\.\\d+)?)').astype(float)\n",
    "print(df.threshold.unique())\n",
    "df = df.groupby(['time','hostname','degree'])['current'].mean().reindex().reset_index()\n",
    "for node in clusters_new:\n",
    "    print(node)\n",
    "    df_2 = df[df['hostname'] == node]\n",
    "    df_2 = df_2.pivot_table(values='current', index=df_2.time, columns='degree', aggfunc='first',fill_value=(np.NaN)).reset_index()\n",
    "    display(df_2)\n",
    "    print(df_2.describe())\n",
    "    df_2 = pd.melt(df_2,id_vars=['time'],value_vars=['주의','경고','심각'])\n",
    "    #display(df_2)"
   ]
  },
  {
   "cell_type": "code",
   "execution_count": null,
   "metadata": {},
   "outputs": [],
   "source": [
    "df = data[(data.alarm_name == 'CPU Wait Process 수') & (data['hostname'].isin(clusters_new))]\n",
    "condition  = df.condition.str.split(' ', expand=True)\n",
    "df['threshold'] = condition[5].str.extract('(\\d+(?:\\.\\d+)?)').astype(float)\n",
    "df['current'] = condition[3].str.extract('(\\d+(?:\\.\\d+)?)').astype(float)\n",
    "print(df.threshold.unique())\n",
    "df = df.groupby(['time','hostname','degree'])['current'].mean().reindex().reset_index()\n",
    "for node in clusters_new:\n",
    "    print(node)\n",
    "    df_2 = df[df['hostname'] == node]\n",
    "    df_2 = df_2.pivot_table(values='current', index=df_2.time, columns='degree', aggfunc='first',fill_value=(np.NaN)).reset_index()\n",
    "    display(df_2)\n",
    "    print(df_2.describe())\n",
    "    df_2 = pd.melt(df_2,id_vars=['time'],value_vars=['주의','경고','심각'])\n",
    "    #display(df_2)"
   ]
  },
  {
   "cell_type": "markdown",
   "metadata": {},
   "source": [
    "## 10그룹 - CPUs 사용률\n",
    "### 경고 : 90% 이상\n",
    "### 주의 : 80% 이상"
   ]
  },
  {
   "cell_type": "code",
   "execution_count": null,
   "metadata": {},
   "outputs": [],
   "source": [
    "clusters_new = ['']\n",
    "df = data[(data.alarm_name == 'CPUs 사용률') & (data['hostname'].isin(clusters_new))]\n",
    "condition  = df.condition.str.split(' ', expand=True)\n",
    "df['threshold'] = condition[4].str.extract('(\\d+(?:\\.\\d+)?)').astype(float)\n",
    "df['current'] = condition[1].str.extract('(\\d+(?:\\.\\d+)?)').astype(float)\n",
    "print(df.threshold.unique())\n",
    "df = df.groupby(['time','hostname','degree'])['current'].mean().reindex().reset_index()\n",
    "for node in clusters_new:\n",
    "    print(node)\n",
    "    df_2 = df[df['hostname'] == node]\n",
    "    df_2 = df_2.pivot_table(values='current', index=df_2.time, columns='degree', aggfunc='first',fill_value=(np.NaN)).reset_index()\n",
    "    display(df_2)\n",
    "    print(df_2.describe())\n",
    "    df_2 = pd.melt(df_2,id_vars=['time'],value_vars=['주의','경고','심각'])\n",
    "    #display(df_2)"
   ]
  },
  {
   "cell_type": "markdown",
   "metadata": {},
   "source": [
    "## 11그룹 - CPUs 사용률\n",
    "### 심각 : 100% 이상\n",
    "### 경고 : 90% 이상\n",
    "### 주의 : 80% 이상\n",
    "## CPU Wait Process 수\n",
    "### 경고 : 20 이상\n",
    "### 주의 : 15 이상"
   ]
  },
  {
   "cell_type": "code",
   "execution_count": null,
   "metadata": {},
   "outputs": [],
   "source": [
    "clusters_new = ['[S2][에] 차세대 영업 WAS #1','[S2][에] 차세대 영업 WAS #2']\n",
    "df = data[(data.alarm_name == 'CPUs 사용률') & (data['hostname'].isin(clusters_new))]\n",
    "condition  = df.condition.str.split(' ', expand=True)\n",
    "df['threshold'] = condition[4].str.extract('(\\d+(?:\\.\\d+)?)').astype(float)\n",
    "df['current'] = condition[1].str.extract('(\\d+(?:\\.\\d+)?)').astype(float)\n",
    "print(df.threshold.unique())\n",
    "df = df.groupby(['time','hostname','degree'])['current'].mean().reindex().reset_index()\n",
    "for node in clusters_new:\n",
    "    print(node)\n",
    "    df_2 = df[df['hostname'] == node]\n",
    "    df_2 = df_2.pivot_table(values='current', index=df_2.time, columns='degree', aggfunc='first',fill_value=(np.NaN)).reset_index()\n",
    "    display(df_2)\n",
    "    print(df_2.describe())\n",
    "    df_2 = pd.melt(df_2,id_vars=['time'],value_vars=['주의','경고','심각'])\n",
    "    #display(df_2)"
   ]
  },
  {
   "cell_type": "code",
   "execution_count": null,
   "metadata": {},
   "outputs": [],
   "source": [
    "df = data[(data.alarm_name == 'CPU Wait Process 수') & (data['hostname'].isin(clusters_new))]\n",
    "condition  = df.condition.str.split(' ', expand=True)\n",
    "df['threshold'] = condition[5].str.extract('(\\d+(?:\\.\\d+)?)').astype(float)\n",
    "df['current'] = condition[3].str.extract('(\\d+(?:\\.\\d+)?)').astype(float)\n",
    "print(df.threshold.unique())\n",
    "df = df.groupby(['time','hostname','degree'])['current'].mean().reindex().reset_index()\n",
    "for node in clusters_new:\n",
    "    print(node)\n",
    "    df_2 = df[df['hostname'] == node]\n",
    "    df_2 = df_2.pivot_table(values='current', index=df_2.time, columns='degree', aggfunc='first',fill_value=(np.NaN)).reset_index()\n",
    "    display(df_2)\n",
    "    print(df_2.describe())\n",
    "    df_2 = pd.melt(df_2,id_vars=['time'],value_vars=['주의','경고','심각'])\n",
    "    #display(df_2)"
   ]
  },
  {
   "cell_type": "markdown",
   "metadata": {
    "colab_type": "text",
    "id": "D0q3UQ5nPYit"
   },
   "source": [
    "### 일자별로 알람 발생 당시의 성능 값 추이"
   ]
  },
  {
   "cell_type": "code",
   "execution_count": null,
   "metadata": {},
   "outputs": [],
   "source": [
    "del data"
   ]
  },
  {
   "cell_type": "code",
   "execution_count": null,
   "metadata": {
    "colab": {},
    "colab_type": "code",
    "id": "bQ2WME7rPYiu"
   },
   "outputs": [],
   "source": [
    "data_log.alarm_name.unique()"
   ]
  },
  {
   "cell_type": "code",
   "execution_count": null,
   "metadata": {},
   "outputs": [],
   "source": [
    "#전체 'PLog Info','PLog Warn','PLog Error','PLog Fatal''AMS_ERROR_POS','AMS_ERROR''Log Warning-Error'\n",
    "len(data_log)"
   ]
  },
  {
   "cell_type": "code",
   "execution_count": null,
   "metadata": {},
   "outputs": [],
   "source": [
    "lists = ['PLog Info','PLog Warn','PLog Error','PLog Fatal']\n",
    "for i in lists:\n",
    "    data_plog = data_log[data_log.alarm_name==i]\n",
    "    print('{} : {}'.format(i,len(data_plog)))\n",
    "    data_plog['alarm_name'] = data_plog.condition.str.split(',',expand=True)[1].str.split('\\[PLOG\\]',expand=True)[1]\n",
    "    data_plog.groupby(['alarm_name','hostname'])['ip'].count().reset_index().reindex().sort_values('ip',ascending=False).to_excel(i+'.xlsx',encoding='UTF-8')\n",
    "    "
   ]
  },
  {
   "cell_type": "code",
   "execution_count": null,
   "metadata": {},
   "outputs": [],
   "source": [
    "data_log[(data_log.alarm_name=='PLog Fatal')&(data_log.hostname=='[S1][백] 통합정보 APP #1 (LDOM Guest)')].groupby(['condition'])['ip'].count().reset_index().reindex().sort_values('ip',ascending=False)"
   ]
  },
  {
   "cell_type": "code",
   "execution_count": null,
   "metadata": {},
   "outputs": [],
   "source": [
    "data_log[(data_log.alarm_name=='PLog Fatal')&(data_log.hostname=='[S1][백,Ex] 운영정보 DB #1')].groupby(['condition'])['ip'].count().reset_index().reindex().sort_values('ip',ascending=False)"
   ]
  },
  {
   "cell_type": "code",
   "execution_count": null,
   "metadata": {},
   "outputs": [],
   "source": [
    "lists = ['AMS_ERROR_POS','AMS_ERROR']\n",
    "for i in lists:\n",
    "    data_ams = data_log[data_log.alarm_name==i]\n",
    "    print('{} : {}'.format(i,len(data_ams)))\n",
    "    data_ams['alarm_name'] = data_ams.condition.str.split('|',expand=True)[6]\n",
    "    data_ams['alarm_type'] = data_ams.condition.str.split('|',expand=True)[7]\n",
    "    data_ams.groupby(['alarm_name','alarm_type','hostname'])['ip'].count().reset_index().reindex().sort_values('ip',ascending=False).to_excel(i+'.xlsx',encoding='UTF-8')\n",
    "    "
   ]
  },
  {
   "cell_type": "markdown",
   "metadata": {},
   "source": [
    "## Log Warning-Error"
   ]
  },
  {
   "cell_type": "code",
   "execution_count": null,
   "metadata": {},
   "outputs": [],
   "source": [
    "#'Log Info','Log Warning-Error'\n",
    "data_logs = data_log[data_log.alarm_name=='Log Warning-Error']"
   ]
  },
  {
   "cell_type": "code",
   "execution_count": null,
   "metadata": {},
   "outputs": [],
   "source": [
    "len(data_logs)"
   ]
  },
  {
   "cell_type": "code",
   "execution_count": null,
   "metadata": {},
   "outputs": [],
   "source": [
    "data_logs_back = data_logs"
   ]
  },
  {
   "cell_type": "code",
   "execution_count": null,
   "metadata": {},
   "outputs": [],
   "source": [
    "test = data_logs.condition.str.split('|',expand=True)[[7,8]]"
   ]
  },
  {
   "cell_type": "code",
   "execution_count": null,
   "metadata": {},
   "outputs": [],
   "source": [
    "len(test[test[7].isnull()==False])"
   ]
  },
  {
   "cell_type": "code",
   "execution_count": null,
   "metadata": {},
   "outputs": [],
   "source": [
    "len(data_logs)"
   ]
  },
  {
   "cell_type": "code",
   "execution_count": null,
   "metadata": {},
   "outputs": [],
   "source": [
    "test[test[8].isnull()==False][7] = test[test[8].isnull()==False][8]"
   ]
  },
  {
   "cell_type": "code",
   "execution_count": null,
   "metadata": {},
   "outputs": [],
   "source": [
    "test2 = np.where(test[8].isnull(),test[7],test[8])"
   ]
  },
  {
   "cell_type": "code",
   "execution_count": null,
   "metadata": {},
   "outputs": [],
   "source": [
    "data_logs['alarm_type']= test2"
   ]
  },
  {
   "cell_type": "code",
   "execution_count": null,
   "metadata": {},
   "outputs": [],
   "source": [
    "data_logs[data_logs.alarm_type.isnull()==False].groupby(['alarm_type'])['ip'].count().reset_index().reindex().sort_values('ip',ascending=False).to_excel('log_result01.xlsx',encoding='UTF-8')"
   ]
  },
  {
   "cell_type": "code",
   "execution_count": null,
   "metadata": {},
   "outputs": [],
   "source": [
    "data_logs[data_logs.alarm_type.isnull()==False].groupby(['hostname','alarm_type'])['ip'].count().reset_index().reindex().sort_values('ip',ascending=False).to_excel('log_result.xlsx',encoding='UTF-8')"
   ]
  },
  {
   "cell_type": "markdown",
   "metadata": {},
   "source": [
    "## 로그 데이터 형태소 분석"
   ]
  },
  {
   "cell_type": "code",
   "execution_count": null,
   "metadata": {},
   "outputs": [],
   "source": [
    "from sklearn.feature_extraction.text import CountVectorizer\n",
    "cv = CountVectorizer(max_features=1000, stop_words='english')\n",
    "tdm = cv.fit_transform(data_logs['condition'])\n",
    "tdm.shape"
   ]
  },
  {
   "cell_type": "code",
   "execution_count": null,
   "metadata": {},
   "outputs": [],
   "source": [
    "doc = tdm[0].toarray()\n",
    "words = cv.get_feature_names()\n",
    "[w\n",
    "for w,c\n",
    "in zip(words, doc.flat)\n",
    "if c > 0]\n",
    "count = tdm.sum(axis=0)"
   ]
  },
  {
   "cell_type": "code",
   "execution_count": null,
   "metadata": {},
   "outputs": [],
   "source": [
    "word_count = list(zip(words, count.flat))\n",
    "import operator\n",
    "\n",
    "word_order = sorted(\n",
    "    word_count,\n",
    "    key=operator.itemgetter(1),\n",
    "    reverse=True\n",
    ")"
   ]
  },
  {
   "cell_type": "code",
   "execution_count": null,
   "metadata": {},
   "outputs": [],
   "source": [
    "word_order[:1000]"
   ]
  },
  {
   "cell_type": "code",
   "execution_count": null,
   "metadata": {},
   "outputs": [],
   "source": [
    "data_logs['condition'].str.split('|',expand=True)[7].isnull()==False)"
   ]
  },
  {
   "cell_type": "code",
   "execution_count": null,
   "metadata": {},
   "outputs": [],
   "source": [
    "data_ams = data_log[data_log.alarm_name=='AMS_ERROR_POS']"
   ]
  },
  {
   "cell_type": "code",
   "execution_count": null,
   "metadata": {},
   "outputs": [],
   "source": [
    "data_ams2 = data_log[data_log.alarm_name=='AMS_ERROR']"
   ]
  },
  {
   "cell_type": "code",
   "execution_count": null,
   "metadata": {},
   "outputs": [],
   "source": [
    "data_ams[data_ams.ip=='10.253.32.119']"
   ]
  },
  {
   "cell_type": "code",
   "execution_count": null,
   "metadata": {},
   "outputs": [],
   "source": [
    "data_ams2[data_ams2.ip=='10.253.32.119']"
   ]
  },
  {
   "cell_type": "markdown",
   "metadata": {},
   "source": [
    "## Oracle Error"
   ]
  },
  {
   "cell_type": "code",
   "execution_count": null,
   "metadata": {},
   "outputs": [],
   "source": [
    "len(data_logs[data_logs.condition.str.contains('ORA-')==True])"
   ]
  },
  {
   "cell_type": "code",
   "execution_count": null,
   "metadata": {},
   "outputs": [],
   "source": [
    "data_logs_ora = data_logs[data_logs.condition.str.contains('ORA-')==True]\n",
    "data_logs_ora['ora_code']= data_logs_ora.condition.str.extract(r'[ORA-](\\d\\d\\d\\d\\d|\\d\\d\\d\\d|\\d\\d\\d|\\d\\d|\\d)')"
   ]
  },
  {
   "cell_type": "code",
   "execution_count": null,
   "metadata": {},
   "outputs": [],
   "source": [
    "data_logs_ora.groupby(['hostname','ora_code'])['ip'].count().reset_index().reindex().sort_values('ip',ascending=False)"
   ]
  },
  {
   "cell_type": "markdown",
   "metadata": {},
   "source": [
    "## TNS Error"
   ]
  },
  {
   "cell_type": "code",
   "execution_count": null,
   "metadata": {},
   "outputs": [],
   "source": [
    "len(data_logs[data_logs.condition.str.contains('TNS-')==True])"
   ]
  },
  {
   "cell_type": "code",
   "execution_count": null,
   "metadata": {},
   "outputs": [],
   "source": [
    "data_logs_tns = data_logs[data_logs.condition.str.contains('TNS-')==True]\n",
    "data_logs_tns['tns_code']= data_logs_tns.condition.str.extract(r'[TNS-](\\d\\d\\d\\d\\d|\\d\\d\\d\\d|\\d\\d\\d|\\d\\d|\\d)')\n",
    "data_logs_tns.groupby(['hostname','tns_code'])['ip'].count().reset_index().reindex().sort_values('ip',ascending=False)"
   ]
  },
  {
   "cell_type": "markdown",
   "metadata": {},
   "source": [
    "## DBLink"
   ]
  },
  {
   "cell_type": "code",
   "execution_count": null,
   "metadata": {},
   "outputs": [],
   "source": [
    "len(data_logs[data_logs.condition.str.contains('DBLink:DC')==True])"
   ]
  },
  {
   "cell_type": "code",
   "execution_count": null,
   "metadata": {},
   "outputs": [],
   "source": [
    "data_logs[data_logs.condition.str.contains('DBLink:DC')==True].groupby(['hostname'])['ip'].count().reset_index().reindex().sort_values('ip',ascending=False)"
   ]
  },
  {
   "cell_type": "code",
   "execution_count": null,
   "metadata": {},
   "outputs": [],
   "source": [
    "data_logs[data_logs.condition.str.contains('DBLink:DC')==True].condition.str.extract(r'(SVR2)|(SVR1)')"
   ]
  },
  {
   "cell_type": "code",
   "execution_count": null,
   "metadata": {},
   "outputs": [],
   "source": [
    "data_logs[data_logs.condition.str.contains('DBLink:DC')==True].condition"
   ]
  },
  {
   "cell_type": "markdown",
   "metadata": {},
   "source": [
    "## JDBC Connection"
   ]
  },
  {
   "cell_type": "code",
   "execution_count": null,
   "metadata": {},
   "outputs": [],
   "source": [
    "len(data_logs[data_logs.condition.str.contains('JDBC Connection')==True])"
   ]
  },
  {
   "cell_type": "code",
   "execution_count": null,
   "metadata": {},
   "outputs": [],
   "source": [
    "data_logs_jdbc = data_logs[data_logs.condition.str.contains('JDBC Connection')==True]"
   ]
  },
  {
   "cell_type": "markdown",
   "metadata": {},
   "source": [
    "### 1) OOM"
   ]
  },
  {
   "cell_type": "code",
   "execution_count": null,
   "metadata": {},
   "outputs": [],
   "source": [
    "oom = data_logs_jdbc[data_logs_jdbc.condition.str.contains('OutOfMemoryError')==True]\n",
    "oom['alarm_type'] = \"OutOfMemoryError\"\n",
    "oom.groupby(['hostname','alarm_type'])['ip'].count().reset_index().reindex().sort_values('ip',ascending=False)"
   ]
  },
  {
   "cell_type": "markdown",
   "metadata": {},
   "source": [
    "### 2) Could not open JDBC Connection"
   ]
  },
  {
   "cell_type": "code",
   "execution_count": null,
   "metadata": {},
   "outputs": [],
   "source": [
    "connection = data_logs_jdbc[data_logs_jdbc.condition.str.contains('Could not open JDBC Connection')==True]\n",
    "connection['alarm_type'] = \"Could not open JDBC Connection\"\n",
    "connection.groupby(['hostname','alarm_type'])['ip'].count().reset_index().reindex().sort_values('ip',ascending=False)"
   ]
  },
  {
   "cell_type": "markdown",
   "metadata": {},
   "source": [
    "## kernel"
   ]
  },
  {
   "cell_type": "code",
   "execution_count": null,
   "metadata": {},
   "outputs": [],
   "source": [
    "len(data_logs[data_logs.condition.str.contains('kernel')==True])"
   ]
  },
  {
   "cell_type": "code",
   "execution_count": null,
   "metadata": {},
   "outputs": [],
   "source": [
    "data_logs[data_logs.condition.str.contains('kernel')==True].groupby(['hostname'])['ip'].count().reset_index().reindex().sort_values('ip',ascending=False)"
   ]
  },
  {
   "cell_type": "code",
   "execution_count": null,
   "metadata": {},
   "outputs": [],
   "source": [
    "len(data_logs[(data_logs.condition.str.contains('kernel')==True)&(data_logs.condition.str.contains('nfs')==True)])"
   ]
  },
  {
   "cell_type": "code",
   "execution_count": null,
   "metadata": {},
   "outputs": [],
   "source": []
  }
 ],
 "metadata": {
  "colab": {
   "collapsed_sections": [
    "5lxRMDpvPYen",
    "Ak53gD9wPYe9",
    "ZXZmyN2LPYfc",
    "nWjrN-XePYgH",
    "ImJUAQeFPYgc",
    "gvzuciHhPYgo",
    "OPHsIWOFPYhP",
    "ondg0_qhPYha",
    "G4oZY0vzPYhs",
    "yDjE7wS6PYh1",
    "p9ATUV48PYh9",
    "ysXvTWNbPYiS",
    "x2MXf0xDPYib",
    "qOao-uaCPYic",
    "cPoBET-APYih",
    "CGaEW6jCPYii",
    "D0q3UQ5nPYit"
   ],
   "name": "20190225 (1).ipynb",
   "provenance": [],
   "version": "0.3.2"
  },
  "kernelspec": {
   "display_name": "Python 3",
   "language": "python",
   "name": "python3"
  },
  "language_info": {
   "codemirror_mode": {
    "name": "ipython",
    "version": 3
   },
   "file_extension": ".py",
   "mimetype": "text/x-python",
   "name": "python",
   "nbconvert_exporter": "python",
   "pygments_lexer": "ipython3",
   "version": "3.7.1"
  }
 },
 "nbformat": 4,
 "nbformat_minor": 1
}
