{
 "cells": [
  {
   "cell_type": "code",
   "execution_count": null,
   "metadata": {
    "colab": {},
    "colab_type": "code",
    "id": "tI5WZeMsPYdq",
    "scrolled": true
   },
   "outputs": [],
   "source": [
    "import pandas as pd\n",
    "import numpy as np\n",
    "import warnings\n",
    "import seaborn as sns\n",
    "import matplotlib.pyplot as plt\n",
    "%matplotlib inline\n",
    "#%matplotlib notebook\n",
    "from matplotlib import font_manager, rc\n",
    "import scipy.cluster.hierarchy as spc\n",
    "font_name = font_manager.FontProperties(fname=\"/usr/share/fonts/nanum/nanumGothic.ttf\").get_name()\n",
    "plt.rc('font', family=font_name)\n",
    "plt.rc('style')\n",
    "import warnings\n",
    "warnings.filterwarnings(action='ignore') \n",
    "pd.options.display.float_format = '{:.2f}'.format\n",
    "pd.options.display.max_colwidth=3000"
   ]
  },
  {
   "cell_type": "code",
   "execution_count": null,
   "metadata": {},
   "outputs": [],
   "source": [
    "from IPython.utils.path import get_ipython_dir\n",
    "print(get_ipython_dir())"
   ]
  },
  {
   "cell_type": "code",
   "execution_count": null,
   "metadata": {},
   "outputs": [],
   "source": [
    "import plotly.plotly as py\n",
    "from plotly.graph_objs import *\n",
    "py.sign_in('kyoh', 'xLxYyOTECJ48ofwzrn2j')\n",
    "from plotly.offline import download_plotlyjs, init_notebook_mode, plot, iplot\n",
    "init_notebook_mode(connected=True)"
   ]
  },
  {
   "cell_type": "code",
   "execution_count": null,
   "metadata": {
    "colab": {},
    "colab_type": "code",
    "id": "8Bt3dzV2PYdv"
   },
   "outputs": [],
   "source": [
    "from IPython.display import display_html\n",
    "def display_side_by_side(*args):\n",
    "    html_str=''\n",
    "    for df in args:\n",
    "        html_str+=df.to_html()\n",
    "    display_html(html_str.replace('table','table style=\"display:inline\"'),raw=True)"
   ]
  },
  {
   "cell_type": "code",
   "execution_count": null,
   "metadata": {},
   "outputs": [],
   "source": [
    "import os\n",
    "file_list =os.listdir('../busan/DATA')"
   ]
  },
  {
   "cell_type": "markdown",
   "metadata": {},
   "source": [
    "## 로드 데이터"
   ]
  },
  {
   "cell_type": "code",
   "execution_count": null,
   "metadata": {
    "scrolled": true
   },
   "outputs": [],
   "source": [
    "data_list = []\n",
    "for i in file_list:\n",
    "    print(i)\n",
    "    data = pd.read_csv('../busan/DATA/'+i, encoding='UTF-8',sep=\"\\|\\|\",header=None,error_bad_lines=False)\n",
    "    data_list.append(data)\n"
   ]
  },
  {
   "cell_type": "code",
   "execution_count": null,
   "metadata": {},
   "outputs": [],
   "source": [
    "data = pd.concat(data_list ,axis=0)"
   ]
  },
  {
   "cell_type": "markdown",
   "metadata": {
    "colab_type": "text",
    "id": "2QF9Zp_0PYd3"
   },
   "source": [
    "## 1. 알람 데이터 로드 및 전처리"
   ]
  },
  {
   "cell_type": "code",
   "execution_count": null,
   "metadata": {},
   "outputs": [],
   "source": [
    "data.columns = [\"ALARM_LEVEL\",\"ALARM_NAME\",\"CTIME\",\"DTIME\",\"HOSTNAME\",\"PATH1\",\"PATH2\",\"PATH3\",\"PATH4\",\"PATH5\",\"PATH6\",\"PATH7\",\"NAME\",\"CONDITIONLOGTEXT\",\"CURRENTALARMSTATUS\"]"
   ]
  },
  {
   "cell_type": "code",
   "execution_count": null,
   "metadata": {
    "colab": {},
    "colab_type": "code",
    "id": "Zo8YV2wYPYeK",
    "scrolled": true
   },
   "outputs": [],
   "source": [
    "#컬럼 이름 수정\n",
    "data.columns = ['degree', 'alarm_name','time','clear_time','hostname','group1','group2','group3','group4','group5','group6','group7','resource_name','condition','status']"
   ]
  },
  {
   "cell_type": "code",
   "execution_count": null,
   "metadata": {
    "colab": {},
    "colab_type": "code",
    "id": "SK67xjWUPYeN",
    "scrolled": true
   },
   "outputs": [],
   "source": [
    "#추가 컬럼 생성\n",
    "data.degree = data.degree.astype(str)\n",
    "data['time'] = pd.to_datetime(data['time'], format='%Y-%m-%d %H:%M:%S')\n",
    "data['clear_time'] = pd.to_datetime(data['clear_time'], format='%Y-%m-%d %H:%M:%S')\n",
    "data['last_time'] = data['clear_time'] - data['time']\n",
    "data['last_time'] = data['last_time'].dt.seconds\n",
    "data['last_time'] = data['last_time'].fillna(0)\n",
    "data['time_month'] = data['time'].dt.month\n",
    "data['time_day'] = data['time'].dt.day\n",
    "data['time_hour'] = data['time'].dt.hour\n",
    "data['time_date']= data['time'].dt.strftime('%Y-%m-%d')\n",
    "data['time_date_hour']= data['time'].dt.strftime('%Y-%m-%d %H')\n",
    "data['time_weekday'] = data['time'].dt.weekday\n",
    "data['time_week'] = data['time'].dt.week"
   ]
  },
  {
   "cell_type": "code",
   "execution_count": null,
   "metadata": {},
   "outputs": [],
   "source": [
    "data['group'] = data.group1.fillna('')+'>'+data.group2.fillna('')+'>'+data.group3.fillna('')+'>'+data.group4.fillna('')+'>'+data.group5.fillna('')+'>'+data.group6.fillna('')+'>'+data.group7.fillna('')"
   ]
  },
  {
   "cell_type": "code",
   "execution_count": null,
   "metadata": {},
   "outputs": [],
   "source": [
    "data['group'] = data['group'].str.replace('>>','')\n",
    "data['group'] = data['group'].str.replace('>>>','')\n",
    "data['group'] = data['group'].str.replace('>>>>','')"
   ]
  },
  {
   "cell_type": "code",
   "execution_count": null,
   "metadata": {},
   "outputs": [],
   "source": [
    "data['group'] = data.group.str.replace('>부산은행>','')\n",
    "data['group'] = data.group.str.replace('부산은행>','')"
   ]
  },
  {
   "cell_type": "code",
   "execution_count": null,
   "metadata": {},
   "outputs": [],
   "source": [
    "data['group1'] = data['group'].str.split('>', expand=True)[0]\n",
    "data['group2'] = data['group'].str.split('>', expand=True)[1]\n",
    "data['group3'] = data['group'].str.split('>', expand=True)[2]\n",
    "data['group4'] = data['group'].str.split('>', expand=True)[3]\n",
    "data['group5'] = data['group'].str.split('>', expand=True)[4]\n",
    "data['group6'] = data['group'].str.split('>', expand=True)[5]"
   ]
  },
  {
   "cell_type": "code",
   "execution_count": null,
   "metadata": {},
   "outputs": [],
   "source": [
    "data = data[data.degree.isin(['1','2','3'])==True]"
   ]
  },
  {
   "cell_type": "code",
   "execution_count": null,
   "metadata": {},
   "outputs": [],
   "source": [
    "data.degree = data.degree.replace({\"1\":\"주의\",\"2\":\"경고\",\"3\":\"심각\"})"
   ]
  },
  {
   "cell_type": "markdown",
   "metadata": {},
   "source": [
    "### 2. 알람 발생 현황 분석"
   ]
  },
  {
   "cell_type": "markdown",
   "metadata": {},
   "source": [
    "#### (1) 전체 알람 데이터 현황"
   ]
  },
  {
   "cell_type": "code",
   "execution_count": null,
   "metadata": {
    "scrolled": true
   },
   "outputs": [],
   "source": [
    "data_after = data[(data.time_date > '2018-04-01')]\n",
    "data_before = data[(data.time_date <= '2018-04-01')]\n",
    "data_after_label = '2018년 4월 2일 ~ 2019년 4월 18일'\n",
    "data_before_label = '2017년 4월 1일 ~ 2018년 4월 1일'\n",
    "display('총 데이터: {}건'.format(len(data)),'{}: {}건'.format(data_after_label,len(data_after)),'{}: {}건'.format(data_before_label,len(data_before)))"
   ]
  },
  {
   "cell_type": "code",
   "execution_count": null,
   "metadata": {},
   "outputs": [],
   "source": [
    "data_after.to_csv('2018_alarm_total_csv',encoding=False)"
   ]
  },
  {
   "cell_type": "code",
   "execution_count": null,
   "metadata": {},
   "outputs": [],
   "source": [
    "data_before['group2'] = data_before['group2'].fillna('')\n",
    "data_after['group2'] = data_after['group2'].fillna('')"
   ]
  },
  {
   "cell_type": "code",
   "execution_count": null,
   "metadata": {
    "scrolled": true
   },
   "outputs": [],
   "source": [
    "data_log_before = data_before[data_before.condition.str.contains('이벤트 탐지') == True]\n",
    "data_perf_before = data_before[data_before.condition.str.contains('이벤트 탐지') == False]\n",
    "display('2017년 4월 1일 ~ 2018년 4월 1일','성능 데이터: {}건'.format(len(data_perf_before)),'로그 데이터: {}건'.format(len(data_log_before)))"
   ]
  },
  {
   "cell_type": "code",
   "execution_count": null,
   "metadata": {
    "scrolled": true
   },
   "outputs": [],
   "source": [
    "data_log = data_after[data_after.condition.str.contains('이벤트 탐지') == True]\n",
    "data_perf = data_after[data_after.condition.str.contains('이벤트 탐지') == False]\n",
    "display('2018년 4월 2일 ~ 2019년 4월 18일','성능 데이터: {}건'.format(len(data_perf)),'로그 데이터: {}건'.format(len(data_log)))"
   ]
  },
  {
   "cell_type": "code",
   "execution_count": null,
   "metadata": {},
   "outputs": [],
   "source": [
    "def diff_data(group,alarm_name,degree):\n",
    "    if degree == '전체':\n",
    "        data_2017 =data_perf_before[(data_perf_before['group2'].str.contains(group)==True)&(data_perf_before['alarm_name'].str.contains(alarm_name)==True)].groupby(['hostname'])['time'].count().reindex().reset_index().sort_values('time',ascending=False)\n",
    "        data_2018 = data_perf[(data_perf['group2'].str.contains(group)==True)&(data_perf['alarm_name'].str.contains(alarm_name)==True)].groupby(['hostname'])['time'].count().reindex().reset_index().sort_values('time',ascending=False)\n",
    "    else:\n",
    "        data_2017 =data_perf_before[(data_perf_before['group2'].str.contains(group)==True)&(data_perf_before['alarm_name'].str.contains(alarm_name)==True)&(data_perf_before['degree'].str.contains(degree)==True)].groupby(['hostname'])['time'].count().reindex().reset_index().sort_values('time',ascending=False)\n",
    "        data_2018 =data_perf[(data_perf['group2'].str.contains(group)==True)&(data_perf['alarm_name'].str.contains(alarm_name)==True)&(data_perf['degree'].str.contains(degree)==True)].groupby(['hostname'])['time'].count().reindex().reset_index().sort_values('time',ascending=False)\n",
    "    total_data = pd.merge(data_2018,data_2017,how='outer',on='hostname')\n",
    "    #display(total_data)\n",
    "    total_data = total_data.fillna(0)\n",
    "    total_data['diff'] = total_data['time_x'] - total_data['time_y'] \n",
    "    total_data.columns = ['hostname','2018_{}'.format(degree),'2017_{}'.format(degree),'diff']\n",
    "    return(total_data.sort_values('diff',ascending=False))"
   ]
  },
  {
   "cell_type": "markdown",
   "metadata": {},
   "source": [
    "### 외환','Disk I/O 처리율','전체'"
   ]
  },
  {
   "cell_type": "code",
   "execution_count": null,
   "metadata": {
    "scrolled": false
   },
   "outputs": [],
   "source": [
    "diff_data('외환','Disk I/O 처리율','전체')"
   ]
  },
  {
   "cell_type": "markdown",
   "metadata": {},
   "source": [
    "### 외환','Disk I/O 처리율','등급별'"
   ]
  },
  {
   "cell_type": "code",
   "execution_count": null,
   "metadata": {
    "scrolled": true
   },
   "outputs": [],
   "source": [
    "display_side_by_side(diff_data('외환','Disk I/O 처리율','심각'),diff_data('외환','Disk I/O 처리율','경고'),diff_data('외환','Disk I/O 처리율','주의'))"
   ]
  },
  {
   "cell_type": "markdown",
   "metadata": {},
   "source": [
    "### 외환','Memory 사용률','전체'"
   ]
  },
  {
   "cell_type": "code",
   "execution_count": null,
   "metadata": {
    "scrolled": true
   },
   "outputs": [],
   "source": [
    "diff_data('외환','Memory 사용률','전체')"
   ]
  },
  {
   "cell_type": "markdown",
   "metadata": {},
   "source": [
    "### 외환','Memory 사용률','등급별'"
   ]
  },
  {
   "cell_type": "code",
   "execution_count": null,
   "metadata": {
    "scrolled": true
   },
   "outputs": [],
   "source": [
    "display_side_by_side(diff_data('외환','Memory 사용률','심각'),diff_data('외환','Memory 사용률','경고'),diff_data('외환','Memory 사용률','주의'))"
   ]
  },
  {
   "cell_type": "markdown",
   "metadata": {},
   "source": [
    "### CRM','Memory 사용률','전체'"
   ]
  },
  {
   "cell_type": "code",
   "execution_count": null,
   "metadata": {
    "scrolled": true
   },
   "outputs": [],
   "source": [
    "diff_data('CRM','Memorhttp://192.168.200.95:8888/notebooks/busan/busan-2.ipynb#CRM','Memory-%EC%82%AC%EC%9A%A9%EB%A5%A0','%EC%A0%84%EC%B2%B4'y 사용률','전체')"
   ]
  },
  {
   "cell_type": "markdown",
   "metadata": {},
   "source": [
    "### CRM','Memory 사용률','등급별'"
   ]
  },
  {
   "cell_type": "code",
   "execution_count": null,
   "metadata": {
    "scrolled": true
   },
   "outputs": [],
   "source": [
    "display_side_by_side(diff_data('CRM','Memory 사용률','심각'),diff_data('CRM','Memory 사용률','경고'),diff_data('CRM','Memory 사용률','주의'))"
   ]
  },
  {
   "cell_type": "code",
   "execution_count": null,
   "metadata": {},
   "outputs": [],
   "source": [
    "diff_data('CRM','Memory 사용률','전체').head().hostname"
   ]
  },
  {
   "cell_type": "code",
   "execution_count": null,
   "metadata": {},
   "outputs": [],
   "source": [
    "#clusters_new = list(diff_data('외환','Disk I/O 처리율','전체').head().hostname)\n",
    "clusters_new = ['SCFEM002R']\n",
    "df = data_perf[(data_perf.alarm_name == 'Disk I/O 처리율') & (data_perf['hostname'].isin(clusters_new))]\n",
    "condition  = df.condition.str.split(' ', expand=True)\n",
    "print(condition)\n",
    "df['threshold'] = condition[6].str.extract('(\\d+(?:\\.\\d+)?)').astype(float)\n",
    "df['current'] = condition[3].str.extract('(\\d+(?:\\.\\d+)?)').astype(float)\n",
    "print(df.threshold.unique())\n",
    "df = df.groupby(['time','hostname','degree'])['current'].mean().reindex().reset_index()\n",
    "for node in clusters_new:\n",
    "    print(node)\n",
    "    df_2 = df[df['hostname'] == node]\n",
    "    df_2 = df_2.pivot_table(values='current', index=df_2.time, columns='degree', aggfunc='first',fill_value=(np.NaN)).reset_index()\n",
    "    df_2['merge'] = df.sum(axis=1)\n",
    "    #df_2 = df_2[['time','주의','경고','심각','merge']]\n",
    "    display(df_2)\n",
    "    #df_2.to_excel('{}.xlsx'.format(node),encoding='UTF-8')\n",
    "    #df_2 = pd.melt(df_2,id_vars=['time'],value_vars=['주의','경고','심각'])\n",
    "    #display(df_2)"
   ]
  },
  {
   "cell_type": "code",
   "execution_count": null,
   "metadata": {},
   "outputs": [],
   "source": [
    "def make_class(hostname):\n",
    "    df = pd.DataFrame(data=((data_perf[(data_perf.alarm_name == 'Disk I/O 처리율') & (data_perf['hostname'].isin([hostname]))].sort_values('time',ascending=True).time.shift(-1) - data_perf[(data_perf.alarm_name == 'Disk I/O 처리율') & (data_perf['hostname'].isin([hostname]))].sort_values('time',ascending=True).time).fillna(0).dt.total_seconds()/60))\n",
    "    bin_range = np.arange(0, df['time'].max(), 60)\n",
    "    out, bins  = pd.cut(df[df['time'] <df['time'].max()].time, bins=bin_range, include_lowest=True, right=False, retbins=True)\n",
    "    #out.value_counts(sort=False).plot.bar()\n",
    "    print(out.value_counts(sort=False))"
   ]
  },
  {
   "cell_type": "code",
   "execution_count": null,
   "metadata": {},
   "outputs": [],
   "source": [
    "def make_class_every_10(hostname):\n",
    "    df = pd.DataFrame(data=((data_perf[(data_perf.alarm_name == 'Disk I/O 처리율') & (data_perf['hostname'].isin([hostname]))].sort_values('time',ascending=True).time.shift(-1) - data_perf[(data_perf.alarm_name == 'Disk I/O 처리율') & (data_perf['hostname'].isin([hostname]))].sort_values('time',ascending=True).time).fillna(0).dt.total_seconds()/60))\n",
    "    bin_range = np.arange(0, df['time'].max(), 10)\n",
    "    out, bins  = pd.cut(df[df['time'] <df['time'].max()].time, bins=bin_range, include_lowest=True, right=False, retbins=True)\n",
    "    #out.value_counts(sort=False).plot.bar()\n",
    "    print(out.value_counts(sort=False))"
   ]
  },
  {
   "cell_type": "code",
   "execution_count": null,
   "metadata": {},
   "outputs": [],
   "source": [
    "def make_class_2(hostname):\n",
    "    df = pd.DataFrame(data=((data_perf[(data_perf.alarm_name == 'Disk I/O 처리율') & (data_perf['hostname'].isin([hostname]))].sort_values('time',ascending=True).time.shift(-1) - data_perf[(data_perf.alarm_name == 'Disk I/O 처리율') & (data_perf['hostname'].isin([hostname]))].sort_values('time',ascending=True).time).fillna(0).dt.total_seconds()/60))\n",
    "    bin_range = np.arange(0, 130, 10)\n",
    "    out, bins  = pd.cut(df[df['time'] <130].time, bins=bin_range, include_lowest=True, right=False, retbins=True)\n",
    "    #out.value_counts(sort=False).plot.bar()\n",
    "    print(out.value_counts(sort=False))"
   ]
  },
  {
   "cell_type": "code",
   "execution_count": null,
   "metadata": {},
   "outputs": [],
   "source": [
    "def make_class_lasttime(hostname):\n",
    "    df = pd.DataFrame(data_perf[(data_perf.alarm_name == 'Disk I/O 처리율') & (data_perf['hostname'].isin([hostname]))].last_time/60)\n",
    "    bin_range = np.arange(0, df['last_time'].max(), 5)\n",
    "    out, bins  = pd.cut(df[df['last_time'] <df['last_time'].max()].last_time, bins=bin_range, include_lowest=True, right=False, retbins=True)\n",
    "    #out.value_counts(sort=False).plot.bar()\n",
    "    print(out.value_counts(sort=False))"
   ]
  },
  {
   "cell_type": "code",
   "execution_count": null,
   "metadata": {},
   "outputs": [],
   "source": [
    "def make_class_pef(hostname):\n",
    "    bin_range = np.arange(df_2['merge'].min(), df_2['merge'].max()+1, 1)\n",
    "    out, bins  = pd.cut(df_2[df_2['merge'] <df_2['merge'].max()+1]['merge'], bins=bin_range, include_lowest=True, right=False, retbins=True)\n",
    "    #out.value_counts(sort=False).plot.bar()\n",
    "    print(out.value_counts(sort=False))"
   ]
  },
  {
   "cell_type": "code",
   "execution_count": null,
   "metadata": {},
   "outputs": [],
   "source": [
    "def make_class_100_pef(hostname):\n",
    "    df = pd.DataFrame(data_perf[(data_perf.alarm_name == 'Disk I/O 처리율') & (data_perf['hostname'].isin([hostname])) & (data_perf['condition'].str.contains('100'))].last_time/60)\n",
    "    bin_range = np.arange(0, df['last_time'].max(), 10)\n",
    "    out, bins  = pd.cut(df[df['last_time'] <df['last_time'].max()].last_time, bins=bin_range, include_lowest=True, right=False, retbins=True)\n",
    "    #out.value_counts(sort=False).plot.bar()\n",
    "    print(out.value_counts(sort=False))"
   ]
  },
  {
   "cell_type": "code",
   "execution_count": null,
   "metadata": {},
   "outputs": [],
   "source": [
    "def make_class_all(hostname):\n",
    "    print('## 계급구간 (발생주기)')\n",
    "    make_class(hostname)\n",
    "    print('## 계급구간 (발생주기 10분단위)')\n",
    "    make_class_every_10(hostname)\n",
    "    print('## 지속시간 기준')\n",
    "    make_class_lasttime(hostname)\n",
    "    print('## 성능데이터 기준')\n",
    "    make_class_pef(hostname)\n",
    "    print('## 디스크 I/O 100% 지속시간')\n",
    "    make_class_100_pef(hostname)"
   ]
  },
  {
   "cell_type": "code",
   "execution_count": null,
   "metadata": {
    "scrolled": true
   },
   "outputs": [],
   "source": [
    "make_class_2('SCFEM002R')"
   ]
  },
  {
   "cell_type": "code",
   "execution_count": null,
   "metadata": {
    "scrolled": false
   },
   "outputs": [],
   "source": [
    "make_class_all('SCFEM002R')"
   ]
  },
  {
   "cell_type": "code",
   "execution_count": null,
   "metadata": {
    "scrolled": false
   },
   "outputs": [],
   "source": [
    "make_class_all('SCFEM431R')"
   ]
  },
  {
   "cell_type": "code",
   "execution_count": null,
   "metadata": {
    "scrolled": false
   },
   "outputs": [],
   "source": [
    "make_class_all('SCFEM001R')"
   ]
  },
  {
   "cell_type": "code",
   "execution_count": null,
   "metadata": {
    "scrolled": true
   },
   "outputs": [],
   "source": [
    "make_class_all('SCFEM421R')"
   ]
  },
  {
   "cell_type": "code",
   "execution_count": null,
   "metadata": {},
   "outputs": [],
   "source": [
    "data_perf['time_min'] = data_perf['time'].dt.strftime('%Y-%m-%d %H:%M')"
   ]
  },
  {
   "cell_type": "code",
   "execution_count": null,
   "metadata": {},
   "outputs": [],
   "source": [
    "corrmat = data_perf[data_perf.hostname.str.contains('SCF')].groupby(['time_min','alarm_name'])['condition'].count().reindex().reset_index().pivot_table(values='condition', index='time_min', columns='alarm_name', aggfunc='first',fill_value=(0)).corr()"
   ]
  },
  {
   "cell_type": "code",
   "execution_count": null,
   "metadata": {},
   "outputs": [],
   "source": [
    "clusters = []\n",
    "for node in corrmat.columns:\n",
    "    clusters.append(corrmat[corrmat[node] >= 0.2].index)\n",
    "clusters_new = []\n",
    "for cluster in clusters:\n",
    "    if len(cluster) > 1:\n",
    "        clusters_new.append(list(cluster))\n",
    "clusters_new = list(set([tuple(set(node)) for node in clusters_new]))\n",
    "\n",
    "dictt = {}\n",
    "for i in range(0,len(clusters_new)):\n",
    "    dictt.update({'cluster{}'.format(i) : list(clusters_new[i])})\n",
    "\n",
    "#data_df_date = data_df_date.reset_index()\n",
    "#pd.concat([pd.Series(clusters_new[0],name='cluster0'),pd.Series(clusters_new[1],name='cluster1')], axis=1)\n",
    "#for i in range(2,len(clusters_new)):\n",
    "#    df = pd.concat([df,pd.Series(clusters_new[i],name='cluster{}'.format(i))], axis=1)\n",
    "#df.fillna('',inplace=True)"
   ]
  },
  {
   "cell_type": "code",
   "execution_count": null,
   "metadata": {},
   "outputs": [],
   "source": [
    "clusters_new"
   ]
  },
  {
   "cell_type": "code",
   "execution_count": null,
   "metadata": {},
   "outputs": [],
   "source": [
    "test=data_perf.groupby(['time_date'])['time'].count().reindex().reset_index()"
   ]
  },
  {
   "cell_type": "code",
   "execution_count": null,
   "metadata": {},
   "outputs": [],
   "source": [
    "from datetime import datetime, timedelta\n",
    "pd.to_datetime(test[test['time'] > 2000].time_date, format='%Y-%m-%d') - timedelta(3)"
   ]
  },
  {
   "cell_type": "code",
   "execution_count": null,
   "metadata": {},
   "outputs": [],
   "source": [
    "date = pd.to_datetime(test[test['time'] > 2000].time_date, format='%Y-%m-%d')\n",
    "for i in date:\n",
    "    before = (i - timedelta(3)).strftime('%Y-%m-%d')\n",
    "    i = i.strftime('%Y-%m-%d')\n",
    "    print(i)\n",
    "    df = data_perf[data_perf['time_date']==i]\n",
    "    df_2 = data_perf[data_perf['time_date']==before]\n",
    "    #display(df)\n",
    "    df = df.groupby(['alarm_name'])['time'].count().reindex().reset_index().sort_values('time',ascending=False)\n",
    "    df.columns = ['alarm_name','now']\n",
    "    df_2 = df_2.groupby(['alarm_name'])['time'].count().reindex().reset_index().sort_values('time',ascending=False)\n",
    "    df_2.columns = ['alarm_name','before']\n",
    "    df_3 =pd.merge(df,df_2,how='outer',on='alarm_name')\n",
    "    df_3['diff'] = df_3['now'] - df_3['before']\n",
    "    display(df_3.sort_values('diff',ascending=False))\n",
    "    "
   ]
  },
  {
   "cell_type": "code",
   "execution_count": null,
   "metadata": {
    "scrolled": true
   },
   "outputs": [],
   "source": [
    "test[test['time'] > 2000]['time']"
   ]
  },
  {
   "cell_type": "code",
   "execution_count": null,
   "metadata": {},
   "outputs": [],
   "source": [
    "data_perf[(data_perf.hostname=='SCATD002')&(data_perf.alarm_name=='Memory 사용률')].to_excel('20190618.xlsx',encoding='UTF-8')"
   ]
  },
  {
   "cell_type": "code",
   "execution_count": null,
   "metadata": {},
   "outputs": [],
   "source": [
    "def make_scatter(df,name):\n",
    "    import plotly.graph_objs as go\n",
    "    df = data_perf[data_perf.alarm_name==name].groupby(['time','hostname'])['condition'].count().reindex().reset_index().pivot_table(values='condition', index='time', columns='hostname', aggfunc='first',fill_value=0).reset_index().describe()\n",
    "    trace = go.Scatter(\n",
    "    x = df.iloc[1].values,\n",
    "    y = df.iloc[2].values,\n",
    "    mode = 'markers',\n",
    "    text= df.columns,\n",
    "    textposition = 'top right'\n",
    "    )\n",
    "    \n",
    "    plot = [trace]\n",
    "    \n",
    "    # Plot and embed in ipython notebook!\n",
    "    py.iplot(plot)"
   ]
  },
  {
   "cell_type": "code",
   "execution_count": null,
   "metadata": {},
   "outputs": [],
   "source": [
    "df = data_after.groupby(['time','alarm_name'])['condition'].count().reindex().reset_index().pivot_table(values='condition', index='time', columns='alarm_name', aggfunc='first',fill_value=0).reset_index().describe()\n",
    "df_2 = data_after.groupby(['time','hostname'])['condition'].count().reset_index().reindex().pivot_table(values='condition', index='time', columns='hostname', aggfunc='first',fill_value=0).reset_index().describe()\n",
    "df_3 = data_after[data_after.degree==\"주의\"].groupby(['time_date','time'])['condition'].count().reset_index().reindex().pivot_table(values='condition', index='time', columns='time_date', aggfunc='first',fill_value=0).reset_index().describe()\n",
    "df_4 = data_after[data_after.degree==\"경고\"].groupby(['time_date','time'])['condition'].count().reset_index().reindex().pivot_table(values='condition', index='time', columns='time_date', aggfunc='first',fill_value=0).reset_index().describe()\n",
    "df_5 = data_after[data_after.degree==\"심각\"].groupby(['time_date','time'])['condition'].count().reset_index().reindex().pivot_table(values='condition', index='time', columns='time_date', aggfunc='first',fill_value=0).reset_index().describe()"
   ]
  },
  {
   "cell_type": "code",
   "execution_count": null,
   "metadata": {
    "scrolled": true
   },
   "outputs": [],
   "source": [
    "import plotly.graph_objs as go\n",
    "trace5 = go.Scatter(\n",
    "    name=\"심각\",\n",
    "    x = df_5.iloc[1].values,\n",
    "    y = df_5.iloc[2].values,\n",
    "    mode='markers+text',\n",
    "    text= df_5.columns,\n",
    "    textposition='top left'\n",
    ")\n",
    "trace4 = go.Scatter(\n",
    "    name=\"경고\",\n",
    "    x = df_4.iloc[1].values,\n",
    "    y = df_4.iloc[2].values,\n",
    "    mode='markers+text',\n",
    "    text= df_4.columns,\n",
    "    textposition='top left'\n",
    ")\n",
    "trace3 = go.Scatter(\n",
    "    name=\"주의\",\n",
    "    x = df_3.iloc[1].values,\n",
    "    y = df_3.iloc[2].values,\n",
    "    mode='markers+text',\n",
    "    text= df_3.columns,\n",
    "    textposition='top left'\n",
    ")\n",
    "trace2 = go.Scatter(\n",
    "    name=\"system\",\n",
    "    x = df_2.iloc[1].values,\n",
    "    y = df_2.iloc[2].values,\n",
    "    mode='markers+text',\n",
    "    text= df_2.columns,\n",
    "    textposition='top left'\n",
    ")\n",
    "trace = go.Scatter(\n",
    "    name=\"alarm\",\n",
    "    x = df.iloc[1].values,\n",
    "    y = df.iloc[2].values,\n",
    "    mode='markers+text',\n",
    "    text= df.columns,\n",
    "    textposition='top left'\n",
    ")\n",
    "\n",
    "plot = [trace,trace2,trace3,trace4,trace5]\n",
    "\n",
    "# Plot and embed in ipython notebook!\n",
    "py.iplot(plot)"
   ]
  },
  {
   "cell_type": "code",
   "execution_count": null,
   "metadata": {},
   "outputs": [],
   "source": [
    "df_2.iloc[1].values.mean()"
   ]
  },
  {
   "cell_type": "code",
   "execution_count": null,
   "metadata": {},
   "outputs": [],
   "source": [
    "df_2.iloc[2].values.mean()"
   ]
  },
  {
   "cell_type": "code",
   "execution_count": null,
   "metadata": {},
   "outputs": [],
   "source": [
    "data_perf['host_alarm'] = data_perf.hostname+'_'+data_perf.alarm_name"
   ]
  },
  {
   "cell_type": "code",
   "execution_count": null,
   "metadata": {},
   "outputs": [],
   "source": [
    "df_3 = data_perf.groupby(['time_date_hour','host_alarm'])['condition'].count().reindex().reset_index().pivot_table(values='condition',index='time_date_hour',columns='host_alarm',aggfunc='first',fill_value=0).reset_index().describe()"
   ]
  },
  {
   "cell_type": "code",
   "execution_count": null,
   "metadata": {},
   "outputs": [],
   "source": [
    "trace = go.Scatter(\n",
    "    name=\"tt\",\n",
    "    x = df_3.iloc[1].values,\n",
    "    y = df_3.iloc[2].values,\n",
    "    mode='markers+text',\n",
    "    text= df_3.columns,\n",
    "    textposition='top left'\n",
    ")\n",
    "plot = [trace]\n",
    "\n",
    "# Plot and embed in ipython notebook!\n",
    "py.iplot(plot)"
   ]
  },
  {
   "cell_type": "code",
   "execution_count": null,
   "metadata": {},
   "outputs": [],
   "source": [
    "df_3 = data_perf.groupby(['time_date_hour','host_alarm'])['condition'].count().reindex().reset_index().pivot_table(values='condition',index='time_date_hour',columns='host_alarm',aggfunc='first',fill_value=0).reset_index()"
   ]
  },
  {
   "cell_type": "code",
   "execution_count": null,
   "metadata": {},
   "outputs": [],
   "source": [
    "corrmat = df_3.corr()"
   ]
  },
  {
   "cell_type": "code",
   "execution_count": null,
   "metadata": {},
   "outputs": [],
   "source": [
    "clusters = []\n",
    "for node in corrmat.columns:\n",
    "    clusters.append(corrmat[corrmat[node] >= 0.9].index)\n",
    "clusters_new = []\n",
    "for cluster in clusters:\n",
    "    if len(cluster) > 1:\n",
    "        clusters_new.append(list(cluster))\n",
    "clusters_new = list(set([tuple(set(node)) for node in clusters_new]))\n",
    "\n",
    "dictt = {}\n",
    "for i in range(0,len(clusters_new)):\n",
    "    dictt.update({'cluster{}'.format(i) : list(clusters_new[i])})\n",
    "\n",
    "#data_df_date = data_df_date.reset_index()\n",
    "#pd.concat([pd.Series(clusters_new[0],name='cluster0'),pd.Series(clusters_new[1],name='cluster1')], axis=1)\n",
    "#for i in range(2,len(clusters_new)):\n",
    "#    df = pd.concat([df,pd.Series(clusters_new[i],name='cluster{}'.format(i))], axis=1)\n",
    "#df.fillna('',inplace=True)"
   ]
  },
  {
   "cell_type": "code",
   "execution_count": null,
   "metadata": {},
   "outputs": [],
   "source": [
    "len(clusters_new)"
   ]
  },
  {
   "cell_type": "code",
   "execution_count": null,
   "metadata": {},
   "outputs": [],
   "source": [
    "clusters_new"
   ]
  },
  {
   "cell_type": "code",
   "execution_count": null,
   "metadata": {},
   "outputs": [],
   "source": []
  }
 ],
 "metadata": {
  "colab": {
   "collapsed_sections": [
    "5lxRMDpvPYen",
    "Ak53gD9wPYe9",
    "ZXZmyN2LPYfc",
    "nWjrN-XePYgH",
    "ImJUAQeFPYgc",
    "gvzuciHhPYgo",
    "OPHsIWOFPYhP",
    "ondg0_qhPYha",
    "G4oZY0vzPYhs",
    "yDjE7wS6PYh1",
    "p9ATUV48PYh9",
    "ysXvTWNbPYiS",
    "x2MXf0xDPYib",
    "qOao-uaCPYic",
    "cPoBET-APYih",
    "CGaEW6jCPYii",
    "D0q3UQ5nPYit"
   ],
   "name": "20190225 (1).ipynb",
   "provenance": [],
   "version": "0.3.2"
  },
  "kernelspec": {
   "display_name": "Python 3",
   "language": "python",
   "name": "python3"
  },
  "language_info": {
   "codemirror_mode": {
    "name": "ipython",
    "version": 3
   },
   "file_extension": ".py",
   "mimetype": "text/x-python",
   "name": "python",
   "nbconvert_exporter": "python",
   "pygments_lexer": "ipython3",
   "version": "3.7.1"
  }
 },
 "nbformat": 4,
 "nbformat_minor": 1
}
