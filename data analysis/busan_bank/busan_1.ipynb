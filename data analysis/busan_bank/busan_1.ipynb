{
 "cells": [
  {
   "cell_type": "code",
   "execution_count": null,
   "metadata": {
    "colab": {},
    "colab_type": "code",
    "id": "tI5WZeMsPYdq",
    "scrolled": true
   },
   "outputs": [],
   "source": [
    "import pandas as pd\n",
    "import numpy as np\n",
    "import warnings\n",
    "import seaborn as sns\n",
    "import matplotlib.pyplot as plt\n",
    "%matplotlib inline\n",
    "#%matplotlib notebook\n",
    "from matplotlib import font_manager, rc\n",
    "import scipy.cluster.hierarchy as spc\n",
    "font_name = font_manager.FontProperties(fname=\"/usr/share/fonts/nanum/nanumGothic.ttf\").get_name()\n",
    "plt.rc('font', family=font_name)\n",
    "plt.rc('style')\n",
    "import warnings\n",
    "warnings.filterwarnings(action='ignore') \n",
    "pd.options.display.float_format = '{:.2f}'.format\n",
    "pd.options.display.max_colwidth=3000"
   ]
  },
  {
   "cell_type": "code",
   "execution_count": null,
   "metadata": {},
   "outputs": [],
   "source": [
    "from IPython.utils.path import get_ipython_dir\n",
    "print(get_ipython_dir())"
   ]
  },
  {
   "cell_type": "code",
   "execution_count": null,
   "metadata": {},
   "outputs": [],
   "source": [
    "import plotly.plotly as py\n",
    "from plotly.graph_objs import *\n",
    "py.sign_in('kyoh', 'xLxYyOTECJ48ofwzrn2j')\n",
    "from plotly.offline import download_plotlyjs, init_notebook_mode, plot, iplot\n",
    "init_notebook_mode(connected=True)"
   ]
  },
  {
   "cell_type": "code",
   "execution_count": null,
   "metadata": {
    "colab": {},
    "colab_type": "code",
    "id": "8Bt3dzV2PYdv"
   },
   "outputs": [],
   "source": [
    "from IPython.display import display_html\n",
    "def display_side_by_side(*args):\n",
    "    html_str=''\n",
    "    for df in args:\n",
    "        html_str+=df.to_html()\n",
    "    display_html(html_str.replace('table','table style=\"display:inline\"'),raw=True)"
   ]
  },
  {
   "cell_type": "code",
   "execution_count": null,
   "metadata": {},
   "outputs": [],
   "source": [
    "import os\n",
    "file_list =os.listdir('../busan/DATA')"
   ]
  },
  {
   "cell_type": "markdown",
   "metadata": {},
   "source": [
    "## 로드 데이터"
   ]
  },
  {
   "cell_type": "code",
   "execution_count": null,
   "metadata": {},
   "outputs": [],
   "source": [
    "data_list = []\n",
    "for i in file_list:\n",
    "    print(i)\n",
    "    data = pd.read_csv('../busan/DATA/'+i, encoding='UTF-8',sep=\"\\|\\|\",header=None,error_bad_lines=False)\n",
    "    data_list.append(data)\n"
   ]
  },
  {
   "cell_type": "code",
   "execution_count": null,
   "metadata": {},
   "outputs": [],
   "source": [
    "data = pd.concat(data_list ,axis=0)"
   ]
  },
  {
   "cell_type": "markdown",
   "metadata": {
    "colab_type": "text",
    "id": "2QF9Zp_0PYd3"
   },
   "source": [
    "## 1. 알람 데이터 로드 및 전처리"
   ]
  },
  {
   "cell_type": "code",
   "execution_count": null,
   "metadata": {},
   "outputs": [],
   "source": [
    "data.columns = [\"ALARM_LEVEL\",\"ALARM_NAME\",\"CTIME\",\"DTIME\",\"HOSTNAME\",\"PATH1\",\"PATH2\",\"PATH3\",\"PATH4\",\"PATH5\",\"PATH6\",\"PATH7\",\"NAME\",\"CONDITIONLOGTEXT\",\"CURRENTALARMSTATUS\"]"
   ]
  },
  {
   "cell_type": "code",
   "execution_count": null,
   "metadata": {
    "colab": {},
    "colab_type": "code",
    "id": "Zo8YV2wYPYeK",
    "scrolled": true
   },
   "outputs": [],
   "source": [
    "#컬럼 이름 수정\n",
    "data.columns = ['degree', 'alarm_name','time','clear_time','hostname','group1','group2','group3','group4','group5','group6','group7','resource_name','condition','status']"
   ]
  },
  {
   "cell_type": "code",
   "execution_count": null,
   "metadata": {
    "colab": {},
    "colab_type": "code",
    "id": "SK67xjWUPYeN",
    "scrolled": true
   },
   "outputs": [],
   "source": [
    "#추가 컬럼 생성\n",
    "data.degree = data.degree.astype(str)\n",
    "data['time'] = pd.to_datetime(data['time'], format='%Y-%m-%d %H:%M:%S')\n",
    "data['clear_time'] = pd.to_datetime(data['clear_time'], format='%Y-%m-%d %H:%M:%S')\n",
    "data['last_time'] = data['clear_time'] - data['time']\n",
    "data['last_time'] = data['last_time'].dt.seconds\n",
    "data['last_time'] = data['last_time'].fillna(0)\n",
    "data['time_month'] = data['time'].dt.month\n",
    "data['time_day'] = data['time'].dt.day\n",
    "data['time_hour'] = data['time'].dt.hour\n",
    "data['time_date']= data['time'].dt.strftime('%Y-%m-%d')\n",
    "data['time_date_hour']= data['time'].dt.strftime('%Y-%m-%d %H')\n",
    "data['time_weekday'] = data['time'].dt.weekday\n",
    "data['time_week'] = data['time'].dt.week"
   ]
  },
  {
   "cell_type": "code",
   "execution_count": null,
   "metadata": {},
   "outputs": [],
   "source": [
    "data['group'] = data.group1.fillna('')+'>'+data.group2.fillna('')+'>'+data.group3.fillna('')+'>'+data.group4.fillna('')+'>'+data.group5.fillna('')+'>'+data.group6.fillna('')+'>'+data.group7.fillna('')"
   ]
  },
  {
   "cell_type": "code",
   "execution_count": null,
   "metadata": {},
   "outputs": [],
   "source": [
    "data['group'] = data['group'].str.replace('>>','')\n",
    "data['group'] = data['group'].str.replace('>>>','')\n",
    "data['group'] = data['group'].str.replace('>>>>','')"
   ]
  },
  {
   "cell_type": "code",
   "execution_count": null,
   "metadata": {},
   "outputs": [],
   "source": [
    "data['group'] = data.group.str.replace('>부산은행>','')\n",
    "data['group'] = data.group.str.replace('부산은행>','')"
   ]
  },
  {
   "cell_type": "code",
   "execution_count": null,
   "metadata": {},
   "outputs": [],
   "source": [
    "data['group1'] = data['group'].str.split('>', expand=True)[0]\n",
    "data['group2'] = data['group'].str.split('>', expand=True)[1]\n",
    "data['group3'] = data['group'].str.split('>', expand=True)[2]\n",
    "data['group4'] = data['group'].str.split('>', expand=True)[3]\n",
    "data['group5'] = data['group'].str.split('>', expand=True)[4]\n",
    "data['group6'] = data['group'].str.split('>', expand=True)[5]"
   ]
  },
  {
   "cell_type": "code",
   "execution_count": null,
   "metadata": {},
   "outputs": [],
   "source": [
    "data = data[data.degree.isin(['1','2','3'])==True]"
   ]
  },
  {
   "cell_type": "code",
   "execution_count": null,
   "metadata": {},
   "outputs": [],
   "source": [
    "data.degree = data.degree.replace({\"1\":\"주의\",\"2\":\"경고\",\"3\":\"심각\"})"
   ]
  },
  {
   "cell_type": "markdown",
   "metadata": {},
   "source": [
    "### 2. 알람 발생 현황 분석"
   ]
  },
  {
   "cell_type": "markdown",
   "metadata": {},
   "source": [
    "#### (1) 전체 알람 데이터 현황"
   ]
  },
  {
   "cell_type": "code",
   "execution_count": null,
   "metadata": {},
   "outputs": [],
   "source": [
    "data_after = data[(data.time_date > '2018-04-01')]\n",
    "data_before = data[(data.time_date <= '2018-04-01')]\n",
    "data_after_label = '2018년 4월 2일 ~ 2019년 4월 18일'\n",
    "data_before_label = '2017년 4월 1일 ~ 2018년 4월 1일'\n",
    "display('총 데이터: {}건'.format(len(data)),'{}: {}건'.format(data_after_label,len(data_after)),'{}: {}건'.format(data_before_label,len(data_before)))"
   ]
  },
  {
   "cell_type": "code",
   "execution_count": null,
   "metadata": {},
   "outputs": [],
   "source": [
    "data_after.to_csv('2018_alarm_total_csv',encoding=False)"
   ]
  },
  {
   "cell_type": "code",
   "execution_count": null,
   "metadata": {},
   "outputs": [],
   "source": [
    "data_before['group2'] = data_before['group2'].fillna('')\n",
    "data_after['group2'] = data_after['group2'].fillna('')"
   ]
  },
  {
   "cell_type": "code",
   "execution_count": null,
   "metadata": {},
   "outputs": [],
   "source": [
    "def result_degree_group(degree,group):\n",
    "    data_after_df = data_after[data_after['degree'] == degree]\n",
    "    data_before_df = data_before[data_before['degree'] == degree]\n",
    "    print('>>>>>>{}'.format(degree))\n",
    "    for i in group:\n",
    "        print('>>>>>>>>>'+i)\n",
    "        print(data_before_label)\n",
    "        display(data_before_df[data_before_df['group2'].str.contains(i)].groupby(['alarm_name'])['time'].count().reindex().reset_index().sort_values('time',ascending=False)[:10])\n",
    "        print(data_after_label)\n",
    "        display(data_after_df[data_after_df['group2'].str.contains(i)].groupby(['alarm_name'])['time'].count().reindex().reset_index().sort_values('time',ascending=False)[:10])"
   ]
  },
  {
   "cell_type": "code",
   "execution_count": null,
   "metadata": {},
   "outputs": [],
   "source": [
    "result_degree_group('심각',['외환','통합그룹웨어','신인터넷뱅킹','기타','\\(구\\)인터넷뱅킹\\/SMS'])"
   ]
  },
  {
   "cell_type": "code",
   "execution_count": null,
   "metadata": {},
   "outputs": [],
   "source": [
    "result_degree_group('경고',['기타','외환','단위업무','CRM\\/COLD','로이터'])"
   ]
  },
  {
   "cell_type": "code",
   "execution_count": null,
   "metadata": {},
   "outputs": [],
   "source": [
    "result_degree_group('주의',['CRM\\/COLD','외환','단위업무','계정계','통합그룹웨어'])"
   ]
  },
  {
   "cell_type": "code",
   "execution_count": null,
   "metadata": {},
   "outputs": [],
   "source": [
    "def df_degree(df,title):\n",
    "    levels = ['주의','경고','심각']\n",
    "    degree_total = df.groupby(['degree'])['time'].count().reindex(levels).reset_index()\n",
    "    degree_total['per'] = degree_total.time/degree_total.sum().time * 100\n",
    "    degree_total.columns = ['degree','count','per']\n",
    "    degree_total.sort_values('degree')\n",
    "    trace1 = {\n",
    "      \"name\" : \"\",\n",
    "      \"domain\": {\n",
    "    \"x\": [0, 0.5], \n",
    "    \"y\": [0.25, 1]\n",
    "              }, \n",
    "      \"labels\": [\"주의\", \"경고\", \"심각\"], \n",
    "      \"type\": \"pie\", \n",
    "      \"values\": list(degree_total['count']),\n",
    "      \"hole\": .4,\n",
    "        }\n",
    "    trace2 = {\n",
    "      \"cells\": {\n",
    "        \"align\": \"center\", \n",
    "        \"fill\": {\"color\": \"rgb(255, 255, 255)\"}, \n",
    "        \"font\": {\n",
    "          \"color\": \"rgb(48, 55, 66)\", \n",
    "          \"family\": \"Arial\", \n",
    "          \"size\": 19\n",
    "        }, \n",
    "        \"height\": 33, \n",
    "        \"line\": {\n",
    "          \"color\": \"rgb(171, 191, 212)\", \n",
    "          \"width\": 1\n",
    "        }, \n",
    "        \"values\": [list(degree_total['degree']), list(degree_total['count'].astype(str)+\" 건\"), list(degree_total['per'].round().astype(str)+\" %\")]\n",
    "        },\n",
    "        \"domain\": {\n",
    "            \"x\": [0.5, 1], \n",
    "            \"y\": [0.25, 0.75]\n",
    "          }, \n",
    "          \"header\": {\n",
    "            \"fill\": {\"color\": \"rgb(31, 119, 180)\"}, \n",
    "            \"font\": {\n",
    "              \"color\": \"rgb(255, 255, 255)\", \n",
    "              \"size\": 24\n",
    "            }, \n",
    "            \"height\": 37, \n",
    "            \"line\": {\"color\": \"rgb(140, 177, 214)\"}, \n",
    "            \"values\": ['등급','건수','비율']\n",
    "            }, \"type\": \"table\" }\n",
    "    data = Data([trace1, trace2])\n",
    "    layout = {\n",
    "      \"autosize\": True, \n",
    "      \"colorway\": [\"#FF7F0E\",'#FFC90E',\"#D62728\"], \n",
    "      \"font\": {\"size\": 20},\n",
    "      \"legend\": {\n",
    "            \"x\": 0.3961578483357668, \n",
    "            \"y\": 1.1245210727969348\n",
    "       }, \n",
    "      \"title\": {\"text\": title}, \n",
    "      \"xaxis\": {\n",
    "            \"autorange\": True, \n",
    "            \"range\": [-1, 6]\n",
    "              }, \n",
    "      \"yaxis\": {\n",
    "            \"autorange\": True, \n",
    "            \"range\": [-1, 4]\n",
    "      }\n",
    "    }\n",
    "    fig = Figure(data=data, layout=layout)\n",
    "    iplot(fig)\n",
    "    #display(degree_total)"
   ]
  },
  {
   "cell_type": "code",
   "execution_count": null,
   "metadata": {},
   "outputs": [],
   "source": [
    "df_degree(data,'총 발생 알람')"
   ]
  },
  {
   "cell_type": "code",
   "execution_count": null,
   "metadata": {},
   "outputs": [],
   "source": [
    "data_log_before = data_before[data_before.condition.str.contains('이벤트 탐지') == True]\n",
    "data_perf_before = data_before[data_before.condition.str.contains('이벤트 탐지') == False]\n",
    "display('2017년 4월 1일 ~ 2018년 4월 1일','성능 데이터: {}건'.format(len(data_perf_before)),'로그 데이터: {}건'.format(len(data_log_before)))"
   ]
  },
  {
   "cell_type": "code",
   "execution_count": null,
   "metadata": {},
   "outputs": [],
   "source": [
    "data_log = data_after[data_after.condition.str.contains('이벤트 탐지') == True]\n",
    "data_perf = data_after[data_after.condition.str.contains('이벤트 탐지') == False]\n",
    "display('2018년 4월 2일 ~ 2019년 4월 18일','성능 데이터: {}건'.format(len(data_perf)),'로그 데이터: {}건'.format(len(data_log)))"
   ]
  },
  {
   "cell_type": "markdown",
   "metadata": {},
   "source": [
    "#### (2) 일반 알람 등급별 발생 현황"
   ]
  },
  {
   "cell_type": "code",
   "execution_count": null,
   "metadata": {},
   "outputs": [],
   "source": [
    "df_degree(data_perf,'성능 알람 건수({})'.format(data_after_label))\n",
    "df_degree(data_perf_before,'성능 알람 건수({})'.format(data_before_label))\n",
    "df_degree(data_log,'로그 알람 건수({})'.format(data_after_label))\n",
    "df_degree(data_log_before,'로그 알람 건수({})'.format(data_before_label))"
   ]
  },
  {
   "cell_type": "code",
   "execution_count": null,
   "metadata": {},
   "outputs": [],
   "source": [
    "def group_chart(df,group,num,degree,title):\n",
    "    if degree == \"주의\":\n",
    "        color = [\"#FFC90E\"]\n",
    "    if degree == \"경고\":\n",
    "        color = [\"#FF7F0E\"]\n",
    "    if degree == \"심각\":\n",
    "        color = [\"#D62728\"]\n",
    "    df = df.groupby([group,'degree'])['time'].count().reindex().reset_index().pivot_table(values='time', index=group, columns='degree', aggfunc='first',fill_value=0).reset_index()\n",
    "    df['sum'] = df.sum(axis=1)\n",
    "    df['per'] = df[degree]/df[degree].sum(axis=0)*100\n",
    "    df.columns = ['그룹','경고','심각','주의','총합','비율']\n",
    "    df = df[['그룹','주의','경고','심각','총합','비율']].sort_values(degree,ascending=False).iloc[:num]\n",
    "    trace1 = {\n",
    "      \"x\": list(df[degree]), \n",
    "      \"y\": list(df['그룹']), \n",
    "      \"name\": degree, \n",
    "      \"orientation\": \"h\", \n",
    "      \"type\": \"bar\", \n",
    "      \"visible\": True, \n",
    "      \"xaxis\": \"x\"\n",
    "    }\n",
    "    trace2 = {\n",
    "      \"cells\": {\n",
    "        \"align\": \"center\", \n",
    "        \"fill\": {\"color\": \"rgb(255, 255, 255)\"}, \n",
    "        \"font\": {\n",
    "          \"color\": \"rgb(48, 55, 66)\", \n",
    "          \"family\": \"Arial\", \n",
    "          \"size\": 13\n",
    "        }, \n",
    "        \"height\": 25, \n",
    "        \"line\": {\n",
    "          \"color\": \"rgb(171, 191, 212)\", \n",
    "          \"width\": 1\n",
    "        }, \n",
    "        \"values\": [list(df['그룹']), list(df[degree].astype(str)+\" 건\"), list(df['비율'].round().astype(str)+\" %\")]\n",
    "        },\n",
    "        \"domain\": {\n",
    "            \"x\": [0.3, 1], \n",
    "            \"y\": [0, 1]\n",
    "          },\n",
    "          \"header\": {\n",
    "            \"fill\": {\"color\": \"rgb(31, 119, 180)\"}, \n",
    "            \"font\": {\n",
    "              \"color\": \"rgb(255, 255, 255)\", \n",
    "              \"size\": 15\n",
    "            }, \n",
    "            \"height\": 25, \n",
    "            \"line\": {\"color\": \"rgb(140, 177, 214)\"}, \n",
    "            \"values\": ['이름','건수','비율']\n",
    "            },  \"columnwidth\": [20,10,10], \"type\": \"table\" }\n",
    "    data = Data([trace1,trace2])\n",
    "    layout = {\n",
    "      \"autosize\": True, \n",
    "      \"colorway\": color, \n",
    "      \"font\": {\n",
    "        \"color\": \"rgb(34, 43, 59)\", \n",
    "        \"size\": 13\n",
    "      }, \n",
    "      \"legend\": {\n",
    "        \"x\": -0.11808242767074219, \n",
    "        \"y\": 1.10727969348659, \n",
    "        \"font\": {\"size\": 20}\n",
    "      }, \n",
    "      \"showlegend\": True, \n",
    "      \"title\": {\n",
    "        \"font\": {\"size\": 20}, \n",
    "        \"text\": title\n",
    "      }, \n",
    "      \"xaxis\": {\n",
    "        \"autorange\": True, \n",
    "        \"domain\": [0, 0.3], \n",
    "        \"exponentformat\": \"none\", \n",
    "        \"range\": [0, 501672.63157894736], \n",
    "        \"type\": \"linear\"\n",
    "      }, \n",
    "      \"yaxis\": {\n",
    "        \"autorange\": \"reversed\", \n",
    "        \"range\": [-0.5, 2.5], \n",
    "        \"domain\": [1, 0.2], \n",
    "        \"type\": \"category\",\n",
    "        \"automargin\": True\n",
    "      }\n",
    "    }\n",
    "    fig = Figure(data=data, layout=layout)\n",
    "    iplot(fig)\n",
    "    display(df[['그룹',degree,'총합','비율']])"
   ]
  },
  {
   "cell_type": "code",
   "execution_count": null,
   "metadata": {},
   "outputs": [],
   "source": [
    "def group_chart2(df,group,group2,num,degree,title):\n",
    "    if degree == \"주의\":\n",
    "        color = [\"#FFC90E\"]\n",
    "    if degree == \"경고\":\n",
    "        color = [\"#FF7F0E\"]\n",
    "    if degree == \"심각\":\n",
    "        color = [\"#D62728\"]\n",
    "    df2 = df.groupby([group,'degree'])['time'].count().reindex().reset_index()\n",
    "    df2 = df2[df2['degree']==degree]\n",
    "    df2.columns = ['호스트명','등급','건수']\n",
    "    df2 = df2[['호스트명','등급','건수']].sort_values('건수',ascending=False).iloc[:num]\n",
    "    df = data_perf.groupby([group,group2,'degree'])['time'].count().reindex().reset_index()\n",
    "    df = df[df['degree']==degree]\n",
    "    df['per'] = df['time']/df['time'].sum(axis=0)*100\n",
    "    df.columns = ['호스트명','알람이름','등급','건수','비율']\n",
    "    df = df[['호스트명','알람이름','등급','건수','비율']].sort_values('건수',ascending=False).iloc[:num]\n",
    "    trace1 = {\n",
    "      \"x\": list(df2['건수']), \n",
    "      \"y\": list(df2['호스트명']), \n",
    "      \"name\": degree, \n",
    "      \"orientation\": \"h\", \n",
    "      \"type\": \"bar\", \n",
    "      \"visible\": True, \n",
    "      \"xaxis\": \"x\"\n",
    "    }\n",
    "    trace2 = {\n",
    "      \"cells\": {\n",
    "        \"align\": \"center\", \n",
    "        \"fill\": {\"color\": \"rgb(255, 255, 255)\"}, \n",
    "        \"font\": {\n",
    "          \"color\": \"rgb(48, 55, 66)\", \n",
    "          \"family\": \"Arial\", \n",
    "          \"size\": 13\n",
    "        }, \n",
    "        \"height\": 25, \n",
    "        \"line\": {\n",
    "          \"color\": \"rgb(171, 191, 212)\", \n",
    "          \"width\": 1\n",
    "        }, \n",
    "        \"values\": [list(df['호스트명']),list(df['알람이름']), list(df['건수'].astype(str)+\" 건\"), list(df['비율'].round().astype(str)+\" %\")]\n",
    "        },\n",
    "        \"domain\": {\n",
    "            \"x\": [0.3, 1], \n",
    "            \"y\": [0, 1]\n",
    "          },\n",
    "          \"header\": {\n",
    "            \"fill\": {\"color\": \"rgb(31, 119, 180)\"}, \n",
    "            \"font\": {\n",
    "              \"color\": \"rgb(255, 255, 255)\", \n",
    "              \"size\": 15\n",
    "            }, \n",
    "            \"height\": 25, \n",
    "            \"line\": {\"color\": \"rgb(140, 177, 214)\"}, \n",
    "            \"values\": ['호스트명','알람이름','건수','비율']\n",
    "            },  \"columnwidth\": [10,20,10,10], \"type\": \"table\" }\n",
    "    data = Data([trace1,trace2])\n",
    "    layout = {\n",
    "      \"autosize\": True, \n",
    "      \"colorway\": color, \n",
    "      \"font\": {\n",
    "        \"color\": \"rgb(34, 43, 59)\", \n",
    "        \"size\": 13\n",
    "      }, \n",
    "      \"legend\": {\n",
    "        \"x\": -0.11808242767074219, \n",
    "        \"y\": 1.10727969348659, \n",
    "        \"font\": {\"size\": 20}\n",
    "      }, \n",
    "      \"showlegend\": True, \n",
    "      \"title\": {\n",
    "        \"font\": {\"size\": 20}, \n",
    "        \"text\": title\n",
    "      }, \n",
    "      \"xaxis\": {\n",
    "        \"autorange\": True, \n",
    "        \"domain\": [0, 0.3], \n",
    "        \"exponentformat\": \"none\", \n",
    "        \"range\": [0, 501672.63157894736], \n",
    "        \"type\": \"linear\"\n",
    "      }, \n",
    "      \"yaxis\": {\n",
    "        \"autorange\": \"reversed\", \n",
    "        \"range\": [-0.5, 2.5], \n",
    "        \"domain\": [1, 0.2], \n",
    "        \"type\": \"category\",\n",
    "        \"automargin\": True\n",
    "      }\n",
    "    }\n",
    "    fig = Figure(data=data, layout=layout)\n",
    "    iplot(fig)"
   ]
  },
  {
   "cell_type": "code",
   "execution_count": null,
   "metadata": {},
   "outputs": [],
   "source": [
    "def group_chart_total(df,group,num,title):\n",
    "    df = df.groupby([group])['time'].count().reindex().reset_index()\n",
    "    df['sum'] = df.sum(axis=1)\n",
    "    df['per'] = df['time']/df['time'].sum(axis=0)*100\n",
    "    df.columns = ['그룹','건수','총합','비율']\n",
    "    df = df[['그룹','건수','총합','비율']].sort_values('건수',ascending=False).iloc[:num]\n",
    "    trace1 = {\n",
    "      \"x\": list(df['건수']), \n",
    "      \"y\": list(df['그룹']), \n",
    "      \"name\": '총 건수', \n",
    "      \"orientation\": \"h\", \n",
    "      \"type\": \"bar\", \n",
    "      \"visible\": True, \n",
    "      \"xaxis\": \"x\"\n",
    "    }\n",
    "    trace2 = {\n",
    "      \"cells\": {\n",
    "        \"align\": \"center\", \n",
    "        \"fill\": {\"color\": \"rgb(255, 255, 255)\"}, \n",
    "        \"font\": {\n",
    "          \"color\": \"rgb(48, 55, 66)\", \n",
    "          \"family\": \"Arial\", \n",
    "          \"size\": 13\n",
    "        }, \n",
    "        \"height\": 25, \n",
    "        \"line\": {\n",
    "          \"color\": \"rgb(171, 191, 212)\", \n",
    "          \"width\": 1\n",
    "        }, \n",
    "        \"values\": [list(df['그룹']), list(df['건수'].astype(str)+\" 건\"), list(df['비율'].round().astype(str)+\" %\")]\n",
    "        },\n",
    "        \"domain\": {\n",
    "            \"x\": [0.3, 1], \n",
    "            \"y\": [0, 1]\n",
    "          },\n",
    "          \"header\": {\n",
    "            \"fill\": {\"color\": \"rgb(31, 119, 180)\"}, \n",
    "            \"font\": {\n",
    "              \"color\": \"rgb(255, 255, 255)\", \n",
    "              \"size\": 15\n",
    "            }, \n",
    "            \"height\": 25, \n",
    "            \"line\": {\"color\": \"rgb(140, 177, 214)\"}, \n",
    "            \"values\": ['이름','건수','비율']\n",
    "            },  \"columnwidth\": [20,10,10], \"type\": \"table\" }\n",
    "    data = Data([trace1,trace2])\n",
    "    layout = {\n",
    "      \"autosize\": True, \n",
    "      \"font\": {\n",
    "        \"color\": \"rgb(34, 43, 59)\", \n",
    "        \"size\": 13\n",
    "      }, \n",
    "      \"legend\": {\n",
    "        \"x\": -0.11808242767074219, \n",
    "        \"y\": 1.10727969348659, \n",
    "        \"font\": {\"size\": 20}\n",
    "      }, \n",
    "      \"showlegend\": True, \n",
    "      \"title\": {\n",
    "        \"font\": {\"size\": 20}, \n",
    "        \"text\": title\n",
    "      }, \n",
    "      \"xaxis\": {\n",
    "        \"autorange\": True, \n",
    "        \"domain\": [0, 0.3], \n",
    "        \"exponentformat\": \"none\", \n",
    "        \"range\": [0, 501672.63157894736], \n",
    "        \"type\": \"linear\"\n",
    "      }, \n",
    "      \"yaxis\": {\n",
    "        \"autorange\": \"reversed\", \n",
    "        \"range\": [-0.5, 2.5], \n",
    "        \"domain\": [1, 0.2], \n",
    "        \"type\": \"category\",\n",
    "        \"automargin\": True\n",
    "      }\n",
    "    }\n",
    "    fig = Figure(data=data, layout=layout)\n",
    "    iplot(fig)\n",
    "    display(df)"
   ]
  },
  {
   "cell_type": "markdown",
   "metadata": {},
   "source": [
    "### 년도 별 장비 전체 알람 TOP10"
   ]
  },
  {
   "cell_type": "code",
   "execution_count": null,
   "metadata": {},
   "outputs": [],
   "source": [
    "group_chart_total(data_perf_before,'hostname',10,data_before_label)\n",
    "group_chart_total(data_perf,'hostname',10,data_after_label)"
   ]
  },
  {
   "cell_type": "markdown",
   "metadata": {},
   "source": [
    "### 년도 별 장비 등급별 알람 TOP10"
   ]
  },
  {
   "cell_type": "code",
   "execution_count": null,
   "metadata": {},
   "outputs": [],
   "source": [
    "group_chart(data_perf_before,'hostname',10,'주의',data_before_label)\n",
    "group_chart(data_perf,'hostname',10,'주의',data_after_label)\n",
    "group_chart(data_perf_before,'hostname',10,'경고',data_before_label)\n",
    "group_chart(data_perf,'hostname',10,'경고',data_after_label)\n",
    "group_chart(data_perf_before,'hostname',10,'심각',data_before_label)\n",
    "group_chart(data_perf,'hostname',10,'심각',data_after_label)"
   ]
  },
  {
   "cell_type": "markdown",
   "metadata": {},
   "source": [
    "### 01월 20일 전체 TOP 10 / 02월 05일 전체 TOP 10"
   ]
  },
  {
   "cell_type": "code",
   "execution_count": null,
   "metadata": {},
   "outputs": [],
   "source": [
    "group_chart_total(data_after[data_after.time_date == '2019-01-20'],'alarm_name',10,'2019-01-20')\n",
    "group_chart_total(data_after[data_after.time_date == '2019-02-05'],'alarm_name',10,'2019-02-05')"
   ]
  },
  {
   "cell_type": "code",
   "execution_count": null,
   "metadata": {},
   "outputs": [],
   "source": [
    "group_chart_total(data_after[data_after.time_date == '2019-01-15'],'alarm_name',10,'2019-01-15')"
   ]
  },
  {
   "cell_type": "markdown",
   "metadata": {},
   "source": [
    "### 01월 20일 등급별 TOP 10 / 02월 05일 등급별 TOP 10"
   ]
  },
  {
   "cell_type": "code",
   "execution_count": null,
   "metadata": {},
   "outputs": [],
   "source": [
    "group_chart(data_after[data_after.time_date == '2019-01-20'],'alarm_name',10,'주의','2019-01-20(주의)')\n",
    "group_chart(data_after[data_after.time_date == '2019-02-05'],'alarm_name',10,'주의','2019-02-05(주의)')\n",
    "group_chart(data_after[data_after.time_date == '2019-01-20'],'alarm_name',10,'경고','2019-01-20(경고)')\n",
    "group_chart(data_after[data_after.time_date == '2019-02-05'],'alarm_name',10,'경고','2019-02-05(경고)')\n",
    "group_chart(data_after[data_after.time_date == '2019-01-20'],'alarm_name',10,'심각','2019-01-20(심각)')\n",
    "group_chart(data_after[data_after.time_date == '2019-02-05'],'alarm_name',10,'심각','2019-02-05(심각)')"
   ]
  },
  {
   "cell_type": "code",
   "execution_count": null,
   "metadata": {},
   "outputs": [],
   "source": [
    "group_chart(data_after[data_after.time_date == '2019-01-15'],'alarm_name',10,'주의','2019-01-15(주의)')\n",
    "group_chart(data_after[data_after.time_date == '2019-01-15'],'alarm_name',10,'경고','2019-01-15(경고)')\n",
    "group_chart(data_after[data_after.time_date == '2019-01-15'],'alarm_name',10,'심각','2019-01-15(심각)')"
   ]
  },
  {
   "cell_type": "code",
   "execution_count": null,
   "metadata": {},
   "outputs": [],
   "source": [
    "data_after[(data_after.time_date == '2019-01-10')&(data_after.condition.str.contains('이벤트 탐지'))].groupby(['hostname','condition'])['time'].count().reindex().reset_index()"
   ]
  },
  {
   "cell_type": "code",
   "execution_count": null,
   "metadata": {
    "scrolled": true
   },
   "outputs": [],
   "source": [
    "data_after[(data_after.time_date == '2019-02-05')&(data_after.condition.str.contains('이벤트 탐지'))].groupby(['hostname','condition'])['time'].count().reindex().reset_index()"
   ]
  },
  {
   "cell_type": "markdown",
   "metadata": {},
   "source": [
    "### 01월 20일 장비별 전체 등급  TOP 10 / 02월 05일 장비별 전체 등급  TOP 10"
   ]
  },
  {
   "cell_type": "code",
   "execution_count": null,
   "metadata": {},
   "outputs": [],
   "source": [
    "group_chart_total(data_after[data_after.time_date == '2019-01-20'],'hostname',10,'2019-01-20')\n",
    "group_chart_total(data_after[data_after.time_date == '2019-02-05'],'hostname',10,'2019-02-05')"
   ]
  },
  {
   "cell_type": "markdown",
   "metadata": {},
   "source": [
    "### 01월 20일 장비별 등급별 TOP 10 / 2월 05일 장비별 등급별 TOP 10"
   ]
  },
  {
   "cell_type": "code",
   "execution_count": null,
   "metadata": {},
   "outputs": [],
   "source": [
    "group_chart(data_after[data_after.time_date == '2019-01-20'],'hostname',10,'주의','2019-01-20(주의)')\n",
    "group_chart(data_after[data_after.time_date == '2019-02-05'],'hostname',10,'주의','2019-02-05(주의)')\n",
    "group_chart(data_after[data_after.time_date == '2019-01-20'],'hostname',10,'경고','2019-01-20(경고)')\n",
    "group_chart(data_after[data_after.time_date == '2019-02-05'],'hostname',10,'경고','2019-02-05(경고)')\n",
    "group_chart(data_after[data_after.time_date == '2019-01-20'],'hostname',10,'심각','2019-01-20(심각)')\n",
    "group_chart(data_after[data_after.time_date == '2019-02-05'],'hostname',10,'심각','2019-02-05(심각)')"
   ]
  },
  {
   "cell_type": "code",
   "execution_count": null,
   "metadata": {},
   "outputs": [],
   "source": [
    "test = data_after.groupby(['group2'])['time'].count().reindex().reset_index().sort_values('time',ascending=False)\n",
    "test['비율'] = test['time']/test['time'].sum()*100\n",
    "test[:20].to_excel('{}.xlsx'.format(str(data_after_label)))"
   ]
  },
  {
   "cell_type": "code",
   "execution_count": null,
   "metadata": {},
   "outputs": [],
   "source": [
    "test = data_before.groupby(['group2'])['time'].count().reindex().reset_index().sort_values('time',ascending=False)\n",
    "test['비율'] = test['time']/test['time'].sum()*100\n",
    "test[:20].to_excel('{}.xlsx'.format(str(data_before_label)))"
   ]
  },
  {
   "cell_type": "code",
   "execution_count": null,
   "metadata": {},
   "outputs": [],
   "source": [
    "group_chart(data,'group2',10,'주의','주의_전체')\n",
    "group_chart(data,'group2',10,'경고','경고_전체')\n",
    "group_chart(data,'group2',10,'심각','심각_전체')"
   ]
  },
  {
   "cell_type": "code",
   "execution_count": null,
   "metadata": {},
   "outputs": [],
   "source": [
    "group_chart_total(data_perf_before,'alarm_name',10,data_before_label)\n",
    "group_chart_total(data_perf,'alarm_name',10,data_after_label)"
   ]
  },
  {
   "cell_type": "code",
   "execution_count": null,
   "metadata": {},
   "outputs": [],
   "source": [
    "group_chart(data_perf,'group2',10,'주의','주의({})'.format(data_after_label))\n",
    "group_chart(data_perf_before,'group2',10,'주의','주의({})'.format(data_before_label))\n",
    "group_chart(data_perf,'group2',10,'경고','경고({})'.format(data_after_label))\n",
    "group_chart(data_perf_before,'group2',10,'경고','경고({})'.format(data_before_label))\n",
    "group_chart(data_perf,'group2',10,'심각','심각({})'.format(data_after_label))\n",
    "group_chart(data_perf_before,'group2',10,'심각','심각({})'.format(data_before_label))"
   ]
  },
  {
   "cell_type": "code",
   "execution_count": null,
   "metadata": {},
   "outputs": [],
   "source": [
    "group_chart(data_perf,'alarm_name',10,'주의','주의({})'.format(data_after_label))\n",
    "group_chart(data_perf_before,'alarm_name',10,'주의','주의({})'.format(data_before_label))\n",
    "group_chart(data_perf,'alarm_name',10,'경고','경고({})'.format(data_after_label))\n",
    "group_chart(data_perf_before,'alarm_name',10,'경고','경고({})'.format(data_before_label))\n",
    "group_chart(data_perf,'alarm_name',10,'심각','심각({})'.format(data_after_label))\n",
    "group_chart(data_perf_before,'alarm_name',10,'심각','심각({})'.format(data_before_label))"
   ]
  },
  {
   "cell_type": "code",
   "execution_count": null,
   "metadata": {},
   "outputs": [],
   "source": [
    "group_chart2(data_perf,'hostname','alarm_name',10,'주의')\n",
    "group_chart2(data_perf,'hostname','alarm_name',10,'경고')\n",
    "group_chart2(data_perf,'hostname','alarm_name',10,'심각')"
   ]
  },
  {
   "cell_type": "code",
   "execution_count": null,
   "metadata": {},
   "outputs": [],
   "source": [
    "def rank_chart(df,group):\n",
    "    df = df.groupby([group,'degree'])['time'].count().reindex().reset_index().pivot_table(values='time', index=group, columns='degree', aggfunc='first',fill_value=0)\n",
    "    df['sum'] = df.sum(axis=1)\n",
    "    df = df.sort_values('sum',ascending=False).reset_index()\n",
    "    df.columns = ['호스트명','경고','심각','주의','총합']\n",
    "    df.index = df.index + 1\n",
    "    table_1 = df[:10]\n",
    "    table_2 = df[10:20]\n",
    "    df =df[:15]\n",
    "    trace1 = {\n",
    "      \"x\": list(df['호스트명']), \n",
    "      \"y\": list(df['주의']), \n",
    "      \"marker\": {\n",
    "        \"color\": \"#FFC90E\", \n",
    "        \"line\": {\"width\": 1}\n",
    "      }, \n",
    "      \"opacity\": 0.6, \n",
    "      \"name\": \"주의\", \n",
    "      \"orientation\": \"v\", \n",
    "      \"textposition\": \"none\", \n",
    "      \"type\": \"bar\", \n",
    "    }\n",
    "    trace2 = {\n",
    "      \"x\": list(df['호스트명']), \n",
    "      \"y\": list(df['경고']), \n",
    "      \"marker\": {\n",
    "        \"color\": \"#FF7F0E\", \n",
    "        \"line\": {\"width\": 1}\n",
    "      }, \n",
    "      \"name\": \"경고\", \n",
    "      \"opacity\": 0.6, \n",
    "      \"orientation\": \"v\",\n",
    "      \"type\": \"bar\"\n",
    "    }\n",
    "    trace3 = {\n",
    "      \"x\": list(df['호스트명']),\n",
    "      \"y\": list(df['심각']), \n",
    "      \"marker\": {\n",
    "        \"color\": \"#D62728\",\n",
    "        \"line\": {\"width\": 1}\n",
    "      }, \n",
    "      \"name\": \"심각\", \n",
    "      \"opacity\": 0.6, \n",
    "      \"orientation\": \"v\", \n",
    "      \"type\": \"bar\", \n",
    "    }\n",
    "    trace4 = {\n",
    "      \"x\": list(df['호스트명']),\n",
    "      \"y\": list(df['총합']), \n",
    "      \"cliponaxis\": True, \n",
    "      \"constraintext\": \"none\", \n",
    "      \"name\" : \"총합\",\n",
    "      \"marker\": {\n",
    "        \"color\": \"#2B62AD\",\n",
    "        \"line\": {\"width\": 1}\n",
    "      }, \n",
    "      \"opacity\": 0.63, \n",
    "      \"orientation\": \"v\", \n",
    "      \"text\": list(df['총합'].astype('str')), \n",
    "      \"textfont\": {\n",
    "        \"color\": \"rgb(255, 0, 6)\", \n",
    "        \"family\": \"Roboto\", \n",
    "        \"size\": 10\n",
    "      }, \n",
    "      \"textposition\": \"outside\", \n",
    "      \"type\": \"bar\"\n",
    "    }\n",
    "    trace5 = {\n",
    "      \"cells\": {\n",
    "        \"values\": [\n",
    "        list(table_1.index),list(table_1['호스트명']),list(table_1['주의']),list(table_1['경고']),list(table_1['심각']),list(table_1['총합'])\n",
    "        ]\n",
    "      }, \n",
    "      \"domain\": {\n",
    "        \"x\": [0, 0.5], \n",
    "        \"y\": [0, 0.48]\n",
    "      }, \n",
    "      \"header\": {\n",
    "        \"values\": [\"RANK\", \"HOSTNAME\", \"주의\", \"경고\", \"심각\", \"총합계\"], \n",
    "        \"valuessrc\": \"kyoh:14:429f25\"\n",
    "      }, \n",
    "      \"type\": \"table\"\n",
    "    }\n",
    "    trace6 = {\n",
    "      \"cells\": {\n",
    "        \"values\": [\n",
    "        list(table_2.index),list(table_2['호스트명']),list(table_2['주의']),list(table_2['경고']),list(table_2['심각']),list(table_2['총합'])\n",
    "    ]\n",
    "      }, \n",
    "      \"domain\": {\n",
    "        \"x\": [0.5, 1], \n",
    "        \"y\": [0, 0.48]\n",
    "      }, \n",
    "      \"header\": {\n",
    "        \"values\": [\"RANK\", \"HOSTNAME\", \"주의\", \"경고\", \"심각\", \"총합계\"], \n",
    "      }, \n",
    "      \"type\": \"table\"\n",
    "    }\n",
    "    data = Data([trace1, trace2, trace3, trace4])\n",
    "    layout = {\n",
    "      \"dragmode\": \"zoom\", \n",
    "      \"hovermode\": \"closest\", \n",
    "      \"legend\": {\n",
    "        \"x\": 0.4534313725490196, \n",
    "        \"y\": 1.0802211091654588, \n",
    "        \"orientation\": \"h\", \n",
    "        \"xanchor\": \"auto\"\n",
    "      }, \n",
    "      \"xaxis\": {\n",
    "        \"autorange\": True, \n",
    "        \"domain\": [0, 1], \n",
    "        \"fixedrange\": False, \n",
    "        \"nticks\": 10, \n",
    "        \"range\": [-0.5, 9.5], \n",
    "        \"rangeslider\": {\n",
    "          \"autorange\": True, \n",
    "          \"range\": [-0.5, 9.5], \n",
    "          \"visible\": False\n",
    "        }, \n",
    "        \"showline\": False, \n",
    "        \"showspikes\": False, \n",
    "        \"showticklabels\": False, \n",
    "        \"ticks\": \"\", \n",
    "        \"title\": {\"text\": \"\"}, \n",
    "        \"type\": \"category\"\n",
    "      }, \n",
    "      \"yaxis\": {\n",
    "        \"autorange\": True, \n",
    "        \"domain\": [0.3, 1], \n",
    "        \"exponentformat\": \"none\", \n",
    "        \"range\": [0, 70986.31578947368], \n",
    "        \"showspikes\": False, \n",
    "        \"ticks\": \"\"\n",
    "      }\n",
    "    }\n",
    "    fig = Figure(data=data, layout=layout)\n",
    "    iplot(fig)\n",
    "\n",
    "    trace5 = {\n",
    "        \"cells\": {\n",
    "        \"align\": \"center\", \n",
    "        \"fill\": {\"color\": \"rgb(255, 255, 255)\"}, \n",
    "        \"font\": {\n",
    "        \"color\": \"rgb(48, 55, 66)\", \n",
    "        \"family\": \"Arial\", \n",
    "        \"size\": 13,},\n",
    "        \"height\": 25, \n",
    "        \"line\": {\n",
    "        \"color\": \"rgb(171, 191, 212)\", \n",
    "        \"width\": 1\n",
    "            }, \n",
    "        \"values\": [\n",
    "        list(table_1.index),list(table_1['호스트명']),list(table_1['주의']),list(table_1['경고']),list(table_1['심각']),list(table_1['총합'])\n",
    "        ]\n",
    "      }, \n",
    "      \"domain\": {\n",
    "        \"x\": [0, 0.5], \n",
    "        \"y\": [0, 1]\n",
    "      }, \n",
    "      \"header\": {\n",
    "        \"values\": [\"No\", \"HOSTNAME\", \"주의\", \"경고\", \"심각\", \"총합계\"], \n",
    "                \"fill\": {\"color\": \"rgb(31, 119, 180)\"}, \n",
    "                \"font\": {\n",
    "                  \"color\": \"rgb(255, 255, 255)\", \n",
    "                  \"size\": 15\n",
    "      }},\"columnwidth\": [5,15,10,10,10],\n",
    "      \"type\": \"table\"\n",
    "    }\n",
    "    trace6 = {\n",
    "    \"cells\": {\n",
    "        \"align\": \"center\", \n",
    "        \"fill\": {\"color\": \"rgb(255, 255, 255)\"}, \n",
    "        \"font\": {\n",
    "        \"color\": \"rgb(48, 55, 66)\", \n",
    "        \"family\": \"Arial\", \n",
    "        \"size\": 13,},\n",
    "        \"height\": 25, \n",
    "        \"line\": {\n",
    "        \"color\": \"rgb(171, 191, 212)\", \n",
    "        \"width\": 1\n",
    "            }, \n",
    "        \"values\": [\n",
    "        list(table_2.index),list(table_2['호스트명']),list(table_2['주의']),list(table_2['경고']),list(table_2['심각']),list(table_2['총합'])\n",
    "        ]\n",
    "      }, \n",
    "      \"domain\": {\n",
    "        \"x\": [0.5, 1], \n",
    "        \"y\": [0, 1]\n",
    "      }, \n",
    "      \"header\": {\n",
    "        \"values\": [\"No\", \"HOSTNAME\", \"주의\", \"경고\", \"심각\", \"총합계\"], \n",
    "                \"fill\": {\"color\": \"rgb(31, 119, 180)\"}, \n",
    "                \"font\": {\n",
    "                  \"color\": \"rgb(255, 255, 255)\", \n",
    "                  \"size\": 15\n",
    "      }},\"columnwidth\": [5,15,10,10,10],\n",
    "         \"type\": \"table\"\n",
    "    }\n",
    "    data = Data([trace5, trace6])\n",
    "    layout = {\n",
    "      \"dragmode\": \"zoom\", \n",
    "      \"hovermode\": \"closest\", \n",
    "      \"legend\": {\n",
    "        \"x\": 0.4534313725490196, \n",
    "        \"y\": 1.0802211091654588, \n",
    "        \"orientation\": \"h\", \n",
    "        \"xanchor\": \"auto\"\n",
    "      }, \n",
    "      \"xaxis\": {\n",
    "        \"autorange\": True, \n",
    "        \"domain\": [0, 1], \n",
    "        \"fixedrange\": False, \n",
    "        \"nticks\": 10, \n",
    "        \"range\": [-0.5, 9.5], \n",
    "        \"rangeslider\": {\n",
    "          \"autorange\": True, \n",
    "          \"range\": [-0.5, 9.5], \n",
    "          \"visible\": False\n",
    "        }, \n",
    "        \"showline\": False, \n",
    "        \"showspikes\": False, \n",
    "        \"showticklabels\": False, \n",
    "        \"ticks\": \"\", \n",
    "        \"title\": {\"text\": \"\"}, \n",
    "        \"type\": \"category\"\n",
    "      }, \n",
    "      \"yaxis\": {\n",
    "        \"autorange\": True, \n",
    "        \"domain\": [0.3, 1], \n",
    "        \"exponentformat\": \"none\", \n",
    "        \"range\": [0, 70986.31578947368], \n",
    "        \"showspikes\": False, \n",
    "        \"ticks\": \"\"\n",
    "      }\n",
    "    }\n",
    "    fig = Figure(data=data, layout=layout)\n",
    "    iplot(fig)"
   ]
  },
  {
   "cell_type": "code",
   "execution_count": null,
   "metadata": {},
   "outputs": [],
   "source": [
    "rank_chart(data_perf,'hostname')"
   ]
  },
  {
   "cell_type": "code",
   "execution_count": null,
   "metadata": {},
   "outputs": [],
   "source": [
    "group_chart(data_perf,'alarm_name',10,'주의')\n",
    "group_chart(data_perf,'alarm_name',10,'경고')\n",
    "group_chart(data_perf,'alarm_name',10,'심각')"
   ]
  },
  {
   "cell_type": "code",
   "execution_count": null,
   "metadata": {},
   "outputs": [],
   "source": [
    "def line_chart(df,group,line_type,num,title):\n",
    "    df = df.groupby([group,'degree'])['time'].count().reindex().reset_index()\n",
    "    df = df.pivot_table(values='time', index=group, columns='degree', aggfunc='first',fill_value=0).reset_index()\n",
    "    df.columns = ['시간','경고','심각','주의']\n",
    "    df = df[['시간','주의','경고','심각']]\n",
    "    trace1 = {\n",
    "      \"name\" : \"주의\",\n",
    "      \"x\": list(df['시간']),\n",
    "      \"y\": list(df['주의']),\n",
    "      \"mode\": line_type, \n",
    "      \"type\": \"scatter\"\n",
    "    }\n",
    "    trace2 = {\n",
    "      \"name\" : \"경고\",\n",
    "      \"x\": list(df['시간']),\n",
    "      \"y\": list(df['경고']),\n",
    "      \"mode\": line_type, \n",
    "      \"type\": \"scatter\"\n",
    "    }\n",
    "    trace3 = {\n",
    "      \"name\" : \"심각\",\n",
    "      \"x\": list(df['시간']),\n",
    "      \"y\": list(df['심각']),\n",
    "      \"mode\": line_type, \n",
    "      \"type\": \"scatter\"\n",
    "    }\n",
    "    data = Data([trace1, trace2, trace3])\n",
    "    layout = {\n",
    "      \"autosize\": True, \n",
    "      \"title\": {\n",
    "        \"x\": 0.5, \n",
    "        \"text\": \"{}별 알람 추이\".format(title)\n",
    "      }, \n",
    "      \"xaxis\": {\n",
    "        \"automargin\": True, \n",
    "        \"autorange\": True, \n",
    "        \"domain\": [0, 1], \n",
    "        \"exponentformat\": \"none\", \n",
    "        \"nticks\": num, \n",
    "        \"side\": \"bottom\", \n",
    "        \"tickformat\": \"\", \n",
    "        \"title\": {\"text\": \"{}\".format(title)}, \n",
    "        \"type\": \"category\"\n",
    "      }, \n",
    "      \"yaxis\": {\n",
    "        \"autorange\": True, \n",
    "        \"domain\": [0.3, 1], \n",
    "        \"exponentformat\": \"none\", \n",
    "        \"showticklabels\": True, \n",
    "        \"title\": {\"text\": \"알람 수\"}, \n",
    "        \"type\": \"linear\"\n",
    "      }\n",
    "    }\n",
    "    fig = Figure(data=data, layout=layout)\n",
    "    iplot(fig)"
   ]
  },
  {
   "cell_type": "code",
   "execution_count": null,
   "metadata": {},
   "outputs": [],
   "source": [
    "data = data[(data.time_date >= '2018-04-01')&(data.time_date < '2019-04-01')]\n",
    "\n",
    "import datetime\n",
    "\n",
    "data['time'] = data['time'] - datetime.timedelta(days=90)\n",
    "\n",
    "data['time_month'] = data['time'].dt.month"
   ]
  },
  {
   "cell_type": "code",
   "execution_count": null,
   "metadata": {},
   "outputs": [],
   "source": [
    "line_chart(data_after,'time_date',\"lines\",5,\"일(Day)\")\n",
    "line_chart(data_after,'time_week',\"markers+lines\",40,\"주(Week)\")\n",
    "line_chart(data_after,'time_month',\"markers+lines\",40,\"월(Month)\")\n",
    "line_chart(data_after,'time_hour',\"markers+lines\",23,\"시간대\")\n",
    "line_chart(data_after,'time_day',\"markers+lines\",40,\"일(한달 기준)\")\n",
    "line_chart(data_after,'time_weekday',\"markers+lines\",40,\"요일(일주일 기준)\")"
   ]
  },
  {
   "cell_type": "code",
   "execution_count": null,
   "metadata": {},
   "outputs": [],
   "source": [
    "def group_chart_log(df,group,num):\n",
    "    df = df.groupby([group])['time'].count().reindex().reset_index()\n",
    "    df['per'] = df['time']/df['time'].sum(axis=0)*100\n",
    "    df.columns = ['그룹','건수','비율']\n",
    "    df = df[['그룹','건수','비율']].sort_values('건수',ascending=False).iloc[:num].reset_index()\n",
    "    df.index = df.index + 1\n",
    "    display(df[['그룹','건수','비율']])\n",
    "    trace1 = {\n",
    "      \"x\": list(df['그룹']), \n",
    "      \"y\": list(df['건수']), \n",
    "      \"name\": \"\",\n",
    "      \"orientation\": \"v\", \n",
    "      \"type\": \"bar\", \n",
    "      \"visible\": True, \n",
    "      \"xaxis\": \"x\",\n",
    "      \"text\": list(df['비율'].round(1).astype('str')+\" %\"), \n",
    "      \"textfont\": {\n",
    "        \"color\": \"rgb(255, 0, 6)\", \n",
    "        \"family\": \"Roboto\", \n",
    "        \"size\": 15\n",
    "      }, \n",
    "      \"textposition\": \"auto\", \n",
    "    }\n",
    "    trace2 = {\n",
    "      \"cells\": {\n",
    "        \"align\": \"center\", \n",
    "        \"fill\": {\"color\": \"rgb(255, 255, 255)\"}, \n",
    "        \"font\": {\n",
    "          \"color\": \"rgb(48, 55, 66)\", \n",
    "          \"family\": \"Arial\", \n",
    "          \"size\": 13\n",
    "        }, \n",
    "        \"height\": 25, \n",
    "        \"line\": {\n",
    "          \"color\": \"rgb(171, 191, 212)\", \n",
    "          \"width\": 1\n",
    "        }, \n",
    "        \"values\": [list(df.index),list(df['그룹']), list(df['건수'].astype(str)+\" 건\"), list(df['비율'].round(1).astype(str)+\" %\")]\n",
    "        },\n",
    "        \"domain\": {\n",
    "            \"x\": [0, 1], \n",
    "            \"y\": [0, 0.3]\n",
    "          },\n",
    "          \"header\": {\n",
    "            \"fill\": {\"color\": \"rgb(31, 119, 180)\"}, \n",
    "            \"font\": {\n",
    "              \"color\": \"rgb(255, 255, 255)\", \n",
    "              \"size\": 15\n",
    "            }, \n",
    "            \"height\": 25, \n",
    "            \"line\": {\"color\": \"rgb(140, 177, 214)\"}, \n",
    "            \"values\": ['No','이름','건수','비율']\n",
    "            },  \"columnwidth\": [10,20,10,10], \"type\": \"table\" }\n",
    "    data = Data([trace1,trace2])\n",
    "    layout = {\n",
    "      \"autosize\": True, \n",
    "      \"colorway\": ['#5B9BD5'], \n",
    "      \"font\": {\n",
    "        \"color\": \"rgb(34, 43, 59)\", \n",
    "        \"size\": 13\n",
    "      }, \n",
    "      \"showlegend\": False, \n",
    "      \"title\": {\n",
    "        \"font\": {\"size\": 20}, \n",
    "        \"text\": \"\"\n",
    "      }, \n",
    "      \"xaxis\": {\n",
    "        \"autorange\": True, \n",
    "        \"domain\": [0, 1], \n",
    "        \"type\": \"category\"\n",
    "      }, \n",
    "      \"yaxis\": {\n",
    "        \"autorange\": True,  \n",
    "        \"domain\": [0.5, 1], \n",
    "        \"type\": \"linear\",\n",
    "        \"exponentformat\": \"none\",\n",
    "        \"automargin\": True\n",
    "      }\n",
    "    }\n",
    "    fig = Figure(data=data, layout=layout)\n",
    "    iplot(fig)"
   ]
  },
  {
   "cell_type": "markdown",
   "metadata": {},
   "source": [
    "### 로그 데이터 총 현황"
   ]
  },
  {
   "cell_type": "code",
   "execution_count": null,
   "metadata": {
    "scrolled": true
   },
   "outputs": [],
   "source": [
    "data_log.alarm_name.unique()\n",
    "data_log.groupby(['alarm_name'])['time'].count().reindex().reset_index().sort_values('time',ascending=False)"
   ]
  },
  {
   "cell_type": "markdown",
   "metadata": {},
   "source": [
    "### 1. 로그 모니터"
   ]
  },
  {
   "cell_type": "code",
   "execution_count": null,
   "metadata": {
    "scrolled": true
   },
   "outputs": [],
   "source": [
    "df_log = data_log[data_log['alarm_name'] == \"로그 모니터\"]\n",
    "group_chart_log(df_log,'hostname',10)"
   ]
  },
  {
   "cell_type": "markdown",
   "metadata": {},
   "source": [
    "### 로그모니터 발생 종류"
   ]
  },
  {
   "cell_type": "code",
   "execution_count": null,
   "metadata": {},
   "outputs": [],
   "source": [
    "def len_condition(name):\n",
    "    print('{} : {} 건'.format(name,len(df[df['condition'].str.contains(name) == True])))"
   ]
  },
  {
   "cell_type": "code",
   "execution_count": null,
   "metadata": {
    "scrolled": true
   },
   "outputs": [],
   "source": [
    "df = data_log.groupby(['alarm_name','resource_name'])['time'].count().reindex().reset_index()\n",
    "df = df[df['alarm_name'] == '로그 모니터']\n",
    "df.sort_values('time',ascending=False).head()"
   ]
  },
  {
   "cell_type": "code",
   "execution_count": null,
   "metadata": {
    "scrolled": true
   },
   "outputs": [],
   "source": [
    "for name in list(df.sort_values('time',ascending=False).head().resource_name):\n",
    "    print('>>>{}'.format(name))\n",
    "    display(data_log[data_log['resource_name'] == name].groupby(['hostname'])['time'].count().reindex().reset_index().sort_values('time',ascending=False).head())"
   ]
  },
  {
   "cell_type": "markdown",
   "metadata": {},
   "source": [
    "### 1) Alert_BDALMDB"
   ]
  },
  {
   "cell_type": "code",
   "execution_count": null,
   "metadata": {},
   "outputs": [],
   "source": [
    "df = data_log[data_log['resource_name'] == \"Alert_BDALMDB\"]\n",
    "len_condition('ORA-01422')\n",
    "len_condition('ORA-00600')\n",
    "len_condition('ORA-1688')\n",
    "len_condition('ORA-00060')\n",
    "len_condition('ORA-1652')\n",
    "len_condition('ORA-04030')\n",
    "len_condition('ORA-1683')\n",
    "len_condition('ORA-1653')\n",
    "len_condition('ORA-20011')\n",
    "len_condition('ORA-00604')"
   ]
  },
  {
   "cell_type": "code",
   "execution_count": null,
   "metadata": {
    "scrolled": true
   },
   "outputs": [],
   "source": [
    "for text in ['ORA-01422','ORA-00600','ORA-1688','ORA-00060','ORA-1652','ORA-04030','ORA-1683','ORA-1653','ORA-20011','ORA-00604']:\n",
    "    print('>>>{}'.format(text))\n",
    "    display(data_log[(data_log['resource_name'] == \"Alert_BDALMDB\")&(data_log['condition'].str.contains(text))].groupby(['hostname'])['time'].count().reindex().reset_index().sort_values('time',ascending=False))"
   ]
  },
  {
   "cell_type": "markdown",
   "metadata": {},
   "source": [
    "### 2) D-ERRLOG\t"
   ]
  },
  {
   "cell_type": "code",
   "execution_count": null,
   "metadata": {
    "scrolled": true
   },
   "outputs": [],
   "source": [
    "df = data_log[data_log['resource_name'] == \"D-ERRLOG\"]\n",
    "len_condition('스레드 종료 또는 응용 프로그램 요청 때문에 I/O 작업이 취소되었습니다')\n",
    "len_condition('Error: 9954')\n",
    "len_condition('디스크 공간이 부족합니다')\n",
    "len_condition('ETW')\n",
    "len_condition('요청을 취소했습니다')"
   ]
  },
  {
   "cell_type": "code",
   "execution_count": null,
   "metadata": {
    "scrolled": true
   },
   "outputs": [],
   "source": [
    "for text in ['스레드 종료 또는 응용 프로그램 요청 때문에 I/O 작업이 취소되었습니다','Error: 9954','디스크 공간이 부족합니다','ETW','요청을 취소했습니다']:\n",
    "    print('>>>{}'.format(text))\n",
    "    display(data_log[(data_log['resource_name'] == 'D-ERRLOG')&(data_log['condition'].str.contains(text))].groupby(['hostname'])['time'].count().reindex().reset_index().sort_values('time',ascending=False),\n",
    "    data_log[(data_log['resource_name'] == 'D-ERRLOG')&(data_log['condition'].str.contains(text))].groupby(['hostname'])['time'].count().reindex().reset_index().sort_values('time',ascending=False).time.sum())"
   ]
  },
  {
   "cell_type": "markdown",
   "metadata": {},
   "source": [
    "### 3) [DBA_AL]"
   ]
  },
  {
   "cell_type": "code",
   "execution_count": null,
   "metadata": {},
   "outputs": [],
   "source": [
    "df = data_log[data_log['resource_name'] == \"[DBA_AL]\"]\n",
    "len_condition('Services Deadlock detected')\n",
    "len_condition('ORA-27037')\n",
    "len_condition('Thread 1 cannot allocate new log')\n",
    "len_condition('ORA-20011')\n",
    "len_condition('ORA-1688')\n",
    "len_condition('ORA-00060')\n",
    "len_condition('ORA-20000')\n",
    "len_condition('ORA-1652')"
   ]
  },
  {
   "cell_type": "code",
   "execution_count": null,
   "metadata": {
    "scrolled": true
   },
   "outputs": [],
   "source": [
    "for text in ['Services Deadlock detected','ORA-27037','Thread 1 cannot allocate new log','ORA-20011','ORA-20011','ORA-1688','ORA-00060','ORA-1652','ORA-20000']:\n",
    "    print('>>>{}'.format(text))\n",
    "    display(data_log[(data_log['resource_name'] == '[DBA_AL]')&(data_log['condition'].str.contains(text))].groupby(['hostname'])['time'].count().reindex().reset_index().sort_values('time',ascending=False),\n",
    "    data_log[(data_log['resource_name'] == '[DBA_AL]')&(data_log['condition'].str.contains(text))].groupby(['hostname'])['time'].count().reindex().reset_index().sort_values('time',ascending=False).time.sum())"
   ]
  },
  {
   "cell_type": "markdown",
   "metadata": {},
   "source": [
    "### 4) Jennifer"
   ]
  },
  {
   "cell_type": "code",
   "execution_count": null,
   "metadata": {
    "scrolled": true
   },
   "outputs": [],
   "source": [
    "df = data_log[data_log['resource_name'] == \"Jennifer Log\"]\n",
    "len_condition('Que')"
   ]
  },
  {
   "cell_type": "code",
   "execution_count": null,
   "metadata": {
    "scrolled": false
   },
   "outputs": [],
   "source": [
    "for text in ['Que']:\n",
    "    print('>>>{}'.format(text))\n",
    "    display(data_log[(data_log['resource_name'] == 'Jennifer Log')&(data_log['condition'].str.contains(text))].groupby(['hostname'])['time'].count().reindex().reset_index().sort_values('time',ascending=False),\n",
    "    data_log[(data_log['resource_name'] == 'Jennifer Log')&(data_log['condition'].str.contains(text))].groupby(['hostname'])['time'].count().reindex().reset_index().sort_values('time',ascending=False).time.sum())"
   ]
  },
  {
   "cell_type": "markdown",
   "metadata": {},
   "source": [
    "### 5) 백업에러"
   ]
  },
  {
   "cell_type": "code",
   "execution_count": null,
   "metadata": {
    "scrolled": false
   },
   "outputs": [],
   "source": [
    "df = data_log[data_log['resource_name'] == \"백업에러\"]\n",
    "len_condition('error Backup')\n",
    "len_condition('duplicate_job error')"
   ]
  },
  {
   "cell_type": "code",
   "execution_count": null,
   "metadata": {
    "scrolled": false
   },
   "outputs": [],
   "source": [
    "for text in ['error Backup','duplicate_job error']:\n",
    "    print('>>>{}'.format(text))\n",
    "    display(data_log[(data_log['resource_name'] == '백업에러')&(data_log['condition'].str.contains(text))].groupby(['hostname'])['time'].count().reindex().reset_index().sort_values('time',ascending=False),\n",
    "    data_log[(data_log['resource_name'] == '백업에러')&(data_log['condition'].str.contains(text))].groupby(['hostname'])['time'].count().reindex().reset_index().sort_values('time',ascending=False).time.sum())"
   ]
  },
  {
   "cell_type": "markdown",
   "metadata": {},
   "source": [
    "### 2. Syslog 모니터"
   ]
  },
  {
   "cell_type": "code",
   "execution_count": null,
   "metadata": {
    "scrolled": true
   },
   "outputs": [],
   "source": [
    "df_log = data_log[data_log['alarm_name'] == \"Syslog 모니터\"]\n",
    "group_chart_log(df_log,'hostname',10)"
   ]
  },
  {
   "cell_type": "code",
   "execution_count": null,
   "metadata": {},
   "outputs": [],
   "source": [
    "df = data_log[data_log['alarm_name'] == \"Syslog 모니터\"]\n",
    "df.sort_values('time',ascending=False)\n",
    "len_condition('namespace root/cimv2')\n",
    "len_condition('NFS')\n",
    "len_condition('EMS Event Notification')\n",
    "len_condition('ERRPT')\n",
    "len_condition('cluster daemon')\n",
    "len_condition('ISCSI_ERR_TCP_CONN_CLOSE')\n",
    "#df[(df['condition'].str.contains('namespace root/cimv2')==False)&(df['condition'].str.contains('NFS')==False)&(df['condition'].str.contains('EMS Event Notification')==False)\n",
    "  #&(df['condition'].str.contains('ERRPT')==False)&(df['condition'].str.contains('cluster daemon')==False)&(df['condition'].str.contains('ISCSI_ERR_TCP_CONN_CLOSE')==False)]"
   ]
  },
  {
   "cell_type": "code",
   "execution_count": null,
   "metadata": {},
   "outputs": [],
   "source": [
    "for text in ['namespace root/cimv2','NFS','EMS Event Notification','ERRPT','cluster daemon','ISCSI_ERR_TCP_CONN_CLOSE']:\n",
    "    print('>>>{}'.format(text))\n",
    "    display(data_log[(data_log['alarm_name'] == 'Syslog 모니터')&(data_log['condition'].str.contains(text))].groupby(['hostname'])['time'].count().reindex().reset_index().sort_values('time',ascending=False),\n",
    "    data_log[(data_log['alarm_name'] == 'Syslog 모니터')&(data_log['condition'].str.contains(text))].groupby(['hostname'])['time'].count().reindex().reset_index().sort_values('time',ascending=False).time.sum())"
   ]
  },
  {
   "cell_type": "markdown",
   "metadata": {},
   "source": [
    "### 3. SFM 체크"
   ]
  },
  {
   "cell_type": "code",
   "execution_count": null,
   "metadata": {},
   "outputs": [],
   "source": [
    "sfm =pd.read_excel('20190612_Arranged SFM Logs.xlsx',encolding='UTF-8')"
   ]
  },
  {
   "cell_type": "code",
   "execution_count": null,
   "metadata": {
    "scrolled": false
   },
   "outputs": [],
   "source": [
    "df_log = data_log[data_log['alarm_name'] == \"SFM 체크\"]\n",
    "group_chart_log(df_log,'hostname',10)"
   ]
  },
  {
   "cell_type": "code",
   "execution_count": null,
   "metadata": {},
   "outputs": [],
   "source": [
    "len(data_log[(data_log['alarm_name'].str.contains('SFM 체크'))])"
   ]
  },
  {
   "cell_type": "code",
   "execution_count": null,
   "metadata": {},
   "outputs": [],
   "source": [
    "sfm.groupby(['condition3'])['resource_name'].count().reindex().reset_index().sort_values('resource_name',ascending=False)"
   ]
  },
  {
   "cell_type": "code",
   "execution_count": null,
   "metadata": {},
   "outputs": [],
   "source": [
    "for i in sfm.groupby(['condition3'])['resource_name'].count().reindex().reset_index().sort_values('resource_name',ascending=False).condition3:\n",
    "    print('>>> {}'.format(i))\n",
    "    display(sfm[sfm['condition3'].str.contains(i)==True].groupby(['resource_name'])['condition3'].count().reindex().reset_index().sort_values('condition3',ascending=False))"
   ]
  },
  {
   "cell_type": "markdown",
   "metadata": {},
   "source": [
    "### 4.디스크 장애로그"
   ]
  },
  {
   "cell_type": "code",
   "execution_count": null,
   "metadata": {},
   "outputs": [],
   "source": [
    "df = data_log[data_log['alarm_name'] == \"디스크 장애로그\"]\n",
    "len_condition('DR This is a test code')\n",
    "len_condition('DYNAMIC SPARING')\n",
    "len_condition('Dynamic sparing')"
   ]
  },
  {
   "cell_type": "code",
   "execution_count": null,
   "metadata": {},
   "outputs": [],
   "source": [
    "for text in ['DR This is a test code','DYNAMIC SPARING','Dynamic sparing']:\n",
    "    print('>>>{}'.format(text))\n",
    "    display(data_log[(data_log['alarm_name'] == \"디스크 장애로그\")&(data_log['condition'].str.contains(text))].groupby(['hostname'])['time'].count().reindex().reset_index().sort_values('time',ascending=False))"
   ]
  },
  {
   "cell_type": "markdown",
   "metadata": {},
   "source": [
    "### 5.Array Controller Fail"
   ]
  },
  {
   "cell_type": "code",
   "execution_count": null,
   "metadata": {},
   "outputs": [],
   "source": [
    "df = data_log[data_log['alarm_name'] == \"Array Controller Fail\"]\n",
    "len_condition('The event information received from array controller')"
   ]
  },
  {
   "cell_type": "code",
   "execution_count": null,
   "metadata": {},
   "outputs": [],
   "source": [
    "for text in ['The event information received from array controller']:\n",
    "    print('>>>{}'.format(text))\n",
    "    display(data_log[(data_log['alarm_name'] == \"Array Controller Fail\")&(data_log['condition'].str.contains(text))].groupby(['hostname'])['time'].count().reindex().reset_index().sort_values('time',ascending=False))"
   ]
  },
  {
   "cell_type": "markdown",
   "metadata": {},
   "source": [
    "### 클러스터"
   ]
  },
  {
   "cell_type": "code",
   "execution_count": null,
   "metadata": {},
   "outputs": [],
   "source": [
    "data_df = data_perf.groupby(['hostname'])['time'].count().reindex().reset_index()\n",
    "data_df.sort_values('time',ascending=False)\n",
    "len(data_df[(data_df.time >= 1)&(data_df.time < 1000)])"
   ]
  },
  {
   "cell_type": "code",
   "execution_count": null,
   "metadata": {},
   "outputs": [],
   "source": [
    "data_df = data_perf.groupby(['hostname'])['time'].count().reindex().reset_index()\n",
    "data_df = data_df.rename(columns={'time': 'count'})\n",
    "data_df.describe()"
   ]
  },
  {
   "cell_type": "code",
   "execution_count": null,
   "metadata": {},
   "outputs": [],
   "source": [
    "data_df = data_df[data_df['count'] > 0]\n",
    "node_names = data_df.sort_values('count',ascending=False).hostname.values\n",
    "c_nodes = data[data['hostname'].isin(node_names)==True]\n",
    "data_df_date = c_nodes.groupby(['time_date','hostname'])['degree'].count().reindex().reset_index()\n",
    "data_df_date = data_df_date.pivot_table(values='degree',columns='hostname',index=data_df_date['time_date'],aggfunc='first',fill_value=0)"
   ]
  },
  {
   "cell_type": "code",
   "execution_count": null,
   "metadata": {},
   "outputs": [],
   "source": [
    "corrmat = data_df_date.corr()"
   ]
  },
  {
   "cell_type": "code",
   "execution_count": null,
   "metadata": {},
   "outputs": [],
   "source": [
    "clusters = []\n",
    "for node in corrmat.columns:\n",
    "    clusters.append(corrmat[corrmat[node] >= 0.9].index)\n",
    "clusters_new = []\n",
    "for cluster in clusters:\n",
    "    if len(cluster) > 1:\n",
    "        clusters_new.append(list(cluster))\n",
    "clusters_new = list(set([tuple(set(node)) for node in clusters_new]))\n",
    "\n",
    "dictt = {}\n",
    "for i in range(0,len(clusters_new)):\n",
    "    dictt.update({'cluster{}'.format(i) : list(clusters_new[i])})\n",
    "\n",
    "data_df_date = data_df_date.reset_index()\n",
    "#pd.concat([pd.Series(clusters_new[0],name='cluster0'),pd.Series(clusters_new[1],name='cluster1')], axis=1)\n",
    "#for i in range(2,len(clusters_new)):\n",
    "#    df = pd.concat([df,pd.Series(clusters_new[i],name='cluster{}'.format(i))], axis=1)\n",
    "#df.fillna('',inplace=True)"
   ]
  },
  {
   "cell_type": "code",
   "execution_count": null,
   "metadata": {},
   "outputs": [],
   "source": [
    "len(clusters_new)"
   ]
  },
  {
   "cell_type": "code",
   "execution_count": null,
   "metadata": {},
   "outputs": [],
   "source": [
    "def chart_cluster(clusters_new,df):\n",
    "    i = 0\n",
    "    for cluster in clusters_new:\n",
    "        print('>>>>>>>>>cluster{}'.format(i))\n",
    "        test_data = pd.melt(data_df_date, id_vars=['time_date'],value_vars=cluster)\n",
    "        fig = plt.figure(figsize=(15, 7))\n",
    "        ax = sns.pointplot(x=\"time_date\", y=\"value\",hue=test_data.hostname, data=test_data)\n",
    "        plt.xticks(rotation='vertical')\n",
    "        plt.show()\n",
    "        plt.clf()\n",
    "        try:\n",
    "            c_nodes = df[df['hostname'].isin(cluster)]\n",
    "        except:\n",
    "            c_nodes = df[df['hostname'].str.contains(cluster)]\n",
    "        c_nodes = c_nodes.groupby(['time_date','alarm_name','hostname'])['time'].count().reindex().reset_index().sort_values('time_date', ascending=True)\n",
    "        c_nodes = c_nodes.groupby(['alarm_name','hostname'])['time'].sum().reindex().reset_index().sort_values('time', ascending=False)\n",
    "        c_nodes = c_nodes[c_nodes.time > 100]\n",
    "        display_side_by_side(c_nodes)\n",
    "        i += 1"
   ]
  },
  {
   "cell_type": "code",
   "execution_count": null,
   "metadata": {},
   "outputs": [],
   "source": [
    "corrmat[corrmat[''] > 0.6]"
   ]
  },
  {
   "cell_type": "code",
   "execution_count": null,
   "metadata": {},
   "outputs": [],
   "source": [
    "chart_cluster([('')],data_perf)"
   ]
  },
  {
   "cell_type": "code",
   "execution_count": null,
   "metadata": {},
   "outputs": [],
   "source": [
    "chart_cluster([('')],data_perf)"
   ]
  },
  {
   "cell_type": "code",
   "execution_count": null,
   "metadata": {},
   "outputs": [],
   "source": [
    "chart_cluster([('')],data_perf)"
   ]
  },
  {
   "cell_type": "code",
   "execution_count": null,
   "metadata": {},
   "outputs": [],
   "source": [
    "chart_cluster([('')],data_perf)"
   ]
  },
  {
   "cell_type": "code",
   "execution_count": null,
   "metadata": {},
   "outputs": [],
   "source": [
    "chart_cluster([('')],data_perf)"
   ]
  },
  {
   "cell_type": "code",
   "execution_count": null,
   "metadata": {},
   "outputs": [],
   "source": [
    "chart_cluster([('')],data_perf)"
   ]
  },
  {
   "cell_type": "code",
   "execution_count": null,
   "metadata": {},
   "outputs": [],
   "source": [
    "chart_cluster([('')],data_perf)"
   ]
  },
  {
   "cell_type": "markdown",
   "metadata": {},
   "source": [
    "###  중 1번에만 NTP 알람이 발생함 1번 서버 NTP 확인 필요"
   ]
  },
  {
   "cell_type": "code",
   "execution_count": null,
   "metadata": {},
   "outputs": [],
   "source": [
    "chart_cluster([('')],data_perf)\n",
    "data_perf[data_perf.alarm_name.str.contains(\"B-UCServerMain120\")==True].last_time.describe()"
   ]
  },
  {
   "cell_type": "markdown",
   "metadata": {},
   "source": [
    "### B-UCServerMain120X 관련 프로세스 다운 알람 47556건 중 75%가 평균 3~4분 이내에 복구 되었음\n",
    "### 따라서 일시적인 재기동 상황이라면 연속발생 3~4회 권고"
   ]
  },
  {
   "cell_type": "code",
   "execution_count": null,
   "metadata": {},
   "outputs": [],
   "source": [
    "def scatter_chart(alarm_name, clusters_new,df):\n",
    "    df = df[(df.alarm_name == alarm_name) & (df['hostname'].isin(clusters_new))]\n",
    "    condition  = df.condition.str.split(' ', expand=True)\n",
    "    df['type'] = condition[0]\n",
    "    df['threshold'] = condition[10].str.extract('(\\d+(?:\\.\\d+)?)').astype(float)\n",
    "    df['current'] = condition[4].str.extract('(\\d+(?:\\.\\d+)?)').astype(float)\n",
    "    df['current'] = np.where(condition[3]=='Gbps',df['current']*1000,df['current'])\n",
    "    df_raw = df.groupby(['time','hostname','degree'])['current'].mean().reindex().reset_index()\n",
    "    df_hour = df.groupby(['time_date_hour','hostname','degree'])['current'].agg(['mean', 'min', 'max']).reindex().reset_index()\n",
    "    for i,node in enumerate(clusters_new):\n",
    "        print(node)\n",
    "        df_2 = df_raw[df_raw['hostname'] == node]\n",
    "        df_2 = df_2.pivot_table(values='current', index=df_2.time, columns='degree', aggfunc='first',fill_value=(np.NaN)).reset_index()\n",
    "        df_2['merge'] = df_2.sum(axis=1)\n",
    "        df_2.to_excel(str(i)+'.xlsx',encoding='UTF-8')\n",
    "        df_3 = df_hour[df_hour['hostname'] == node]\n",
    "    #df_3.to_excel(str(i)+'_hour.xlsx',encoding='UTF-8')\n",
    "    #df_2 = pd.melt(df_2,id_vars=['time'],value_vars=['주의','경고','심각'])\n",
    "    #df_2['merge'] = df_2.sum(axis=1)\n",
    "    #display(df_2)\n",
    "        fig = plt.figure(figsize=(15, 7))\n",
    "        ax = sns.scatterplot(x=\"time\", y=\"merge\" ,data=df_2)\n",
    "        plt.xlim('2018-03-30', '2019-4-30')\n",
    "        plt.xticks(rotation='horizontal')\n",
    "        plt.show()\n",
    "        plt.clf()\n",
    " "
   ]
  },
  {
   "cell_type": "code",
   "execution_count": null,
   "metadata": {},
   "outputs": [],
   "source": [
    "scatter_chart('NTP 서버와 시간 차이',[''],data_perf)"
   ]
  },
  {
   "cell_type": "code",
   "execution_count": null,
   "metadata": {},
   "outputs": [],
   "source": [
    "scatter_chart('NTP 서버와 시간 차이',[''],data_perf)"
   ]
  },
  {
   "cell_type": "code",
   "execution_count": null,
   "metadata": {},
   "outputs": [],
   "source": [
    "#주의 > 90 (3회)\n",
    "#경고 > 95\n",
    "#심각 > 98"
   ]
  },
  {
   "cell_type": "code",
   "execution_count": null,
   "metadata": {},
   "outputs": [],
   "source": [
    "df = data_perf[(data_perf.alarm_name == \"Disk I/O 처리율\") & (data_perf['hostname'].isin(['']))]\n",
    "condition  = df.condition.str.split(' ', expand=True)\n",
    "#display(condition.head())\n",
    "df['threshold'] = condition[6].str.extract('(\\d+(?:\\.\\d+)?)').astype(float)\n",
    "df['current'] = condition[3].str.extract('(\\d+(?:\\.\\d+)?)').astype(float)\n",
    "df_raw = df.groupby(['time','last_time','hostname','degree'])['current'].mean().reindex().reset_index()\n",
    "df_hour = df.groupby(['time_date_hour','hostname','degree'])['current'].agg(['mean', 'min', 'max']).reindex().reset_index()\n",
    "df_day = df.groupby(['time_date','hostname','degree'])['current'].count().reindex().reset_index()\n",
    "df_day = df_day[df_day['hostname']==\"SCFEM002R\"]\n",
    "df_day.sort_values('time_date',ascending=False)[['degree','current']]\n",
    "#df_raw[df_raw['degree'] == \"심각\"].describe()\n",
    "#df_raw[df_raw['last_time'] > 1800].describe()\n",
    "#clusters_new = [('SCFEM001R', 'SCFEM002R','SCFEM421R','SCFEM431R')]\n",
    "#test = df[['degree','time','clear_time','last_time','hostname','threshold','current']]\n",
    "#test\n"
   ]
  },
  {
   "cell_type": "code",
   "execution_count": null,
   "metadata": {},
   "outputs": [],
   "source": [
    "fig = plt.figure(figsize=(15, 7))\n",
    "ax = sns.scatterplot(x=\"current\", y=\"last_time\",hue=\"degree\" ,data=test)\n",
    "#plt.xlim('2018-03-30', '2019-4-30')\n",
    "plt.xticks(rotation='horizontal')\n",
    "plt.show()\n",
    "plt.clf()"
   ]
  },
  {
   "cell_type": "code",
   "execution_count": null,
   "metadata": {
    "scrolled": true
   },
   "outputs": [],
   "source": [
    "df = data_perf[(data_perf.alarm_name == \"Disk I/O 처리율\") & (data_perf['hostname'].isin(['']))]\n",
    "condition  = df.condition.str.split(' ', expand=True)\n",
    "#display(condition.head())\n",
    "df['threshold'] = condition[6].str.extract('(\\d+(?:\\.\\d+)?)').astype(float)\n",
    "df['current'] = condition[3].str.extract('(\\d+(?:\\.\\d+)?)').astype(float)\n",
    "df_raw = df.groupby(['time','last_time','hostname','degree'])['current'].mean().reindex().reset_index()\n",
    "df_hour = df.groupby(['time_date_hour','hostname','degree'])['current'].agg(['mean', 'min', 'max']).reindex().reset_index()\n",
    "df_raw\n",
    "#df_raw[df_raw['degree'] == \"심각\"].describe()\n",
    "#df_raw[df_raw['last_time'] > 1800].describe()\n",
    "\n",
    "'''\n",
    "i = 0\n",
    "for cluster in clusters_new:\n",
    "    print('>>>>>>>>>cluster{}'.format(i))\n",
    "    test_data = pd.melt(data_df_date, id_vars=['time_date'],value_vars=cluster)\n",
    "    fig = plt.figure(figsize=(15, 7))\n",
    "    ax = sns.pointplot(x=\"time_date\", y=\"value\",hue=test_data.hostname, data=test_data)\n",
    "    plt.xticks(rotation='vertical')\n",
    "    plt.show()\n",
    "    plt.clf()\n",
    "    i += 1\n",
    "'''\n",
    "test = df[['degree','time','clear_time','last_time','hostname','threshold','current']]\n",
    "test\n",
    "#test.degree = np.where(test['current']>90, \"주의\",test['degree'])\n",
    "#test.degree = np.where(test['current']>95, \"경고\",test['degree'])\n",
    "#test.degree = np.where(test['current']>98, \"심각\",test['degree'])\n",
    "test.last_time\n",
    "sns.distplot(test.last_time)"
   ]
  },
  {
   "cell_type": "code",
   "execution_count": null,
   "metadata": {},
   "outputs": [],
   "source": [
    "def scatter_chart_new(df,group,num):\n",
    "    trace1 = {\n",
    "      \"x\": [\"주의222222222222222222222\", \"경고\", \"심각\"], \n",
    "      \"y\": [\"316153\", \"476589\", \"121969\"], \n",
    "      \"mode\": \"markers\", \n",
    "      \"type\": \"scatter\"\n",
    "    }\n",
    "    data = Data([trace1])\n",
    "    layout = {\n",
    "      \"autosize\": True, \n",
    "      \"xaxis\": {\n",
    "        \"autorange\": True,\n",
    "        \"type\": \"category\"\n",
    "      }, \n",
    "      \"yaxis\": {\n",
    "        \"autorange\": True, \n",
    "        \"type\": \"linear\"\n",
    "      }\n",
    "    }\n",
    "    fig = Figure(data=data, layout=layout)\n",
    "    plot_url = py.plot(fig)"
   ]
  }
 ],
 "metadata": {
  "colab": {
   "collapsed_sections": [
    "5lxRMDpvPYen",
    "Ak53gD9wPYe9",
    "ZXZmyN2LPYfc",
    "nWjrN-XePYgH",
    "ImJUAQeFPYgc",
    "gvzuciHhPYgo",
    "OPHsIWOFPYhP",
    "ondg0_qhPYha",
    "G4oZY0vzPYhs",
    "yDjE7wS6PYh1",
    "p9ATUV48PYh9",
    "ysXvTWNbPYiS",
    "x2MXf0xDPYib",
    "qOao-uaCPYic",
    "cPoBET-APYih",
    "CGaEW6jCPYii",
    "D0q3UQ5nPYit"
   ],
   "name": "20190225 (1).ipynb",
   "provenance": [],
   "version": "0.3.2"
  },
  "kernelspec": {
   "display_name": "Python 3",
   "language": "python",
   "name": "python3"
  },
  "language_info": {
   "codemirror_mode": {
    "name": "ipython",
    "version": 3
   },
   "file_extension": ".py",
   "mimetype": "text/x-python",
   "name": "python",
   "nbconvert_exporter": "python",
   "pygments_lexer": "ipython3",
   "version": "3.7.1"
  }
 },
 "nbformat": 4,
 "nbformat_minor": 1
}
