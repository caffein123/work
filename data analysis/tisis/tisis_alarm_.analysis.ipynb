{
 "cells": [
  {
   "cell_type": "code",
   "execution_count": null,
   "metadata": {
    "scrolled": true
   },
   "outputs": [],
   "source": [
    "import pandas as pd\n",
    "import numpy as np\n",
    "import warnings\n",
    "import seaborn as sns\n",
    "import matplotlib.pyplot as plt\n",
    "%matplotlib inline\n",
    "from matplotlib import font_manager, rc\n",
    "import scipy.cluster.hierarchy as spc\n",
    "font_name = font_manager.FontProperties(fname=\"/usr/share/fonts/nanum/nanumGothic.ttf\").get_name()\n",
    "plt.rc('font', family=font_name)\n",
    "import warnings\n",
    "warnings.filterwarnings(action='ignore') \n",
    "pd.options.display.float_format = '{:.2f}'.format"
   ]
  },
  {
   "cell_type": "code",
   "execution_count": null,
   "metadata": {},
   "outputs": [],
   "source": [
    "from IPython.display import display_html\n",
    "def display_side_by_side(*args):\n",
    "    html_str=''\n",
    "    for df in args:\n",
    "        html_str+=df.to_html()\n",
    "    display_html(html_str.replace('table','table style=\"display:inline\"'),raw=True)"
   ]
  },
  {
   "cell_type": "code",
   "execution_count": null,
   "metadata": {},
   "outputs": [],
   "source": [
    "#data = pd.read_excel('data/alram_ds.xls',sheet_name=None, encoding='UTF-8')\n",
    "#df_list = [ v for k,v in data.items()] \n",
    "#data = pd.concat(df_list ,axis=0)"
   ]
  },
  {
   "cell_type": "markdown",
   "metadata": {},
   "source": [
    "## 1. 알람 데이터 로드 및 전처리"
   ]
  },
  {
   "cell_type": "code",
   "execution_count": null,
   "metadata": {},
   "outputs": [],
   "source": [
    "data = pd.read_csv('data/alaram.csv', encoding='UTF-8',index_col=0)"
   ]
  },
  {
   "cell_type": "code",
   "execution_count": null,
   "metadata": {},
   "outputs": [],
   "source": [
    "#행렬 확인\n",
    "data.shape"
   ]
  },
  {
   "cell_type": "code",
   "execution_count": null,
   "metadata": {},
   "outputs": [],
   "source": [
    "#불필요 컬럼 제거\n",
    "cols = ['처리.현황', '담당자', '처리.이력', '확인.시간', '유지보수.상태']\n",
    "data.drop(columns=cols,axis=1,inplace=True)"
   ]
  },
  {
   "cell_type": "code",
   "execution_count": null,
   "metadata": {
    "scrolled": true
   },
   "outputs": [],
   "source": [
    "#컬럼 이름 수정\n",
    "data.columns = ['degree', 'alarm_name','time','clear_time','last_time','group_path','system_name','hostname','ip','resource_name','full_path','condition']"
   ]
  },
  {
   "cell_type": "code",
   "execution_count": null,
   "metadata": {
    "scrolled": true
   },
   "outputs": [],
   "source": [
    "#추가 컬럼 생성\n",
    "data['time'] = pd.to_datetime(data['time'], format='%Y-%m-%d %H:%M:%S')\n",
    "data['clear_time'] = pd.to_datetime(data['clear_time'], format='%Y-%m-%d %H:%M:%S')\n",
    "data['last_time'] = data['clear_time'] - data['time']\n",
    "data['last_time'] = data['last_time'].dt.seconds\n",
    "data['last_time'] = data['last_time'].fillna(0)\n",
    "data['time_month'] = data['time'].dt.month\n",
    "data['time_day'] = data['time'].dt.day\n",
    "data['time_hour'] = data['time'].dt.hour\n",
    "data['time_date']= data['time'].dt.strftime('%Y-%m-%d')\n",
    "data['time_date_hour']= data['time'].dt.strftime('%Y-%m-%d %H')\n",
    "full_group = data['group_path'].str.split('>', expand=True)\n",
    "data['group1'] = full_group[0]\n",
    "data['group2'] = full_group[1]\n",
    "data['group3'] = full_group[2]\n",
    "data['group4'] = full_group[3]\n",
    "ipaddr = data['ip'].str.split('.', expand=True)\n",
    "ipaddr[3] = \"0\"\n",
    "data['C_class']= ipaddr[0] + '.' + ipaddr[1] + '.' + ipaddr[2] + '.' + ipaddr[3]\n",
    "ipaddr[3] = \"0\"\n",
    "ipaddr[2] = \"0\"\n",
    "data['B_class']= ipaddr[0] + '.' + ipaddr[1] + '.' + ipaddr[2] + '.' + ipaddr[3]"
   ]
  },
  {
   "cell_type": "code",
   "execution_count": null,
   "metadata": {
    "scrolled": true
   },
   "outputs": [],
   "source": [
    "#데이터 확인\n",
    "data.head()"
   ]
  },
  {
   "cell_type": "markdown",
   "metadata": {},
   "source": [
    "## 2. 데이터 분석"
   ]
  },
  {
   "cell_type": "markdown",
   "metadata": {},
   "source": [
    "### 노드 별 심각도 건수"
   ]
  },
  {
   "cell_type": "code",
   "execution_count": null,
   "metadata": {},
   "outputs": [],
   "source": [
    "df = data.groupby(['system_name','degree'])['alarm_name'].count().reindex().reset_index()\n",
    "alram_count = df.pivot_table(values='alarm_name', index=df.system_name, columns='degree', aggfunc='first',fill_value=0).reset_index()\n",
    "alram_count['total_count'] = alram_count['경고'] + alram_count['주의'] + alram_count['심각']\n",
    "alram_count.sort_values('total_count',ascending=False).head()"
   ]
  },
  {
   "cell_type": "markdown",
   "metadata": {},
   "source": [
    "### 등급별 건수"
   ]
  },
  {
   "cell_type": "code",
   "execution_count": null,
   "metadata": {},
   "outputs": [],
   "source": [
    "df = data.groupby(['degree'])['alarm_name'].count().reindex().reset_index()\n",
    "df['per'] = (df.alarm_name/df.alarm_name.sum())*100\n",
    "df['per']= df['per'].round(2)\n",
    "df.columns = ['degree', 'count' , 'per']\n",
    "fig = plt.figure(figsize=(15, 7))\n",
    "ax1 = fig.add_subplot(1, 2, 1)\n",
    "ax2 = fig.add_subplot(1, 2, 2)\n",
    "ax2.axis('off')\n",
    "ax2.axis('tight')\n",
    "ax1.pie(df.per, explode=[0.05,0.05,0.05],labels=df.degree, autopct='%1.1f%%',colors=['orange','red','yellow'],textprops={'fontsize': 20},\n",
    "       shadow=True, startangle=90)\n",
    "ax2.table(cellText=df.values, colLabels=df.columns, loc='center')\n",
    "df"
   ]
  },
  {
   "cell_type": "markdown",
   "metadata": {},
   "source": [
    "### 일별 등급 알람건수"
   ]
  },
  {
   "cell_type": "code",
   "execution_count": null,
   "metadata": {},
   "outputs": [],
   "source": [
    "df = data.groupby(['time_date','degree'])['alarm_name'].count().reindex().reset_index()\n",
    "df = df[df['degree'] == '심각']\n",
    "df.sort_values('alarm_name',ascending=False).head()"
   ]
  },
  {
   "cell_type": "code",
   "execution_count": null,
   "metadata": {},
   "outputs": [],
   "source": [
    "df = data.groupby(['time_date','degree'])['alarm_name'].count().reindex().reset_index()\n",
    "df = df[df['degree'] == '주의']\n",
    "df.sort_values('alarm_name',ascending=False).head()"
   ]
  },
  {
   "cell_type": "code",
   "execution_count": null,
   "metadata": {},
   "outputs": [],
   "source": [
    "df = data.groupby(['time_date','degree'])['alarm_name'].count().reindex().reset_index()\n",
    "df = df[df['degree'] == '경고']\n",
    "df.sort_values('alarm_name',ascending=False).head()"
   ]
  },
  {
   "cell_type": "markdown",
   "metadata": {},
   "source": [
    "### 노드별 발생 알람이름 건수"
   ]
  },
  {
   "cell_type": "code",
   "execution_count": null,
   "metadata": {},
   "outputs": [],
   "source": [
    "df = data.groupby(['system_name','alarm_name'])['time'].count().reindex().reset_index()\n",
    "df = df.pivot_table(values='time', index=df.system_name, columns='alarm_name', aggfunc='first',fill_value=0).reset_index()\n",
    "df = df.set_index('system_name')\n",
    "#df.reindex(columns='시스템명')\n",
    "df['total_count']= df.sum(axis=1)\n",
    "df.sort_values('total_count',ascending=False).head()"
   ]
  },
  {
   "cell_type": "code",
   "execution_count": null,
   "metadata": {},
   "outputs": [],
   "source": [
    "df = data.groupby(['system_name'])['time'].count().reindex().reset_index().sort_values('time')\n",
    "df[df['time'] == 1]"
   ]
  },
  {
   "cell_type": "markdown",
   "metadata": {},
   "source": [
    "### "
   ]
  },
  {
   "cell_type": "code",
   "execution_count": null,
   "metadata": {},
   "outputs": [],
   "source": [
    "rotation = 45\n",
    "\n",
    "colors = ['red','orange','yellow']\n",
    "f,ax=plt.subplots(1,1,figsize=(18,8))\n",
    "sns.countplot('group1',hue='degree',data=data,order=data.group1.value_counts().iloc[:10].index, palette=sns.xkcd_palette(colors))\n",
    "ax.set_title('group 별 심각도')\n",
    "plt.xticks(rotation=rotation)\n",
    "plt.show()\n",
    "df = data.groupby(['group1','degree'])['time'].count().reindex().reset_index().sort_values('time',ascending=False)\n",
    "df.columns = ['group1','degree','count']\n",
    "df_1 = df[df['degree'] == '심각'].head(10)\n",
    "df_2 = df[df['degree'] == '경고'].head(10)\n",
    "df_3 = df[df['degree'] == '주의'].head(10)\n",
    "display_side_by_side(df_1,df_2,df_3)\n",
    "\n",
    "colors = ['red','orange','yellow']\n",
    "f,ax=plt.subplots(1,1,figsize=(18,8))\n",
    "sns.countplot('group2',hue='degree',data=data,order=data.group2.value_counts().iloc[:10].index, palette=sns.xkcd_palette(colors))\n",
    "ax.set_title('group2 심각도')\n",
    "plt.xticks(rotation=rotation)\n",
    "plt.show()\n",
    "df = data.groupby(['group2','degree'])['time'].count().reindex().reset_index().sort_values('time',ascending=False)\n",
    "df.columns = ['group2','degree','count']\n",
    "df_1 = df[df['degree'] == '심각'].head(10)\n",
    "df_2 = df[df['degree'] == '경고'].head(10)\n",
    "df_3 = df[df['degree'] == '주의'].head(10)\n",
    "display_side_by_side(df_1,df_2,df_3)\n",
    "\n",
    "colors = ['red','orange','yellow']\n",
    "f,ax=plt.subplots(1,1,figsize=(18,8))\n",
    "sns.countplot('group3',hue='degree',data=data,order=data.group3.value_counts().iloc[:10].index, palette=sns.xkcd_palette(colors))\n",
    "ax.set_title('group3 심각도')\n",
    "plt.xticks(rotation=rotation)\n",
    "plt.tick_params(axis='both', which='minor', labelsize=0.2)\n",
    "plt.show()\n",
    "df = data.groupby(['group3','degree'])['time'].count().reindex().reset_index().sort_values('time',ascending=False)\n",
    "df.columns = ['group3','degree','count']\n",
    "df_1 = df[df['degree'] == '심각'].head(10)\n",
    "df_2 = df[df['degree'] == '경고'].head(10)\n",
    "df_3 = df[df['degree'] == '주의'].head(10)\n",
    "display_side_by_side(df_1,df_2,df_3)\n",
    "\n",
    "colors = ['red','orange','yellow']\n",
    "f,ax=plt.subplots(1,1,figsize=(18,8))\n",
    "sns.countplot('system_name',hue='degree',data=data,order=data.system_name.value_counts().iloc[:10].index, palette=sns.xkcd_palette(colors))\n",
    "ax.set_title('시스템별 심각도')\n",
    "plt.xticks(rotation=rotation)\n",
    "plt.tick_params(axis='both', which='minor', labelsize=0.2)\n",
    "plt.show()\n",
    "df = data.groupby(['system_name','degree'])['time'].count().reindex().reset_index().sort_values('time',ascending=False)\n",
    "df.columns = ['system_name','degree','count']\n",
    "df_1 = df[df['degree'] == '심각'].head(10)\n",
    "df_2 = df[df['degree'] == '경고'].head(10)\n",
    "df_3 = df[df['degree'] == '주의'].head(10)\n",
    "display_side_by_side(df_1,df_2,df_3)\n",
    "\n",
    "colors = ['orange','yellow','red']\n",
    "f,ax=plt.subplots(1,1,figsize=(18,8))\n",
    "sns.countplot('alarm_name',hue='degree',data=data,order=data.alarm_name.value_counts().iloc[:10].index, palette=sns.xkcd_palette(colors))\n",
    "ax.set_title('알람 이름 별 심각도')\n",
    "plt.xticks(rotation=rotation)\n",
    "plt.tick_params(axis='both', which='minor', labelsize=0.2)\n",
    "plt.show()\n",
    "df = data.groupby(['alarm_name','degree'])['time'].count().reindex().reset_index().sort_values('time',ascending=False)\n",
    "df.columns = ['alarm_name','degree','count']\n",
    "df_1 = df[df['degree'] == '심각'].head(10)\n",
    "df_2 = df[df['degree'] == '경고'].head(10)\n",
    "df_3 = df[df['degree'] == '주의'].head(10)\n",
    "display_side_by_side(df_1,df_2,df_3)\n",
    "\n",
    "\n",
    "colors = ['red','orange','yellow']\n",
    "f,ax=plt.subplots(1,1,figsize=(18,8))\n",
    "sns.countplot('C_class',hue='degree',data=data,order=data.C_class.value_counts().iloc[:10].index, palette=sns.xkcd_palette(colors))\n",
    "ax.set_title('C_class')\n",
    "plt.xticks(rotation=rotation)\n",
    "plt.tick_params(axis='both', which='minor', labelsize=0.2)\n",
    "plt.show()\n",
    "df = data.groupby(['C_class','degree'])['time'].count().reindex().reset_index().sort_values('time',ascending=False)\n",
    "df.columns = ['C_class','degree','count']\n",
    "df_1 = df[df['degree'] == '심각'].head(10)\n",
    "df_2 = df[df['degree'] == '경고'].head(10)\n",
    "df_3 = df[df['degree'] == '주의'].head(10)\n",
    "display_side_by_side(df_1,df_2,df_3)\n",
    "\n",
    "\n",
    "colors = ['red','orange','yellow']\n",
    "f,ax=plt.subplots(1,1,figsize=(18,8))\n",
    "sns.countplot('B_class',hue='degree',data=data,order=data.B_class.value_counts().iloc[:10].index, palette=sns.xkcd_palette(colors))\n",
    "ax.set_title('B_class')\n",
    "plt.xticks(rotation=rotation)\n",
    "plt.tick_params(axis='both', which='minor', labelsize=0.2)\n",
    "plt.show()\n",
    "df = data.groupby(['B_class','degree'])['time'].count().reindex().reset_index().sort_values('time',ascending=False)\n",
    "df.columns = ['B_class','degree','count']\n",
    "df_1 = df[df['degree'] == '심각'].head(10)\n",
    "df_2 = df[df['degree'] == '경고'].head(10)\n",
    "df_3 = df[df['degree'] == '주의'].head(10)\n",
    "display_side_by_side(df_1,df_2,df_3)"
   ]
  },
  {
   "cell_type": "markdown",
   "metadata": {},
   "source": [
    "### 3. time_date(특정일) time_hour(시간) time_weekday(요일) time_day(일) time_week(주) 별 알람 건수"
   ]
  },
  {
   "cell_type": "code",
   "execution_count": null,
   "metadata": {},
   "outputs": [],
   "source": [
    "df = data.groupby(['system_name','time_date'])['time'].count().reindex().reset_index()\n",
    "df.columns =['system_name', 'time_date', 'total_count']\n",
    "df = df.pivot_table(values='total_count', index=df['time_date'], columns=df['system_name'], aggfunc='first',fill_value=0)\n",
    "df['total_count'] = df.sum(axis=1)\n",
    "df = df.sort_values('total_count',ascending=False)\n",
    "\n",
    "df_hour = data.groupby(['time_hour','degree'])['time'].count().reindex().reset_index()\n",
    "df_hour.columns = ['time_hour', 'degree' , 'total_count']\n",
    "\n",
    "data['time_weekday'] = data['time'].dt.weekday\n",
    "df_weekday = data.groupby(['time_weekday','degree'])['time'].count().reindex().reset_index()\n",
    "df_weekday.columns = ['time_weekday', 'degree' , 'total_count']\n",
    "\n",
    "df_days = data.groupby(['time_day','degree'])['time'].count().reindex().reset_index()\n",
    "df_days.columns = ['time_day', 'degree' , 'total_count']\n",
    "\n",
    "data['time_week'] = data['time'].dt.week\n",
    "df_week = data.groupby(['time_week','degree'])['time'].count().reindex().reset_index()\n",
    "df_week.columns = ['time_week', 'degree' , 'total_count']"
   ]
  },
  {
   "cell_type": "code",
   "execution_count": null,
   "metadata": {},
   "outputs": [],
   "source": [
    "df = data.groupby(['time_date','degree'])['time'].count().reindex().reset_index()\n",
    "df.columns = ['time_date', 'degree' , 'total_count']\n",
    "display_side_by_side(df[df.degree.str.match('심각')==True].sort_values('total_count', ascending=False).head(),\n",
    "        df[df.degree.str.match('주의')==True].sort_values('total_count', ascending=False).head(),\n",
    "        df[df.degree.str.match('경고')==True].sort_values('total_count', ascending=False).head())"
   ]
  },
  {
   "cell_type": "code",
   "execution_count": null,
   "metadata": {},
   "outputs": [],
   "source": [
    "display_side_by_side(df_hour[df_hour.degree.str.match('심각')==True].sort_values('total_count', ascending=False).head(),\n",
    "df_hour[df_hour.degree.str.match('주의')==True].sort_values('total_count', ascending=False).head(),\n",
    "df_hour[df_hour.degree.str.match('경고')==True].sort_values('total_count', ascending=False).head())"
   ]
  },
  {
   "cell_type": "code",
   "execution_count": null,
   "metadata": {},
   "outputs": [],
   "source": [
    "display_side_by_side(df_days[df_days.degree.str.match('심각')==True].sort_values('total_count', ascending=False).head(),\n",
    "df_days[df_days.degree.str.match('주의')==True].sort_values('total_count', ascending=False).head(),\n",
    "df_days[df_days.degree.str.match('경고')==True].sort_values('total_count', ascending=False).head())"
   ]
  },
  {
   "cell_type": "code",
   "execution_count": null,
   "metadata": {},
   "outputs": [],
   "source": [
    "display_side_by_side(df_weekday[df_weekday.degree.str.match('심각')==True].sort_values('total_count', ascending=False).head(),\n",
    "df_weekday[df_weekday.degree.str.match('주의')==True].sort_values('total_count', ascending=False).head(),\n",
    "df_weekday[df_weekday.degree.str.match('경고')==True].sort_values('total_count', ascending=False).head())\n"
   ]
  },
  {
   "cell_type": "code",
   "execution_count": null,
   "metadata": {},
   "outputs": [],
   "source": [
    "display_side_by_side(df_week[df_week.degree.str.match('심각')==True].sort_values('total_count', ascending=False).head(),\n",
    "df_week[df_week.degree.str.match('주의')==True].sort_values('total_count', ascending=False).head(),\n",
    "df_week[df_week.degree.str.match('경고')==True].sort_values('total_count', ascending=False).head())\n"
   ]
  },
  {
   "cell_type": "code",
   "execution_count": null,
   "metadata": {
    "scrolled": false
   },
   "outputs": [],
   "source": [
    "sns.factorplot(data=df, x=\"time_date\", y=\"total_count\",hue='degree',legend_out=True, size=3, aspect=4)\n",
    "plt.xticks(rotation='vertical')\n",
    "plt.title('일자별 알람 추이')\n",
    "\n",
    "sns.factorplot(data=df_hour, x=\"time_hour\", y=\"total_count\",hue='degree',legend_out=True, size=3, aspect=4)\n",
    "plt.title('시간별 알람 추이')\n",
    "\n",
    "sns.factorplot(data=df_days, x=\"time_day\", y=\"total_count\",hue='degree',legend_out=True, size=3, aspect=4)\n",
    "plt.title('일자별 알람 추이(1일~31일)')\n",
    "sns.factorplot(data=df_weekday, x=\"time_weekday\", y=\"total_count\",hue='degree',legend_out=True, size=3, aspect=4)\n",
    "plt.title('요일별 알람 추이')\n",
    "sns.factorplot(data=df_week, x=\"time_week\", y=\"total_count\",hue='degree',legend_out=True, size=3, aspect=4)\n",
    "plt.title('주별 알람 추이')"
   ]
  },
  {
   "cell_type": "markdown",
   "metadata": {},
   "source": [
    "### 4. 특정 일에 발생한 알람 확인을 위한 코드"
   ]
  },
  {
   "cell_type": "code",
   "execution_count": null,
   "metadata": {},
   "outputs": [],
   "source": [
    "df = data.groupby(['time_date','degree','alarm_name','system_name','condition'])['ip'].count().reindex().reset_index()\n",
    "df.columns = ['time_date', 'degree' ,'alarm_name','system_name','condition', 'total_count']\n",
    "\n",
    "display(df[df['degree'] == '심각'].sort_values('total_count', ascending=False).head(30))\n",
    "display(df[df['degree'] == '경고'].sort_values('total_count', ascending=False).head(30))\n",
    "display(df[df['degree'] == '주의'].sort_values('total_count', ascending=False).head(30))"
   ]
  },
  {
   "cell_type": "markdown",
   "metadata": {},
   "source": [
    "df = data.groupby(['time_date_hour','degree'])['ip'].count().reindex().reset_index()\n",
    "df.columns = ['time_date_hour', 'degree' , 'total_count']\n",
    "\n",
    "sns.factorplot(data=df, x=\"time_date_hour\", y=\"total_count\",hue='degree',legend_out=True, size=20, aspect=4 ,)\n",
    "plt.xticks(rotation='vertical')\n",
    "plt.title('시간별 알람 추이')\n",
    "\n",
    "display(df[df['degree'] == '심각'].sort_values('total_count', ascending=False).head())\n",
    "index_time = df[df['degree'] == '심각'].sort_values('total_count', ascending=False).head().time_date\n",
    "for time in index_time:\n",
    "   df[(df['degree'] == '심각')&(df['time'].astype('str').isin(time))]).sort_values('total_count', ascending=False).head(10))\n",
    "\n",
    "((df['degree'] == '심각')&(df['time'].astype('str').isin(time)))\n",
    "#display(df[df['degree'] == '경고'].sort_values('total_count', ascending=False).head())\n",
    "#display(df[df['degree'] == '주의'].sort_values('total_count', ascending=False).head())"
   ]
  },
  {
   "cell_type": "code",
   "execution_count": null,
   "metadata": {},
   "outputs": [],
   "source": [
    "df = data.groupby(['time','degree','alarm_name','system_name','condition'])['ip'].count().reindex().reset_index()\n",
    "df.columns = ['time', 'degree' ,'alarm_name','system_name','condition', 'total_count']\n",
    "\n",
    "display_side_by_side(df[df['degree'] == '심각'].sort_values('total_count', ascending=False).head(10))\n",
    "display_side_by_side(df[df['degree'] == '경고'].sort_values('total_count', ascending=False).head(10))\n",
    "display_side_by_side(df[df['degree'] == '주의'].sort_values('total_count', ascending=False).head(10))"
   ]
  },
  {
   "cell_type": "markdown",
   "metadata": {},
   "source": [
    "### 5. 발생 알람 건수 분포 히스토그램"
   ]
  },
  {
   "cell_type": "code",
   "execution_count": null,
   "metadata": {},
   "outputs": [],
   "source": [
    "df = data.groupby(['system_name'])['alarm_name'].count().reindex().reset_index()\n",
    "sns.distplot( df[\"alarm_name\"], bins=20 )"
   ]
  },
  {
   "cell_type": "code",
   "execution_count": null,
   "metadata": {},
   "outputs": [],
   "source": [
    "df.sort_values('alarm_name',ascending=False)"
   ]
  },
  {
   "cell_type": "markdown",
   "metadata": {},
   "source": [
    "### 6. 노드 단위로 발생 알람 건수를 groupby 해서 75% (3분위 수) 120건 미만으로 발생한 노드는 제외함 (Cluster Step 1)"
   ]
  },
  {
   "cell_type": "markdown",
   "metadata": {},
   "source": [
    "display(df[(df['degree'] == '심각')&((df['time'] >= '2018-07-21')&(df['time'] <= '2018-07-22'))].sort_values('total_count', ascending=False).head(100))\n"
   ]
  },
  {
   "cell_type": "code",
   "execution_count": null,
   "metadata": {
    "scrolled": true
   },
   "outputs": [],
   "source": [
    "data_df = data.groupby(['system_name'])['time'].count().reindex().reset_index()"
   ]
  },
  {
   "cell_type": "code",
   "execution_count": null,
   "metadata": {
    "scrolled": true
   },
   "outputs": [],
   "source": [
    "data_df = data_df.rename(columns={'time': 'count'})"
   ]
  },
  {
   "cell_type": "code",
   "execution_count": null,
   "metadata": {
    "scrolled": true
   },
   "outputs": [],
   "source": [
    "data_df.describe() "
   ]
  },
  {
   "cell_type": "code",
   "execution_count": null,
   "metadata": {
    "scrolled": true
   },
   "outputs": [],
   "source": [
    "data_df = data_df[data_df['count'] > 120]"
   ]
  },
  {
   "cell_type": "code",
   "execution_count": null,
   "metadata": {
    "scrolled": true
   },
   "outputs": [],
   "source": [
    "node_names = data_df.sort_values('count',ascending=False).system_name.values"
   ]
  },
  {
   "cell_type": "code",
   "execution_count": null,
   "metadata": {
    "scrolled": true
   },
   "outputs": [],
   "source": [
    "c_nodes = data[data['system_name'].isin(node_names)==True]"
   ]
  },
  {
   "cell_type": "code",
   "execution_count": null,
   "metadata": {
    "scrolled": true
   },
   "outputs": [],
   "source": [
    "data_df_date = c_nodes.groupby(['time_date','system_name'])['time'].count().reindex().reset_index()\n",
    "data_df_date = data_df_date.pivot_table(values='time',columns='system_name',index=data_df_date['time_date'],aggfunc='first',fill_value=0)"
   ]
  },
  {
   "cell_type": "markdown",
   "metadata": {},
   "source": [
    "### 7. 노드별로 1달 동안 일별로 발생한 알람 건수를 가지고 각 노드들 끼리 알람 건수에 대한 상관도 측정 (Cluster Step 2)"
   ]
  },
  {
   "cell_type": "code",
   "execution_count": null,
   "metadata": {},
   "outputs": [],
   "source": [
    "data_df_date"
   ]
  },
  {
   "cell_type": "markdown",
   "metadata": {
    "scrolled": false
   },
   "source": [
    "for node in data_df_date.reindex(sorted(data_df_date.columns), axis=1).columns:\n",
    "    print('>>>>>>>> '+node)\n",
    "    fig = plt.figure(figsize=(15, 7))\n",
    "    ax1 = fig.add_subplot(2, 1, 1)\n",
    "    ax2 = fig.add_subplot(2, 1, 2)\n",
    "    plt.subplots_adjust(top=0.5)\n",
    "    ax2.axis('off')\n",
    "    ax2.axis('tight')\n",
    "    c_nodes = data[data['system_name']==node]\n",
    "    dataset = c_nodes.groupby(['time_date','alarm_name'])['time'].count().reindex().reset_index().sort_values('time', ascending=False).head(10)\n",
    "    ax2.table(cellText=dataset.values, colLabels=dataset.columns, loc='bottom')\n",
    "    plt.setp(ax1.get_xticklabels(), rotation=90)\n",
    "    sns.pointplot(x=data_df_date.index, y=node, data=data_df_date,ax=ax1,rotation=90)\n",
    "    plt.show()\n",
    "    plt.clf()"
   ]
  },
  {
   "cell_type": "code",
   "execution_count": null,
   "metadata": {
    "scrolled": true
   },
   "outputs": [],
   "source": [
    "corrmat = data_df_date.corr()"
   ]
  },
  {
   "cell_type": "markdown",
   "metadata": {},
   "source": [
    "### 8. 상관분석 결과 (Cluster Step 3)"
   ]
  },
  {
   "cell_type": "code",
   "execution_count": null,
   "metadata": {},
   "outputs": [],
   "source": [
    "corrmat"
   ]
  },
  {
   "cell_type": "code",
   "execution_count": null,
   "metadata": {
    "scrolled": false
   },
   "outputs": [],
   "source": [
    "f, ax = plt.subplots(figsize=(100,100))\n",
    "sns_plot = sns.heatmap(corrmat, ax=ax, cmap=\"YlGnBu\", linewidths=0.1)\n",
    "sns_plot.figure.savefig(\"output.png\")"
   ]
  },
  {
   "cell_type": "markdown",
   "metadata": {},
   "source": [
    "### 9. 상관분석 결과 상관도가 90% 이상인 노드들끼리 클러스터링 (Cluster Result)"
   ]
  },
  {
   "cell_type": "code",
   "execution_count": null,
   "metadata": {
    "scrolled": true
   },
   "outputs": [],
   "source": [
    "clusters = []\n",
    "for node in corrmat.columns:\n",
    "    clusters.append(corrmat[corrmat[node] >= 0.9].index)\n",
    "clusters_new = []\n",
    "for cluster in clusters:\n",
    "    if len(cluster) > 1:\n",
    "        clusters_new.append(list(cluster))\n",
    "clusters_new = list(set([tuple(set(node)) for node in clusters_new]))\n",
    "\n",
    "dictt = {}\n",
    "for i in range(0,len(clusters_new)):\n",
    "    dictt.update({'cluster{}'.format(i) : list(clusters_new[i])})\n",
    "\n",
    "df = pd.concat([pd.Series(clusters_new[0],name='cluster0'),pd.Series(clusters_new[1],name='cluster1')], axis=1)\n",
    "for i in range(2,len(clusters_new)):\n",
    "    df = pd.concat([df,pd.Series(clusters_new[i],name='cluster{}'.format(i))], axis=1)\n",
    "#df.fillna('',inplace=True)"
   ]
  },
  {
   "cell_type": "code",
   "execution_count": null,
   "metadata": {},
   "outputs": [],
   "source": [
    "len(clusters_new)"
   ]
  },
  {
   "cell_type": "markdown",
   "metadata": {},
   "source": [
    "### 10. 클러스터에 속한 각각의 노드의 한달 알람 발생 추의와 주요 알람 지표를 출력 (Visualization for Cluster Result)"
   ]
  },
  {
   "cell_type": "code",
   "execution_count": null,
   "metadata": {
    "scrolled": true
   },
   "outputs": [],
   "source": [
    "for cluster in clusters_new:\n",
    "    print('######### '+ str(cluster))\n",
    "    for node in cluster:\n",
    "        print('>>>>>>>> '+node)\n",
    "        fig = plt.figure(figsize=(15, 7))\n",
    "        ax1 = fig.add_subplot(2, 1, 1)\n",
    "        ax2 = fig.add_subplot(2, 1, 2)\n",
    "        plt.subplots_adjust(top=0.5)\n",
    "        ax2.axis('off')\n",
    "        ax2.axis('tight')\n",
    "        c_nodes = data[data['system_name']==node]\n",
    "        dataset = c_nodes.groupby(['time_date','alarm_name'])['time'].count().reindex().reset_index().sort_values('time', ascending=False).head(10)\n",
    "        ax2.table(cellText=dataset.values, colLabels=dataset.columns, loc='bottom')\n",
    "        plt.setp(ax1.get_xticklabels(), rotation=90)\n",
    "        sns.pointplot(x=data_df_date.index, y=node, data=data_df_date,ax=ax1,rotation=90)\n",
    "        plt.show()\n",
    "        plt.clf()"
   ]
  },
  {
   "cell_type": "markdown",
   "metadata": {},
   "source": [
    "### 10-1 클러스터 별로 한달 알람 발생 추의와 주요 알람 지표를 출력"
   ]
  },
  {
   "cell_type": "code",
   "execution_count": null,
   "metadata": {},
   "outputs": [],
   "source": [
    "data_df_date = data_df_date.reset_index()"
   ]
  },
  {
   "cell_type": "code",
   "execution_count": null,
   "metadata": {},
   "outputs": [],
   "source": [
    "i = 0\n",
    "for cluster in clusters_new:\n",
    "    print('>>>>>>>>>cluster{}'.format(i))\n",
    "    test_data = pd.melt(data_df_date, id_vars=['time_date'],value_vars=cluster)\n",
    "    fig = plt.figure(figsize=(15, 7))\n",
    "    ax = sns.pointplot(x=\"time_date\", y=\"value\",hue=test_data.system_name, data=test_data)\n",
    "    plt.xticks(rotation='vertical')\n",
    "    plt.show()\n",
    "    plt.clf()\n",
    "    i += 1"
   ]
  },
  {
   "cell_type": "code",
   "execution_count": null,
   "metadata": {},
   "outputs": [],
   "source": [
    "i = 0\n",
    "for cluster in clusters_new:\n",
    "    print('>>>>>>>cluster{}\\n{}'.format(i,cluster))\n",
    "    c_nodes = data[data['system_name'].isin(cluster)]\n",
    "    c_nodes = c_nodes.groupby(['time_date','alarm_name','system_name'])['time'].count().reindex().reset_index().sort_values('time_date', ascending=True)\n",
    "    c_nodes = c_nodes.groupby(['alarm_name','system_name'])['time'].sum().reindex().reset_index().sort_values('time', ascending=False)\n",
    "    c_nodes = c_nodes[c_nodes.time > c_nodes.time.mean()]\n",
    "    display_side_by_side(c_nodes)\n",
    "    i += 1"
   ]
  },
  {
   "cell_type": "markdown",
   "metadata": {},
   "source": [
    "data[(data.system_name == 'tsgwap') & (data.time_date=='2018-08-03')]"
   ]
  },
  {
   "cell_type": "markdown",
   "metadata": {},
   "source": [
    "pd.set_option('display.max_colwidth', -1)\n",
    "data[(data.system_name == 'tsgwap') & (data.time_date=='2018-08-03')].condition"
   ]
  },
  {
   "cell_type": "markdown",
   "metadata": {},
   "source": [
    "### 11-1. 클러스터 0번에 속한 노드의 주요 지표 디스크 Top I/O 처리율에 대한 노드별 심각도 알람 건수 추이 출력\n",
    "> (클러스터 0번이 첫번재 결과라 선택 함) - cluster0 ('HFEU-TREC234', 'HKCC-TREC231', 'HKCC-TREC236')\n",
    "> 날짜별 현황"
   ]
  },
  {
   "cell_type": "code",
   "execution_count": null,
   "metadata": {},
   "outputs": [],
   "source": [
    "df = data[(data.alarm_name == '디스크 Top I/O 처리율') & (data['system_name'].isin(clusters_new[0]))]\n",
    "#df = df[df['system_name'] == clusters_new[0][0]]\n",
    "df = df.groupby(['time_date','degree','system_name'])['ip'].count().reindex().reset_index()\n",
    "for node in clusters_new[0]:\n",
    "    df_2 = df[df['system_name'] == node]\n",
    "    df_2 = df_2.pivot_table(values='ip', index=df.time_date, columns='degree', aggfunc='first',fill_value=0).reset_index()\n",
    "    display(df_2)\n",
    "    df_2 = pd.melt(df_2,id_vars=['time_date'],value_vars=['주의','경고','심각'])\n",
    "    #display(df_2)\n",
    "    sns.factorplot(data=df_2, x=\"time_date\", y=\"value\",hue='degree',legend_out=True, size=3, aspect=4)\n",
    "    plt.title(node)\n",
    "    plt.xticks(rotation='vertical')"
   ]
  },
  {
   "cell_type": "markdown",
   "metadata": {},
   "source": [
    "> #### 234 서버는 주말 관계없이 알람이 발생하는 하므로 서버 리소스 사용률이 평소에도 높은것으로 추측\n",
    "> #### 231,236 서버는 주말에 알람이 거의 발생하지 않는 것으로 확인"
   ]
  },
  {
   "cell_type": "markdown",
   "metadata": {},
   "source": [
    "### 11-2. 클러스터 0번에 속한 노드의 주요 지표 디스크 Top I/O 처리율에 대한 노드별 심각도 알람 건수 추이 출력\n",
    "> (클러스터 0번이 첫번재 결과라 선택 함) - cluster0 ('HFEU-TREC234', 'HKCC-TREC231', 'HKCC-TREC236')\n",
    "> 요일별 현황"
   ]
  },
  {
   "cell_type": "code",
   "execution_count": null,
   "metadata": {},
   "outputs": [],
   "source": [
    "df = data[(data.alarm_name == '디스크 Top I/O 처리율') & (data['system_name'].isin(clusters_new[0]))]\n",
    "#df = df[df['system_name'] == clusters_new[0][0]]\n",
    "df = df.groupby(['time_weekday','degree','system_name'])['ip'].count().reindex().reset_index()\n",
    "for node in clusters_new[0]:\n",
    "    df_2 = df[df['system_name'] == node]\n",
    "    df_2 = df_2.pivot_table(values='ip', index=df.time_weekday, columns='degree', aggfunc='first',fill_value=0).reset_index()\n",
    "    df_2 = pd.melt(df_2,id_vars=['time_weekday'],value_vars=['주의','경고','심각'])\n",
    "    display(df_2)\n",
    "    sns.factorplot(data=df_2, x=\"time_weekday\", y=\"value\",hue='degree',legend_out=True, size=3, aspect=4)\n",
    "    plt.title(node)"
   ]
  },
  {
   "cell_type": "markdown",
   "metadata": {},
   "source": [
    "> ### 234 서버는 다른 요일에 비해 수요일에 알람이 적게 발생하고\n",
    "> ### 231, 236 서버는 토요일 일요일에 알람이 거의 발생하지 않음"
   ]
  },
  {
   "cell_type": "markdown",
   "metadata": {},
   "source": [
    "### 11-3. 클러스터 0번에 속한 노드의 주요 지표 디스크 Top I/O 처리율에 대한 노드별 심각도 알람 건수 추이 출력\n",
    "> (클러스터 0번이 첫번재 결과라 선택 함) - cluster0 ('HFEU-TREC234', 'HKCC-TREC231', 'HKCC-TREC236')\n",
    "> 알람 발생 시점의 실제 성능 값"
   ]
  },
  {
   "cell_type": "code",
   "execution_count": null,
   "metadata": {},
   "outputs": [],
   "source": [
    "df = data[(data.alarm_name == '디스크 Top I/O 처리율') & (data['system_name'].isin(clusters_new[0]))]\n",
    "condition  = df.condition.str.split(' ', expand=True)\n",
    "df['threshold'] = condition[6].astype(float)\n",
    "df['current'] = condition[3].str.extract('(\\d+(?:\\.\\d+)?)').astype(float)\n",
    "df = df.groupby(['time_date','system_name','degree'])['current'].mean().reindex().reset_index()\n",
    "for node in clusters_new[0]:\n",
    "    print(node)\n",
    "    df_2 = df[df['system_name'] == node]\n",
    "    df_2 = df_2.pivot_table(values='current', index=df_2.time_date, columns='degree', aggfunc='first',fill_value=0).reset_index()\n",
    "    display(df_2)\n",
    "    df_2 = pd.melt(df_2,id_vars=['time_date'],value_vars=['주의','경고','심각'])\n",
    "    sns.factorplot(data=df_2, x=\"time_date\", y=\"value\",hue='degree',legend_out=True, size=3, aspect=4)\n",
    "    plt.title(node)\n",
    "    plt.xticks(rotation='vertical')"
   ]
  },
  {
   "cell_type": "markdown",
   "metadata": {},
   "source": [
    "### 일자별로 알람 발생 당시의 성능 값 추이"
   ]
  },
  {
   "cell_type": "code",
   "execution_count": null,
   "metadata": {},
   "outputs": [],
   "source": []
  }
 ],
 "metadata": {
  "kernelspec": {
   "display_name": "Python 3",
   "language": "python",
   "name": "python3"
  },
  "language_info": {
   "codemirror_mode": {
    "name": "ipython",
    "version": 3
   },
   "file_extension": ".py",
   "mimetype": "text/x-python",
   "name": "python",
   "nbconvert_exporter": "python",
   "pygments_lexer": "ipython3",
   "version": "3.6.4"
  }
 },
 "nbformat": 4,
 "nbformat_minor": 2
}
