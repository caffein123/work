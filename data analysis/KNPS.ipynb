{
 "cells": [
  {
   "cell_type": "code",
   "execution_count": null,
   "metadata": {
    "colab": {},
    "colab_type": "code",
    "id": "tI5WZeMsPYdq",
    "scrolled": true
   },
   "outputs": [],
   "source": [
    "import pandas as pd\n",
    "import numpy as np\n",
    "import warnings\n",
    "import seaborn as sns\n",
    "import matplotlib.pyplot as plt\n",
    "%matplotlib inline\n",
    "#%matplotlib notebook\n",
    "from matplotlib import font_manager, rc\n",
    "import scipy.cluster.hierarchy as spc\n",
    "font_name = font_manager.FontProperties(fname=\"/usr/share/fonts/nanum/nanumGothic.ttf\").get_name()\n",
    "plt.rc('font', family=font_name)\n",
    "plt.rc('style')\n",
    "import warnings\n",
    "warnings.filterwarnings(action='ignore') \n",
    "pd.options.display.float_format = '{:.2f}'.format\n",
    "pd.options.display.max_colwidth=3000"
   ]
  },
  {
   "cell_type": "code",
   "execution_count": null,
   "metadata": {},
   "outputs": [],
   "source": [
    "from IPython.utils.path import get_ipython_dir\n",
    "print(get_ipython_dir())"
   ]
  },
  {
   "cell_type": "code",
   "execution_count": null,
   "metadata": {},
   "outputs": [],
   "source": [
    "import plotly.plotly as py\n",
    "from plotly.graph_objs import *\n",
    "py.sign_in('kyoh', 'xLxYyOTECJ48ofwzrn2j')\n",
    "from plotly.offline import download_plotlyjs, init_notebook_mode, plot, iplot\n",
    "init_notebook_mode(connected=True)"
   ]
  },
  {
   "cell_type": "code",
   "execution_count": null,
   "metadata": {
    "colab": {},
    "colab_type": "code",
    "id": "8Bt3dzV2PYdv"
   },
   "outputs": [],
   "source": [
    "from IPython.display import display_html\n",
    "def display_side_by_side(*args):\n",
    "    html_str=''\n",
    "    for df in args:\n",
    "        html_str+=df.to_html()\n",
    "    display_html(html_str.replace('table','table style=\"display:inline\"'),raw=True)"
   ]
  },
  {
   "cell_type": "markdown",
   "metadata": {},
   "source": [
    "## 로드 데이터"
   ]
  },
  {
   "cell_type": "code",
   "execution_count": null,
   "metadata": {},
   "outputs": [],
   "source": [
    "data = pd.read_excel('알람 목록.xls', encoding='UTF-8')"
   ]
  },
  {
   "cell_type": "code",
   "execution_count": null,
   "metadata": {},
   "outputs": [],
   "source": [
    "#행렬 확인\n",
    "data.shape"
   ]
  },
  {
   "cell_type": "code",
   "execution_count": null,
   "metadata": {},
   "outputs": [],
   "source": [
    "#불필요 컬럼 제거\n",
    "cols = ['처리 현황', '담당자', '처리 이력', '확인 시간', '유지보수 상태']\n",
    "data.drop(columns=cols,axis=1,inplace=True)"
   ]
  },
  {
   "cell_type": "code",
   "execution_count": null,
   "metadata": {},
   "outputs": [],
   "source": [
    "#컬럼 이름 수정\n",
    "data.columns = ['degree', 'alarm_name','time','clear_time','last_time','group_path','system_name','hostname','ip','resource_name','full_path','condition']"
   ]
  },
  {
   "cell_type": "markdown",
   "metadata": {
    "colab_type": "text",
    "id": "2QF9Zp_0PYd3"
   },
   "source": [
    "## 1. 알람 데이터 로드 및 전처리"
   ]
  },
  {
   "cell_type": "code",
   "execution_count": null,
   "metadata": {},
   "outputs": [],
   "source": [
    "#컬럼 이름 수정\n",
    "data.columns = ['degree', 'alarm_name','time','clear_time','last_time','group_path','system_name','hostname','ip','resource_name','full_path','condition']"
   ]
  },
  {
   "cell_type": "code",
   "execution_count": null,
   "metadata": {
    "colab": {},
    "colab_type": "code",
    "id": "SK67xjWUPYeN",
    "scrolled": true
   },
   "outputs": [],
   "source": [
    "#추가 컬럼 생성\n",
    "data['time'] = pd.to_datetime(data['time'], format='%Y-%m-%d %H:%M:%S')\n",
    "data['clear_time'] = pd.to_datetime(data['clear_time'], format='%Y-%m-%d %H:%M:%S')\n",
    "data['last_time'] = data['clear_time'] - data['time']\n",
    "data['last_time'] = data['last_time'].dt.seconds\n",
    "data['last_time'] = data['last_time'].fillna(0)\n",
    "data['time_month'] = data['time'].dt.month\n",
    "data['time_day'] = data['time'].dt.day\n",
    "data['time_hour'] = data['time'].dt.hour\n",
    "data['time_date']= data['time'].dt.strftime('%Y-%m-%d')\n",
    "data['time_date_hour']= data['time'].dt.strftime('%Y-%m-%d %H')\n",
    "data['time_weekday'] = data['time'].dt.weekday\n",
    "data['time_week'] = data['time'].dt.week\n",
    "full_group = data['group_path'].str.split('>', expand=True)\n",
    "data['group1'] = full_group[0]\n",
    "data['group2'] = full_group[1]\n",
    "#data['group3'] = full_group[2]\n",
    "#data['group4'] = full_group[3]\n",
    "ipaddr = data['ip'].str.split('.', expand=True)\n",
    "ipaddr[3] = \"0\"\n",
    "data['C_class']= ipaddr[0] + '.' + ipaddr[1] + '.' + ipaddr[2] + '.' + ipaddr[3]\n",
    "ipaddr[3] = \"0\"\n",
    "ipaddr[2] = \"0\"\n",
    "data['B_class']= ipaddr[0] + '.' + ipaddr[1] + '.' + ipaddr[2] + '.' + ipaddr[3]"
   ]
  },
  {
   "cell_type": "code",
   "execution_count": null,
   "metadata": {},
   "outputs": [],
   "source": [
    "data = data[~(data['degree'] == '해제')]"
   ]
  },
  {
   "cell_type": "code",
   "execution_count": null,
   "metadata": {},
   "outputs": [],
   "source": []
  },
  {
   "cell_type": "code",
   "execution_count": null,
   "metadata": {},
   "outputs": [],
   "source": [
    "#데이터 확인\n",
    "data.head()"
   ]
  },
  {
   "cell_type": "markdown",
   "metadata": {},
   "source": [
    "### 2. 알람 발생 현황 분석"
   ]
  },
  {
   "cell_type": "markdown",
   "metadata": {},
   "source": [
    "#### (1) 전체 알람 데이터 현황"
   ]
  },
  {
   "cell_type": "code",
   "execution_count": null,
   "metadata": {},
   "outputs": [],
   "source": [
    "def result_degree_group(degree,group):\n",
    "    data_after_df = data_after[data_after['degree'] == degree]\n",
    "    data_before_df = data_before[data_before['degree'] == degree]\n",
    "    print('>>>>>>{}'.format(degree))\n",
    "    for i in group:\n",
    "        print('>>>>>>>>>'+i)\n",
    "        print(data_before_label)\n",
    "        display(data_before_df[data_before_df['group2'].str.contains(i)].groupby(['alarm_name'])['time'].count().reindex().reset_index().sort_values('time',ascending=False)[:10])\n",
    "        print(data_after_label)\n",
    "        display(data_after_df[data_after_df['group2'].str.contains(i)].groupby(['alarm_name'])['time'].count().reindex().reset_index().sort_values('time',ascending=False)[:10])"
   ]
  },
  {
   "cell_type": "code",
   "execution_count": null,
   "metadata": {},
   "outputs": [],
   "source": [
    "result_degree_group('심각',['외환','통합그룹웨어','신인터넷뱅킹','기타','\\(구\\)인터넷뱅킹\\/SMS'])"
   ]
  },
  {
   "cell_type": "code",
   "execution_count": null,
   "metadata": {},
   "outputs": [],
   "source": [
    "result_degree_group('경고',['기타','외환','단위업무','CRM\\/COLD','로이터'])"
   ]
  },
  {
   "cell_type": "code",
   "execution_count": null,
   "metadata": {},
   "outputs": [],
   "source": [
    "result_degree_group('주의',['CRM\\/COLD','외환','단위업무','계정계','통합그룹웨어'])"
   ]
  },
  {
   "cell_type": "code",
   "execution_count": null,
   "metadata": {},
   "outputs": [],
   "source": [
    "def df_degree(df,title):\n",
    "    levels = ['주의','경고','심각']\n",
    "    degree_total = df.groupby(['degree'])['time'].count().reindex(levels).reset_index()\n",
    "    degree_total['per'] = degree_total.time/degree_total.sum().time * 100\n",
    "    degree_total.columns = ['degree','count','per']\n",
    "    degree_total.sort_values('degree')\n",
    "    trace1 = {\n",
    "      \"name\" : \"\",\n",
    "      \"domain\": {\n",
    "    \"x\": [0, 0.5], \n",
    "    \"y\": [0.25, 1]\n",
    "              }, \n",
    "      \"labels\": [\"주의\", \"경고\", \"심각\"], \n",
    "      \"type\": \"pie\", \n",
    "      \"values\": list(degree_total['count']),\n",
    "      \"hole\": .4,\n",
    "        }\n",
    "    trace2 = {\n",
    "      \"cells\": {\n",
    "        \"align\": \"center\", \n",
    "        \"fill\": {\"color\": \"rgb(255, 255, 255)\"}, \n",
    "        \"font\": {\n",
    "          \"color\": \"rgb(48, 55, 66)\", \n",
    "          \"family\": \"Arial\", \n",
    "          \"size\": 19\n",
    "        }, \n",
    "        \"height\": 33, \n",
    "        \"line\": {\n",
    "          \"color\": \"rgb(171, 191, 212)\", \n",
    "          \"width\": 1\n",
    "        }, \n",
    "        \"values\": [list(degree_total['degree']), list(degree_total['count'].astype(str)+\" 건\"), list(degree_total['per'].round().astype(str)+\" %\")]\n",
    "        },\n",
    "        \"domain\": {\n",
    "            \"x\": [0.5, 1], \n",
    "            \"y\": [0.25, 0.75]\n",
    "          }, \n",
    "          \"header\": {\n",
    "            \"fill\": {\"color\": \"rgb(31, 119, 180)\"}, \n",
    "            \"font\": {\n",
    "              \"color\": \"rgb(255, 255, 255)\", \n",
    "              \"size\": 24\n",
    "            }, \n",
    "            \"height\": 37, \n",
    "            \"line\": {\"color\": \"rgb(140, 177, 214)\"}, \n",
    "            \"values\": ['등급','건수','비율']\n",
    "            }, \"type\": \"table\" }\n",
    "    data = Data([trace1, trace2])\n",
    "    layout = {\n",
    "      \"autosize\": True, \n",
    "      \"colorway\": [\"#FF7F0E\",'#FFC90E',\"#D62728\"], \n",
    "      \"font\": {\"size\": 20},\n",
    "      \"legend\": {\n",
    "            \"x\": 0.3961578483357668, \n",
    "            \"y\": 1.1245210727969348\n",
    "       }, \n",
    "      \"title\": {\"text\": title}, \n",
    "      \"xaxis\": {\n",
    "            \"autorange\": True, \n",
    "            \"range\": [-1, 6]\n",
    "              }, \n",
    "      \"yaxis\": {\n",
    "            \"autorange\": True, \n",
    "            \"range\": [-1, 4]\n",
    "      }\n",
    "    }\n",
    "    fig = Figure(data=data, layout=layout)\n",
    "    iplot(fig)\n",
    "    #display(degree_total)"
   ]
  },
  {
   "cell_type": "code",
   "execution_count": null,
   "metadata": {},
   "outputs": [],
   "source": [
    "df_degree(data,'총 발생 알람')"
   ]
  },
  {
   "cell_type": "code",
   "execution_count": null,
   "metadata": {},
   "outputs": [],
   "source": [
    "data_log = data[data.condition.str.contains('이벤트 탐지') == True]"
   ]
  },
  {
   "cell_type": "markdown",
   "metadata": {},
   "source": [
    "#### (2) 일반 알람 등급별 발생 현황"
   ]
  },
  {
   "cell_type": "code",
   "execution_count": null,
   "metadata": {},
   "outputs": [],
   "source": [
    "df_degree(data,'성능 알람 건수')"
   ]
  },
  {
   "cell_type": "code",
   "execution_count": null,
   "metadata": {},
   "outputs": [],
   "source": [
    "def group_chart(df,group,num,degree,title):\n",
    "    if degree == \"주의\":\n",
    "        color = [\"#FFC90E\"]\n",
    "    if degree == \"경고\":\n",
    "        color = [\"#FF7F0E\"]\n",
    "    if degree == \"심각\":\n",
    "        color = [\"#D62728\"]\n",
    "    df = df.groupby([group,'degree'])['time'].count().reindex().reset_index().pivot_table(values='time', index=group, columns='degree', aggfunc='first',fill_value=0).reset_index()\n",
    "    df['sum'] = df.sum(axis=1)\n",
    "    df['per'] = df[degree]/df[degree].sum(axis=0)*100\n",
    "    #df = df.rename(columns={'' : '그룹','sum' : '총합', 'per':'비율'})\n",
    "    df.columns = ['그룹','경고','심각','주의','총합','비율']\n",
    "    df = df[['그룹','주의','경고','심각','총합','비율']].sort_values(degree,ascending=False).iloc[:num]\n",
    "    trace1 = {\n",
    "      \"x\": list(df[degree]), \n",
    "      \"y\": list(df['그룹']), \n",
    "      \"name\": degree, \n",
    "      \"orientation\": \"h\", \n",
    "      \"type\": \"bar\", \n",
    "      \"visible\": True, \n",
    "      \"xaxis\": \"x\"\n",
    "    }\n",
    "    trace2 = {\n",
    "      \"cells\": {\n",
    "        \"align\": \"center\", \n",
    "        \"fill\": {\"color\": \"rgb(255, 255, 255)\"}, \n",
    "        \"font\": {\n",
    "          \"color\": \"rgb(48, 55, 66)\", \n",
    "          \"family\": \"Arial\", \n",
    "          \"size\": 13\n",
    "        }, \n",
    "        \"height\": 25, \n",
    "        \"line\": {\n",
    "          \"color\": \"rgb(171, 191, 212)\", \n",
    "          \"width\": 1\n",
    "        }, \n",
    "        \"values\": [list(df['그룹']), list(df[degree].astype(str)+\" 건\"), list(df['비율'].round().astype(str)+\" %\")]\n",
    "        },\n",
    "        \"domain\": {\n",
    "            \"x\": [0.3, 1], \n",
    "            \"y\": [0, 1]\n",
    "          },\n",
    "          \"header\": {\n",
    "            \"fill\": {\"color\": \"rgb(31, 119, 180)\"}, \n",
    "            \"font\": {\n",
    "              \"color\": \"rgb(255, 255, 255)\", \n",
    "              \"size\": 15\n",
    "            }, \n",
    "            \"height\": 25, \n",
    "            \"line\": {\"color\": \"rgb(140, 177, 214)\"}, \n",
    "            \"values\": ['이름','건수','비율']\n",
    "            },  \"columnwidth\": [20,10,10], \"type\": \"table\" }\n",
    "    data = Data([trace1,trace2])\n",
    "    layout = {\n",
    "      \"autosize\": True, \n",
    "      \"colorway\": color, \n",
    "      \"font\": {\n",
    "        \"color\": \"rgb(34, 43, 59)\", \n",
    "        \"size\": 13\n",
    "      }, \n",
    "      \"legend\": {\n",
    "        \"x\": -0.11808242767074219, \n",
    "        \"y\": 1.10727969348659, \n",
    "        \"font\": {\"size\": 20}\n",
    "      }, \n",
    "      \"showlegend\": True, \n",
    "      \"title\": {\n",
    "        \"font\": {\"size\": 20}, \n",
    "        \"text\": title\n",
    "      }, \n",
    "      \"xaxis\": {\n",
    "        \"autorange\": True, \n",
    "        \"domain\": [0, 0.3], \n",
    "        \"exponentformat\": \"none\", \n",
    "        \"range\": [0, 501672.63157894736], \n",
    "        \"type\": \"linear\"\n",
    "      }, \n",
    "      \"yaxis\": {\n",
    "        \"autorange\": \"reversed\", \n",
    "        \"range\": [-0.5, 2.5], \n",
    "        \"domain\": [1, 0.2], \n",
    "        \"type\": \"category\",\n",
    "        \"automargin\": True\n",
    "      }\n",
    "    }\n",
    "    fig = Figure(data=data, layout=layout)\n",
    "    iplot(fig)\n",
    "    display(df[['그룹',degree,'총합','비율']])"
   ]
  },
  {
   "cell_type": "code",
   "execution_count": null,
   "metadata": {},
   "outputs": [],
   "source": [
    "def group_chart2(df,group,group2,num,degree,title):\n",
    "    if degree == \"주의\":\n",
    "        color = [\"#FFC90E\"]\n",
    "    if degree == \"경고\":\n",
    "        color = [\"#FF7F0E\"]\n",
    "    if degree == \"심각\":\n",
    "        color = [\"#D62728\"]\n",
    "    df2 = df.groupby([group,'degree'])['time'].count().reindex().reset_index()\n",
    "    df2 = df2[df2['degree']==degree]\n",
    "    df2.columns = ['호스트명','등급','건수']\n",
    "    df2 = df2[['호스트명','등급','건수']].sort_values('건수',ascending=False).iloc[:num]\n",
    "    df = df.groupby([group,group2,'degree'])['time'].count().reindex().reset_index()\n",
    "    df = df[df['degree']==degree]\n",
    "    df['per'] = df['time']/df['time'].sum(axis=0)*100\n",
    "    df.columns = ['호스트명','알람이름','등급','건수','비율']\n",
    "    df = df[['호스트명','알람이름','등급','건수','비율']].sort_values('건수',ascending=False).iloc[:num]\n",
    "    trace1 = {\n",
    "      \"x\": list(df2['건수']), \n",
    "      \"y\": list(df2['호스트명']), \n",
    "      \"name\": degree, \n",
    "      \"orientation\": \"h\", \n",
    "      \"type\": \"bar\", \n",
    "      \"visible\": True, \n",
    "      \"xaxis\": \"x\"\n",
    "    }\n",
    "    trace2 = {\n",
    "      \"cells\": {\n",
    "        \"align\": \"center\", \n",
    "        \"fill\": {\"color\": \"rgb(255, 255, 255)\"}, \n",
    "        \"font\": {\n",
    "          \"color\": \"rgb(48, 55, 66)\", \n",
    "          \"family\": \"Arial\", \n",
    "          \"size\": 13\n",
    "        }, \n",
    "        \"height\": 25, \n",
    "        \"line\": {\n",
    "          \"color\": \"rgb(171, 191, 212)\", \n",
    "          \"width\": 1\n",
    "        }, \n",
    "        \"values\": [list(df['호스트명']),list(df['알람이름']), list(df['건수'].astype(str)+\" 건\"), list(df['비율'].round().astype(str)+\" %\")]\n",
    "        },\n",
    "        \"domain\": {\n",
    "            \"x\": [0.3, 1], \n",
    "            \"y\": [0, 1]\n",
    "          },\n",
    "          \"header\": {\n",
    "            \"fill\": {\"color\": \"rgb(31, 119, 180)\"}, \n",
    "            \"font\": {\n",
    "              \"color\": \"rgb(255, 255, 255)\", \n",
    "              \"size\": 15\n",
    "            }, \n",
    "            \"height\": 25, \n",
    "            \"line\": {\"color\": \"rgb(140, 177, 214)\"}, \n",
    "            \"values\": ['호스트명','알람이름','건수','비율']\n",
    "            },  \"columnwidth\": [10,20,10,10], \"type\": \"table\" }\n",
    "    data = Data([trace1,trace2])\n",
    "    layout = {\n",
    "      \"autosize\": True, \n",
    "      \"colorway\": color, \n",
    "      \"font\": {\n",
    "        \"color\": \"rgb(34, 43, 59)\", \n",
    "        \"size\": 13\n",
    "      }, \n",
    "      \"legend\": {\n",
    "        \"x\": -0.11808242767074219, \n",
    "        \"y\": 1.10727969348659, \n",
    "        \"font\": {\"size\": 20}\n",
    "      }, \n",
    "      \"showlegend\": True, \n",
    "      \"title\": {\n",
    "        \"font\": {\"size\": 20}, \n",
    "        \"text\": title\n",
    "      }, \n",
    "      \"xaxis\": {\n",
    "        \"autorange\": True, \n",
    "        \"domain\": [0, 0.3], \n",
    "        \"exponentformat\": \"none\", \n",
    "        \"range\": [0, 501672.63157894736], \n",
    "        \"type\": \"linear\"\n",
    "      }, \n",
    "      \"yaxis\": {\n",
    "        \"autorange\": \"reversed\", \n",
    "        \"range\": [-0.5, 2.5], \n",
    "        \"domain\": [1, 0.2], \n",
    "        \"type\": \"category\",\n",
    "        \"automargin\": True\n",
    "      }\n",
    "    }\n",
    "    fig = Figure(data=data, layout=layout)\n",
    "    iplot(fig)"
   ]
  },
  {
   "cell_type": "code",
   "execution_count": null,
   "metadata": {},
   "outputs": [],
   "source": [
    "def group_chart_total(df,group,num,title):\n",
    "    df = df.groupby([group])['time'].count().reindex().reset_index()\n",
    "    df['sum'] = df.sum(axis=1)\n",
    "    df['per'] = df['time']/df['time'].sum(axis=0)*100\n",
    "    df.columns = ['그룹','건수','총합','비율']\n",
    "    df = df[['그룹','건수','총합','비율']].sort_values('건수',ascending=False).iloc[:num]\n",
    "    trace1 = {\n",
    "      \"x\": list(df['건수']), \n",
    "      \"y\": list(df['그룹']), \n",
    "      \"name\": '총 건수', \n",
    "      \"orientation\": \"h\", \n",
    "      \"type\": \"bar\", \n",
    "      \"visible\": True, \n",
    "      \"xaxis\": \"x\"\n",
    "    }\n",
    "    trace2 = {\n",
    "      \"cells\": {\n",
    "        \"align\": \"center\", \n",
    "        \"fill\": {\"color\": \"rgb(255, 255, 255)\"}, \n",
    "        \"font\": {\n",
    "          \"color\": \"rgb(48, 55, 66)\", \n",
    "          \"family\": \"Arial\", \n",
    "          \"size\": 13\n",
    "        }, \n",
    "        \"height\": 25, \n",
    "        \"line\": {\n",
    "          \"color\": \"rgb(171, 191, 212)\", \n",
    "          \"width\": 1\n",
    "        }, \n",
    "        \"values\": [list(df['그룹']), list(df['건수'].astype(str)+\" 건\"), list(df['비율'].round().astype(str)+\" %\")]\n",
    "        },\n",
    "        \"domain\": {\n",
    "            \"x\": [0.3, 1], \n",
    "            \"y\": [0, 1]\n",
    "          },\n",
    "          \"header\": {\n",
    "            \"fill\": {\"color\": \"rgb(31, 119, 180)\"}, \n",
    "            \"font\": {\n",
    "              \"color\": \"rgb(255, 255, 255)\", \n",
    "              \"size\": 15\n",
    "            }, \n",
    "            \"height\": 25, \n",
    "            \"line\": {\"color\": \"rgb(140, 177, 214)\"}, \n",
    "            \"values\": ['이름','건수','비율']\n",
    "            },  \"columnwidth\": [20,10,10], \"type\": \"table\" }\n",
    "    data = Data([trace1,trace2])\n",
    "    layout = {\n",
    "      \"autosize\": True, \n",
    "      \"font\": {\n",
    "        \"color\": \"rgb(34, 43, 59)\", \n",
    "        \"size\": 13\n",
    "      }, \n",
    "      \"legend\": {\n",
    "        \"x\": -0.11808242767074219, \n",
    "        \"y\": 1.10727969348659, \n",
    "        \"font\": {\"size\": 20}\n",
    "      }, \n",
    "      \"showlegend\": True, \n",
    "      \"title\": {\n",
    "        \"font\": {\"size\": 20}, \n",
    "        \"text\": title\n",
    "      }, \n",
    "      \"xaxis\": {\n",
    "        \"autorange\": True, \n",
    "        \"domain\": [0, 0.3], \n",
    "        \"exponentformat\": \"none\", \n",
    "        \"range\": [0, 501672.63157894736], \n",
    "        \"type\": \"linear\"\n",
    "      }, \n",
    "      \"yaxis\": {\n",
    "        \"autorange\": \"reversed\", \n",
    "        \"range\": [-0.5, 2.5], \n",
    "        \"domain\": [1, 0.2], \n",
    "        \"type\": \"category\",\n",
    "        \"automargin\": True\n",
    "      }\n",
    "    }\n",
    "    fig = Figure(data=data, layout=layout)\n",
    "    iplot(fig)\n",
    "    display(df)"
   ]
  },
  {
   "cell_type": "markdown",
   "metadata": {},
   "source": [
    "### 년도 별 장비 전체 알람 TOP10"
   ]
  },
  {
   "cell_type": "code",
   "execution_count": null,
   "metadata": {},
   "outputs": [],
   "source": [
    "group_chart_total(data,'system_name',10,'장비 전체 알람 TOP10')"
   ]
  },
  {
   "cell_type": "markdown",
   "metadata": {},
   "source": [
    "### 년도 별 장비 등급별 알람 TOP10"
   ]
  },
  {
   "cell_type": "code",
   "execution_count": null,
   "metadata": {},
   "outputs": [],
   "source": [
    "group_chart(data,'system_name',10,'주의','장비 등급별 알람 TOP10')\n",
    "group_chart(data,'system_name',10,'경고','장비 등급별 알람 TOP10')\n",
    "group_chart(data,'system_name',10,'심각','장비 등급별 알람 TOP10')"
   ]
  },
  {
   "cell_type": "markdown",
   "metadata": {},
   "source": [
    "### 04월 11일 전체 TOP 10"
   ]
  },
  {
   "cell_type": "code",
   "execution_count": null,
   "metadata": {},
   "outputs": [],
   "source": [
    "group_chart_total(data[data.time_date == '2019-04-11'],'alarm_name',10,'2019-04-11')\n",
    "group_chart_total(data[data.time_date == '2019-04-14'],'alarm_name',10,'2019-04-14')"
   ]
  },
  {
   "cell_type": "code",
   "execution_count": null,
   "metadata": {},
   "outputs": [],
   "source": []
  },
  {
   "cell_type": "code",
   "execution_count": null,
   "metadata": {},
   "outputs": [],
   "source": [
    "group_chart_total(data[data.time_date == '2019-04-06'],'alarm_name',10,'2019-04-06')"
   ]
  },
  {
   "cell_type": "markdown",
   "metadata": {},
   "source": [
    "### 04월 11일 등급별 TOP 10"
   ]
  },
  {
   "cell_type": "code",
   "execution_count": null,
   "metadata": {},
   "outputs": [],
   "source": [
    "#group_chart(data[data.time_date == '2019-04-11'],'alarm_name',10,'주의','2019-04-11(주의)')\n",
    "group_chart(data[data.time_date == '2019-04-11'],'alarm_name',10,'경고','2019-04-11(경고)')\n",
    "group_chart(data[data.time_date == '2019-04-11'],'alarm_name',10,'심각','2019-04-11(심각)')"
   ]
  },
  {
   "cell_type": "code",
   "execution_count": null,
   "metadata": {},
   "outputs": [],
   "source": [
    "group_chart(data[data.time_date == '2019-03-31'],'alarm_name',10,'경고','2019-04-11(경고)')\n",
    "group_chart(data[data.time_date == '2019-04-03'],'alarm_name',10,'경고','2019-04-11(경고)')"
   ]
  },
  {
   "cell_type": "markdown",
   "metadata": {},
   "source": [
    "### 01월 20일 장비별 전체 등급  TOP 10 / 02월 05일 장비별 전체 등급  TOP 10"
   ]
  },
  {
   "cell_type": "code",
   "execution_count": null,
   "metadata": {},
   "outputs": [],
   "source": [
    "group_chart_total(data[data.time_date == '2019-04-11'],'system_name',10,'2019-04-11')"
   ]
  },
  {
   "cell_type": "code",
   "execution_count": null,
   "metadata": {},
   "outputs": [],
   "source": [
    "group_chart(data,'group2',10,'주의','주의_전체')\n",
    "group_chart(data,'group2',10,'경고','경고_전체')\n",
    "group_chart(data,'group2',10,'심각','심각_전체')"
   ]
  },
  {
   "cell_type": "code",
   "execution_count": null,
   "metadata": {},
   "outputs": [],
   "source": [
    "group_chart_total(data,'alarm_name',10,'전체')"
   ]
  },
  {
   "cell_type": "code",
   "execution_count": null,
   "metadata": {},
   "outputs": [],
   "source": [
    "group_chart(data,'group2',10,'주의','주의')\n",
    "group_chart(data,'group2',10,'경고','경고')\n",
    "group_chart(data,'group2',10,'심각','심각')"
   ]
  },
  {
   "cell_type": "code",
   "execution_count": null,
   "metadata": {},
   "outputs": [],
   "source": [
    "group_chart(data,'alarm_name',10,'주의','주의')\n",
    "group_chart(data,'alarm_name',10,'경고','경고')\n",
    "group_chart(data,'alarm_name',10,'심각','심각')"
   ]
  },
  {
   "cell_type": "code",
   "execution_count": null,
   "metadata": {},
   "outputs": [],
   "source": [
    "group_chart2(data,'hostname','alarm_name',10,'주의','주의')\n",
    "group_chart2(data,'hostname','alarm_name',10,'경고','경고')\n",
    "group_chart2(data,'hostname','alarm_name',10,'심각','심각')"
   ]
  },
  {
   "cell_type": "code",
   "execution_count": null,
   "metadata": {},
   "outputs": [],
   "source": [
    "def rank_chart(df,group):\n",
    "    df = df.groupby([group,'degree'])['time'].count().reindex().reset_index().pivot_table(values='time', index=group, columns='degree', aggfunc='first',fill_value=0)\n",
    "    df['sum'] = df.sum(axis=1)\n",
    "    df = df.sort_values('sum',ascending=False).reset_index()\n",
    "    df.columns = ['호스트명','경고','심각','주의','총합']\n",
    "    df.index = df.index + 1\n",
    "    table_1 = df[:10]\n",
    "    table_2 = df[10:20]\n",
    "    df =df[:15]\n",
    "    trace1 = {\n",
    "      \"x\": list(df['호스트명']), \n",
    "      \"y\": list(df['주의']), \n",
    "      \"marker\": {\n",
    "        \"color\": \"#FFC90E\", \n",
    "        \"line\": {\"width\": 1}\n",
    "      }, \n",
    "      \"opacity\": 0.6, \n",
    "      \"name\": \"주의\", \n",
    "      \"orientation\": \"v\", \n",
    "      \"textposition\": \"none\", \n",
    "      \"type\": \"bar\", \n",
    "    }\n",
    "    trace2 = {\n",
    "      \"x\": list(df['호스트명']), \n",
    "      \"y\": list(df['경고']), \n",
    "      \"marker\": {\n",
    "        \"color\": \"#FF7F0E\", \n",
    "        \"line\": {\"width\": 1}\n",
    "      }, \n",
    "      \"name\": \"경고\", \n",
    "      \"opacity\": 0.6, \n",
    "      \"orientation\": \"v\",\n",
    "      \"type\": \"bar\"\n",
    "    }\n",
    "    trace3 = {\n",
    "      \"x\": list(df['호스트명']),\n",
    "      \"y\": list(df['심각']), \n",
    "      \"marker\": {\n",
    "        \"color\": \"#D62728\",\n",
    "        \"line\": {\"width\": 1}\n",
    "      }, \n",
    "      \"name\": \"심각\", \n",
    "      \"opacity\": 0.6, \n",
    "      \"orientation\": \"v\", \n",
    "      \"type\": \"bar\", \n",
    "    }\n",
    "    trace4 = {\n",
    "      \"x\": list(df['호스트명']),\n",
    "      \"y\": list(df['총합']), \n",
    "      \"cliponaxis\": True, \n",
    "      \"constraintext\": \"none\", \n",
    "      \"name\" : \"총합\",\n",
    "      \"marker\": {\n",
    "        \"color\": \"#2B62AD\",\n",
    "        \"line\": {\"width\": 1}\n",
    "      }, \n",
    "      \"opacity\": 0.63, \n",
    "      \"orientation\": \"v\", \n",
    "      \"text\": list(df['총합'].astype('str')), \n",
    "      \"textfont\": {\n",
    "        \"color\": \"rgb(255, 0, 6)\", \n",
    "        \"family\": \"Roboto\", \n",
    "        \"size\": 10\n",
    "      }, \n",
    "      \"textposition\": \"outside\", \n",
    "      \"type\": \"bar\"\n",
    "    }\n",
    "    trace5 = {\n",
    "      \"cells\": {\n",
    "        \"values\": [\n",
    "        list(table_1.index),list(table_1['호스트명']),list(table_1['주의']),list(table_1['경고']),list(table_1['심각']),list(table_1['총합'])\n",
    "        ]\n",
    "      }, \n",
    "      \"domain\": {\n",
    "        \"x\": [0, 0.5], \n",
    "        \"y\": [0, 0.48]\n",
    "      }, \n",
    "      \"header\": {\n",
    "        \"values\": [\"RANK\", \"HOSTNAME\", \"주의\", \"경고\", \"심각\", \"총합계\"], \n",
    "        \"valuessrc\": \"kyoh:14:429f25\"\n",
    "      }, \n",
    "      \"type\": \"table\"\n",
    "    }\n",
    "    trace6 = {\n",
    "      \"cells\": {\n",
    "        \"values\": [\n",
    "        list(table_2.index),list(table_2['호스트명']),list(table_2['주의']),list(table_2['경고']),list(table_2['심각']),list(table_2['총합'])\n",
    "    ]\n",
    "      }, \n",
    "      \"domain\": {\n",
    "        \"x\": [0.5, 1], \n",
    "        \"y\": [0, 0.48]\n",
    "      }, \n",
    "      \"header\": {\n",
    "        \"values\": [\"RANK\", \"HOSTNAME\", \"주의\", \"경고\", \"심각\", \"총합계\"], \n",
    "      }, \n",
    "      \"type\": \"table\"\n",
    "    }\n",
    "    data = Data([trace1, trace2, trace3, trace4])\n",
    "    layout = {\n",
    "      \"dragmode\": \"zoom\", \n",
    "      \"hovermode\": \"closest\", \n",
    "      \"legend\": {\n",
    "        \"x\": 0.4534313725490196, \n",
    "        \"y\": 1.0802211091654588, \n",
    "        \"orientation\": \"h\", \n",
    "        \"xanchor\": \"auto\"\n",
    "      }, \n",
    "      \"xaxis\": {\n",
    "        \"autorange\": True, \n",
    "        \"domain\": [0, 1], \n",
    "        \"fixedrange\": False, \n",
    "        \"nticks\": 10, \n",
    "        \"range\": [-0.5, 9.5], \n",
    "        \"rangeslider\": {\n",
    "          \"autorange\": True, \n",
    "          \"range\": [-0.5, 9.5], \n",
    "          \"visible\": False\n",
    "        }, \n",
    "        \"showline\": False, \n",
    "        \"showspikes\": False, \n",
    "        \"showticklabels\": False, \n",
    "        \"ticks\": \"\", \n",
    "        \"title\": {\"text\": \"\"}, \n",
    "        \"type\": \"category\"\n",
    "      }, \n",
    "      \"yaxis\": {\n",
    "        \"autorange\": True, \n",
    "        \"domain\": [0.3, 1], \n",
    "        \"exponentformat\": \"none\", \n",
    "        \"range\": [0, 70986.31578947368], \n",
    "        \"showspikes\": False, \n",
    "        \"ticks\": \"\"\n",
    "      }\n",
    "    }\n",
    "    fig = Figure(data=data, layout=layout)\n",
    "    iplot(fig)\n",
    "\n",
    "    trace5 = {\n",
    "        \"cells\": {\n",
    "        \"align\": \"center\", \n",
    "        \"fill\": {\"color\": \"rgb(255, 255, 255)\"}, \n",
    "        \"font\": {\n",
    "        \"color\": \"rgb(48, 55, 66)\", \n",
    "        \"family\": \"Arial\", \n",
    "        \"size\": 13,},\n",
    "        \"height\": 25, \n",
    "        \"line\": {\n",
    "        \"color\": \"rgb(171, 191, 212)\", \n",
    "        \"width\": 1\n",
    "            }, \n",
    "        \"values\": [\n",
    "        list(table_1.index),list(table_1['호스트명']),list(table_1['주의']),list(table_1['경고']),list(table_1['심각']),list(table_1['총합'])\n",
    "        ]\n",
    "      }, \n",
    "      \"domain\": {\n",
    "        \"x\": [0, 0.5], \n",
    "        \"y\": [0, 1]\n",
    "      }, \n",
    "      \"header\": {\n",
    "        \"values\": [\"No\", \"HOSTNAME\", \"주의\", \"경고\", \"심각\", \"총합계\"], \n",
    "                \"fill\": {\"color\": \"rgb(31, 119, 180)\"}, \n",
    "                \"font\": {\n",
    "                  \"color\": \"rgb(255, 255, 255)\", \n",
    "                  \"size\": 15\n",
    "      }},\"columnwidth\": [5,15,10,10,10],\n",
    "      \"type\": \"table\"\n",
    "    }\n",
    "    trace6 = {\n",
    "    \"cells\": {\n",
    "        \"align\": \"center\", \n",
    "        \"fill\": {\"color\": \"rgb(255, 255, 255)\"}, \n",
    "        \"font\": {\n",
    "        \"color\": \"rgb(48, 55, 66)\", \n",
    "        \"family\": \"Arial\", \n",
    "        \"size\": 13,},\n",
    "        \"height\": 25, \n",
    "        \"line\": {\n",
    "        \"color\": \"rgb(171, 191, 212)\", \n",
    "        \"width\": 1\n",
    "            }, \n",
    "        \"values\": [\n",
    "        list(table_2.index),list(table_2['호스트명']),list(table_2['주의']),list(table_2['경고']),list(table_2['심각']),list(table_2['총합'])\n",
    "        ]\n",
    "      }, \n",
    "      \"domain\": {\n",
    "        \"x\": [0.5, 1], \n",
    "        \"y\": [0, 1]\n",
    "      }, \n",
    "      \"header\": {\n",
    "        \"values\": [\"No\", \"HOSTNAME\", \"주의\", \"경고\", \"심각\", \"총합계\"], \n",
    "                \"fill\": {\"color\": \"rgb(31, 119, 180)\"}, \n",
    "                \"font\": {\n",
    "                  \"color\": \"rgb(255, 255, 255)\", \n",
    "                  \"size\": 15\n",
    "      }},\"columnwidth\": [5,15,10,10,10],\n",
    "         \"type\": \"table\"\n",
    "    }\n",
    "    data = Data([trace5, trace6])\n",
    "    layout = {\n",
    "      \"dragmode\": \"zoom\", \n",
    "      \"hovermode\": \"closest\", \n",
    "      \"legend\": {\n",
    "        \"x\": 0.4534313725490196, \n",
    "        \"y\": 1.0802211091654588, \n",
    "        \"orientation\": \"h\", \n",
    "        \"xanchor\": \"auto\"\n",
    "      }, \n",
    "      \"xaxis\": {\n",
    "        \"autorange\": True, \n",
    "        \"domain\": [0, 1], \n",
    "        \"fixedrange\": False, \n",
    "        \"nticks\": 10, \n",
    "        \"range\": [-0.5, 9.5], \n",
    "        \"rangeslider\": {\n",
    "          \"autorange\": True, \n",
    "          \"range\": [-0.5, 9.5], \n",
    "          \"visible\": False\n",
    "        }, \n",
    "        \"showline\": False, \n",
    "        \"showspikes\": False, \n",
    "        \"showticklabels\": False, \n",
    "        \"ticks\": \"\", \n",
    "        \"title\": {\"text\": \"\"}, \n",
    "        \"type\": \"category\"\n",
    "      }, \n",
    "      \"yaxis\": {\n",
    "        \"autorange\": True, \n",
    "        \"domain\": [0.3, 1], \n",
    "        \"exponentformat\": \"none\", \n",
    "        \"range\": [0, 70986.31578947368], \n",
    "        \"showspikes\": False, \n",
    "        \"ticks\": \"\"\n",
    "      }\n",
    "    }\n",
    "    fig = Figure(data=data, layout=layout)\n",
    "    iplot(fig)"
   ]
  },
  {
   "cell_type": "code",
   "execution_count": null,
   "metadata": {},
   "outputs": [],
   "source": [
    "rank_chart(data,'system_name')"
   ]
  },
  {
   "cell_type": "code",
   "execution_count": null,
   "metadata": {},
   "outputs": [],
   "source": [
    "def line_chart(df,group,line_type,num,title):\n",
    "    df = df.groupby([group,'degree'])['time'].count().reindex().reset_index()\n",
    "    df = df.pivot_table(values='time', index=group, columns='degree', aggfunc='first',fill_value=0).reset_index()\n",
    "    df.columns = ['시간','경고','심각','주의']\n",
    "    df = df[['시간','주의','경고','심각']]\n",
    "    trace1 = {\n",
    "      \"name\" : \"주의\",\n",
    "      \"x\": list(df['시간']),\n",
    "      \"y\": list(df['주의']),\n",
    "      \"mode\": line_type, \n",
    "      \"type\": \"scatter\"\n",
    "    }\n",
    "    trace2 = {\n",
    "      \"name\" : \"경고\",\n",
    "      \"x\": list(df['시간']),\n",
    "      \"y\": list(df['경고']),\n",
    "      \"mode\": line_type, \n",
    "      \"type\": \"scatter\"\n",
    "    }\n",
    "    trace3 = {\n",
    "      \"name\" : \"심각\",\n",
    "      \"x\": list(df['시간']),\n",
    "      \"y\": list(df['심각']),\n",
    "      \"mode\": line_type, \n",
    "      \"type\": \"scatter\"\n",
    "    }\n",
    "    data = Data([trace1, trace2, trace3])\n",
    "    layout = {\n",
    "      \"autosize\": True, \n",
    "      \"title\": {\n",
    "        \"x\": 0.5, \n",
    "        \"text\": \"{}별 알람 추이\".format(title)\n",
    "      }, \n",
    "      \"xaxis\": {\n",
    "        \"automargin\": True, \n",
    "        \"autorange\": True, \n",
    "        \"domain\": [0, 1], \n",
    "        \"exponentformat\": \"none\", \n",
    "        \"nticks\": num, \n",
    "        \"side\": \"bottom\", \n",
    "        \"tickformat\": \"\", \n",
    "        \"title\": {\"text\": \"{}\".format(title)}, \n",
    "        \"type\": \"category\"\n",
    "      }, \n",
    "      \"yaxis\": {\n",
    "        \"autorange\": True, \n",
    "        \"domain\": [0.3, 1], \n",
    "        \"exponentformat\": \"none\", \n",
    "        \"showticklabels\": True, \n",
    "        \"title\": {\"text\": \"알람 수\"}, \n",
    "        \"type\": \"linear\"\n",
    "      }\n",
    "    }\n",
    "    fig = Figure(data=data, layout=layout)\n",
    "    iplot(fig)"
   ]
  },
  {
   "cell_type": "code",
   "execution_count": null,
   "metadata": {},
   "outputs": [],
   "source": [
    "line_chart(data,'time_date',\"lines\",5,\"일(Day)\")\n",
    "line_chart(data,'time_week',\"markers+lines\",40,\"주(Week)\")\n",
    "line_chart(data,'time_month',\"markers+lines\",40,\"월(Month)\")\n",
    "line_chart(data,'time_hour',\"markers+lines\",23,\"시간대\")\n",
    "line_chart(data,'time_day',\"markers+lines\",40,\"일(한달 기준)\")\n",
    "line_chart(data,'time_weekday',\"markers+lines\",40,\"요일(일주일 기준)\")"
   ]
  },
  {
   "cell_type": "code",
   "execution_count": null,
   "metadata": {},
   "outputs": [],
   "source": [
    "data[data['alarm_name'] == '[DB]액티브 세션 수'].system_name.unique()"
   ]
  },
  {
   "cell_type": "code",
   "execution_count": null,
   "metadata": {},
   "outputs": [],
   "source": [
    "df = data.groupby(['hostname','time'])['system_name'].count().reset_index().reindex().pivot_table(values='system_name', index='time', columns='hostname', aggfunc='first',fill_value=0).reset_index().describe()"
   ]
  },
  {
   "cell_type": "code",
   "execution_count": null,
   "metadata": {},
   "outputs": [],
   "source": [
    "df = data[data.system_name==\"npamis\"].groupby(['alarm_name','time'])['condition'].count().reindex().reset_index().pivot_table(values='condition',columns='alarm_name',index='time',aggfunc='first',fill_value=0).describe()"
   ]
  },
  {
   "cell_type": "markdown",
   "metadata": {},
   "source": [
    "### 클러스터"
   ]
  },
  {
   "cell_type": "code",
   "execution_count": null,
   "metadata": {},
   "outputs": [],
   "source": [
    "data_df = data.groupby(['hostname'])['time'].count().reindex().reset_index()\n",
    "data_df.sort_values('time',ascending=False)\n",
    "len(data_df[(data_df.time >= 1)&(data_df.time < 1000)])"
   ]
  },
  {
   "cell_type": "code",
   "execution_count": null,
   "metadata": {},
   "outputs": [],
   "source": [
    "data_df = data.groupby(['hostname'])['time'].count().reindex().reset_index()\n",
    "data_df = data_df.rename(columns={'time': 'count'})\n",
    "data_df.describe()"
   ]
  },
  {
   "cell_type": "code",
   "execution_count": null,
   "metadata": {},
   "outputs": [],
   "source": [
    "data_df = data_df[data_df['count'] > 0]\n",
    "node_names = data_df.sort_values('count',ascending=False).hostname.values\n",
    "c_nodes = data[data['hostname'].isin(node_names)==True]\n",
    "data_df_date = c_nodes.groupby(['time_date','hostname'])['degree'].count().reindex().reset_index()\n",
    "data_df_date = data_df_date.pivot_table(values='degree',columns='hostname',index=data_df_date['time_date'],aggfunc='first',fill_value=0)"
   ]
  },
  {
   "cell_type": "code",
   "execution_count": null,
   "metadata": {},
   "outputs": [],
   "source": [
    "corrmat = data_df_date.corr()"
   ]
  },
  {
   "cell_type": "code",
   "execution_count": null,
   "metadata": {},
   "outputs": [],
   "source": [
    "clusters = []\n",
    "for node in corrmat.columns:\n",
    "    clusters.append(corrmat[corrmat[node] >= 0.7].index)\n",
    "clusters_new = []\n",
    "for cluster in clusters:\n",
    "    if len(cluster) > 1:\n",
    "        clusters_new.append(list(cluster))\n",
    "clusters_new = list(set([tuple(set(node)) for node in clusters_new]))\n",
    "\n",
    "dictt = {}\n",
    "for i in range(0,len(clusters_new)):\n",
    "    dictt.update({'cluster{}'.format(i) : list(clusters_new[i])})\n",
    "\n",
    "data_df_date = data_df_date.reset_index()\n",
    "#pd.concat([pd.Series(clusters_new[0],name='cluster0'),pd.Series(clusters_new[1],name='cluster1')], axis=1)\n",
    "#for i in range(2,len(clusters_new)):\n",
    "#    df = pd.concat([df,pd.Series(clusters_new[i],name='cluster{}'.format(i))], axis=1)\n",
    "#df.fillna('',inplace=True)"
   ]
  },
  {
   "cell_type": "code",
   "execution_count": null,
   "metadata": {},
   "outputs": [],
   "source": [
    "len(clusters_new)"
   ]
  },
  {
   "cell_type": "code",
   "execution_count": null,
   "metadata": {},
   "outputs": [],
   "source": [
    "clusters_new"
   ]
  },
  {
   "cell_type": "code",
   "execution_count": null,
   "metadata": {},
   "outputs": [],
   "source": [
    "def chart_cluster(clusters_new,df):\n",
    "    i = 0\n",
    "    for cluster in clusters_new:\n",
    "        print('>>>>>>>>>cluster{}'.format(i))\n",
    "        test_data = pd.melt(data_df_date, id_vars=['time_date'],value_vars=cluster)\n",
    "        fig = plt.figure(figsize=(15, 7))\n",
    "        ax = sns.pointplot(x=\"time_date\", y=\"value\",hue=test_data.hostname, data=test_data)\n",
    "        plt.xticks(rotation='vertical')\n",
    "        plt.show()\n",
    "        plt.clf()\n",
    "        try:\n",
    "            c_nodes = df[df['hostname'].isin(cluster)]\n",
    "        except:\n",
    "            c_nodes = df[df['hostname'].str.contains(cluster)]\n",
    "        c_nodes = c_nodes.groupby(['time_date','alarm_name','hostname'])['time'].count().reindex().reset_index().sort_values('time_date', ascending=True)\n",
    "        c_nodes = c_nodes.groupby(['alarm_name','hostname'])['time'].sum().reindex().reset_index().sort_values('time', ascending=False)\n",
    "        c_nodes = c_nodes[c_nodes.time > 1]\n",
    "        display_side_by_side(c_nodes)\n",
    "        i += 1"
   ]
  },
  {
   "cell_type": "code",
   "execution_count": null,
   "metadata": {},
   "outputs": [],
   "source": [
    "chart_cluster([('SCMSG005R', 'SCMSG003R', 'SCMSG002R')],data_perf)"
   ]
  },
  {
   "cell_type": "code",
   "execution_count": null,
   "metadata": {},
   "outputs": [],
   "source": [
    "chart_cluster([('SCFEM001R', 'SCFEM002R','SCFEM421R','SCFEM431R')],data_perf)"
   ]
  },
  {
   "cell_type": "code",
   "execution_count": null,
   "metadata": {},
   "outputs": [],
   "source": [
    "chart_cluster([('pedwdb1', 'pedwdb2')],data_perf)"
   ]
  },
  {
   "cell_type": "code",
   "execution_count": null,
   "metadata": {},
   "outputs": [],
   "source": [
    "chart_cluster([('SCCLD301')],data_perf)"
   ]
  },
  {
   "cell_type": "code",
   "execution_count": null,
   "metadata": {},
   "outputs": [],
   "source": [
    "chart_cluster([('DRFEM001R')],data_perf)"
   ]
  },
  {
   "cell_type": "code",
   "execution_count": null,
   "metadata": {},
   "outputs": [],
   "source": [
    "chart_cluster([('ptrepap1', 'ptrepap2')],data_perf)"
   ]
  },
  {
   "cell_type": "code",
   "execution_count": null,
   "metadata": {},
   "outputs": [],
   "source": [
    "def scatter_chart_new(df,group,num):\n",
    "    trace1 = {\n",
    "      \"x\": [\"주의222222222222222222222\", \"경고\", \"심각\"], \n",
    "      \"y\": [\"316153\", \"476589\", \"121969\"], \n",
    "      \"mode\": \"markers\", \n",
    "      \"type\": \"scatter\"\n",
    "    }\n",
    "    data = Data([trace1])\n",
    "    layout = {\n",
    "      \"autosize\": True, \n",
    "      \"xaxis\": {\n",
    "        \"autorange\": True,\n",
    "        \"type\": \"category\"\n",
    "      }, \n",
    "      \"yaxis\": {\n",
    "        \"autorange\": True, \n",
    "        \"type\": \"linear\"\n",
    "      }\n",
    "    }\n",
    "    fig = Figure(data=data, layout=layout)\n",
    "    plot_url = py.plot(fig)"
   ]
  },
  {
   "cell_type": "code",
   "execution_count": null,
   "metadata": {},
   "outputs": [],
   "source": [
    "df = data.groupby(['time','alarm_name'])['condition'].count().reindex().reset_index().pivot_table(values='condition', index='time', columns='alarm_name', aggfunc='first',fill_value=0).reset_index().describe()"
   ]
  },
  {
   "cell_type": "code",
   "execution_count": null,
   "metadata": {},
   "outputs": [],
   "source": [
    "import plotly.graph_objs as go\n",
    "trace = go.Scatter(\n",
    "    x = df.iloc[1].values,\n",
    "    y = df.iloc[2].values,\n",
    "    mode='markers+text',\n",
    "    text= df.columns,\n",
    "    textposition='top left'\n",
    ")\n",
    "\n",
    "plot = [trace]\n",
    "\n",
    "# Plot and embed in ipython notebook!\n",
    "py.iplot(plot)"
   ]
  },
  {
   "cell_type": "code",
   "execution_count": null,
   "metadata": {},
   "outputs": [],
   "source": [
    "import plotly.graph_objs as go\n",
    "trace5 = go.Scatter(\n",
    "    name=\"심각\",\n",
    "    x = df_5.iloc[1].values,\n",
    "    y = df_5.iloc[2].values,\n",
    "    mode='markers+text',\n",
    "    text= df_5.columns,\n",
    "    textposition='top left'\n",
    ")\n",
    "trace4 = go.Scatter(\n",
    "    name=\"경고\",\n",
    "    x = df_4.iloc[1].values,\n",
    "    y = df_4.iloc[2].values,\n",
    "    mode='markers+text',\n",
    "    text= df_4.columns,\n",
    "    textposition='top left'\n",
    ")\n",
    "trace3 = go.Scatter(\n",
    "    name=\"주의\",\n",
    "    x = df_3.iloc[1].values,\n",
    "    y = df_3.iloc[2].values,\n",
    "    mode='markers+text',\n",
    "    text= df_3.columns,\n",
    "    textposition='top left'\n",
    ")\n",
    "trace2 = go.Scatter(\n",
    "    name=\"system\",\n",
    "    x = df_2.iloc[1].values,\n",
    "    y = df_2.iloc[2].values,\n",
    "    mode='markers+text',\n",
    "    text= df_2.columns,\n",
    "    textposition='top left'\n",
    ")\n",
    "trace = go.Scatter(\n",
    "    name=\"alarm\",\n",
    "    x = df.iloc[1].values,\n",
    "    y = df.iloc[2].values,\n",
    "    mode='markers+text',\n",
    "    text= df.columns,\n",
    "    textposition='top left'\n",
    ")\n",
    "\n",
    "plot = [trace,trace2,trace3,trace4,trace5]\n",
    "\n",
    "# Plot and embed in ipython notebook!\n",
    "py.iplot(plot)"
   ]
  },
  {
   "cell_type": "code",
   "execution_count": null,
   "metadata": {},
   "outputs": [],
   "source": [
    "df = data.groupby(['time','alarm_name'])['condition'].count().reindex().reset_index().pivot_table(values='condition', index='time', columns='alarm_name', aggfunc='first',fill_value=0).reset_index().describe()\n",
    "df_2 = data.groupby(['time','system_name'])['condition'].count().reset_index().reindex().pivot_table(values='condition', index='time', columns='system_name', aggfunc='first',fill_value=0).reset_index().describe()\n",
    "df_3 = data[data.degree==\"주의\"].groupby(['time_date','time'])['condition'].count().reset_index().reindex().pivot_table(values='condition', index='time', columns='time_date', aggfunc='first',fill_value=0).reset_index().describe()\n",
    "df_4 = data[data.degree==\"경고\"].groupby(['time_date','time'])['condition'].count().reset_index().reindex().pivot_table(values='condition', index='time', columns='time_date', aggfunc='first',fill_value=0).reset_index().describe()\n",
    "df_5 = data[data.degree==\"심각\"].groupby(['time_date','time'])['condition'].count().reset_index().reindex().pivot_table(values='condition', index='time', columns='time_date', aggfunc='first',fill_value=0).reset_index().describe()"
   ]
  },
  {
   "cell_type": "code",
   "execution_count": null,
   "metadata": {},
   "outputs": [],
   "source": [
    "df_3 = data.groupby(['time_date_hour','host_alarm'])['condition'].count().reindex().reset_index().pivot_table(values='condition',index='time_date_hour',columns='host_alarm',aggfunc='first',fill_value=0).reset_index()"
   ]
  },
  {
   "cell_type": "code",
   "execution_count": null,
   "metadata": {},
   "outputs": [],
   "source": [
    "data['host_alarm'] = data.system_name+'_'+data.alarm_name"
   ]
  },
  {
   "cell_type": "code",
   "execution_count": null,
   "metadata": {},
   "outputs": [],
   "source": [
    "df_3 = data.groupby(['time_date','host_alarm'])['condition'].count().reindex().reset_index().pivot_table(values='condition',index='time_date',columns='host_alarm',aggfunc='first',fill_value=0).reset_index()"
   ]
  },
  {
   "cell_type": "code",
   "execution_count": null,
   "metadata": {},
   "outputs": [],
   "source": [
    "corrmat = df_3.corr()"
   ]
  },
  {
   "cell_type": "code",
   "execution_count": null,
   "metadata": {},
   "outputs": [],
   "source": [
    "corrmat"
   ]
  },
  {
   "cell_type": "code",
   "execution_count": null,
   "metadata": {},
   "outputs": [],
   "source": [
    "clusters = []\n",
    "for node in corrmat.columns:\n",
    "    clusters.append(corrmat[corrmat[node] >= 0.9].index)\n",
    "clusters_new = []\n",
    "for cluster in clusters:\n",
    "    if len(cluster) > 1:\n",
    "        clusters_new.append(list(cluster))\n",
    "clusters_new = list(set([tuple(set(node)) for node in clusters_new]))\n",
    "\n",
    "dictt = {}\n",
    "for i in range(0,len(clusters_new)):\n",
    "    dictt.update({'cluster{}'.format(i) : list(clusters_new[i])})\n",
    "\n",
    "#data_df_date = data_df_date.reset_index()\n",
    "#pd.concat([pd.Series(clusters_new[0],name='cluster0'),pd.Series(clusters_new[1],name='cluster1')], axis=1)\n",
    "#for i in range(2,len(clusters_new)):\n",
    "#    df = pd.concat([df,pd.Series(clusters_new[i],name='cluster{}'.format(i))], axis=1)\n",
    "#df.fillna('',inplace=True)"
   ]
  },
  {
   "cell_type": "code",
   "execution_count": null,
   "metadata": {},
   "outputs": [],
   "source": [
    "len(clusters_new)"
   ]
  },
  {
   "cell_type": "code",
   "execution_count": null,
   "metadata": {},
   "outputs": [],
   "source": [
    "clusters_new"
   ]
  },
  {
   "cell_type": "code",
   "execution_count": null,
   "metadata": {},
   "outputs": [],
   "source": [
    "clusters_new[2]"
   ]
  },
  {
   "cell_type": "code",
   "execution_count": null,
   "metadata": {},
   "outputs": [],
   "source": [
    "def chart_cluster(clusters_new,df):\n",
    "    i = 0\n",
    "    for cluster in clusters_new:\n",
    "        print('>>>>>>>>>cluster{}'.format(i))\n",
    "        test_data = pd.melt(df_3, id_vars=['time_date'],value_vars=cluster)\n",
    "        #display(test_data)\n",
    "        fig = plt.figure(figsize=(15, 7))\n",
    "        ax = sns.pointplot(x=\"time_date\", y=\"value\",hue=test_data.host_alarm, data=test_data)\n",
    "        plt.xticks(rotation='vertical')\n",
    "        plt.show()\n",
    "        plt.clf()\n",
    "        try:\n",
    "            c_nodes = df[df['hostname'].isin(cluster)]\n",
    "        except:\n",
    "            c_nodes = df[df['hostname'].str.contains(cluster)]\n",
    "        c_nodes = c_nodes.groupby(['time_date','alarm_name','hostname'])['time'].count().reindex().reset_index().sort_values('time_date', ascending=True)\n",
    "        c_nodes = c_nodes.groupby(['alarm_name','hostname'])['time'].sum().reindex().reset_index().sort_values('time', ascending=False)\n",
    "        c_nodes = c_nodes[c_nodes.time > 100]\n",
    "        display_side_by_side(c_nodes)\n",
    "        i += 1"
   ]
  },
  {
   "cell_type": "code",
   "execution_count": null,
   "metadata": {},
   "outputs": [],
   "source": [
    "chart_cluster([ ('VM_연동서식_에이전트 다운',\n",
    "  'VM_연동서식_서버 상태',\n",
    "  'Oracle 11g (192.168.1.5 : ORA9)_[DB]액티브 세션 수',\n",
    "  'eaudit_10GB',\n",
    "  'Oracle 11g (192.168.1.18 : gw8orcl)_[DB]Invalid Object 수',\n",
    "  'VM_연동서식_CPU 사용률')],data)"
   ]
  },
  {
   "cell_type": "code",
   "execution_count": null,
   "metadata": {},
   "outputs": [],
   "source": [
    "data[data.system_name=='VM_연동서식']"
   ]
  },
  {
   "cell_type": "code",
   "execution_count": null,
   "metadata": {},
   "outputs": [],
   "source": [
    "data.groupby(['time_date'])['condition'].count().reindex().reset_index()"
   ]
  },
  {
   "cell_type": "code",
   "execution_count": null,
   "metadata": {},
   "outputs": [],
   "source": [
    "import statsmodels.api as sm\n",
    "# multiplicative\n",
    "res = sm.tsa.seasonal_decompose(data.groupby(['time_date'])['condition'].count().reindex().reset_index().condition.values,freq=40,model=\"multiplicative\")\n",
    "plt.figure(figsize=(30,12))\n",
    "fig = res.plot()\n",
    "fig.show()"
   ]
  },
  {
   "cell_type": "code",
   "execution_count": null,
   "metadata": {},
   "outputs": [],
   "source": [
    "len(data.groupby(['time_date'])['condition'].count().reindex().reset_index().condition.values)"
   ]
  },
  {
   "cell_type": "code",
   "execution_count": null,
   "metadata": {},
   "outputs": [],
   "source": [
    "data = sm.datasets.get_rdataset(\"deaths\", \"MASS\")\n",
    "\n",
    "df = data.data\n",
    "df.tail()"
   ]
  },
  {
   "cell_type": "code",
   "execution_count": null,
   "metadata": {},
   "outputs": [],
   "source": [
    "def yearfraction2datetime(yearfraction, startyear=0):\n",
    "    import datetime\n",
    "    import dateutil\n",
    "    year = int(yearfraction) + startyear\n",
    "    month = int(round(12 * (yearfraction - year)))\n",
    "    delta = dateutil.relativedelta.relativedelta(months=month)\n",
    "    date = datetime.datetime(year, 1, 1) + delta\n",
    "    return date\n",
    "\n",
    "df[\"datetime\"] = df.time.map(yearfraction2datetime)\n",
    "df.tail()"
   ]
  },
  {
   "cell_type": "code",
   "execution_count": null,
   "metadata": {},
   "outputs": [],
   "source": [
    "df.shape"
   ]
  },
  {
   "cell_type": "code",
   "execution_count": null,
   "metadata": {},
   "outputs": [],
   "source": [
    "df.plot(x='datetime',y='value')"
   ]
  },
  {
   "cell_type": "code",
   "execution_count": null,
   "metadata": {},
   "outputs": [],
   "source": [
    "import statsmodels.api as sm\n",
    "# multiplicative\n",
    "res = sm.tsa.seasonal_decompose(df.value.values,freq=5,model=\"multiplicative\")\n",
    "plt.figure(figsize=(30,12))\n",
    "fig = res.plot()\n",
    "fig.show()"
   ]
  }
 ],
 "metadata": {
  "colab": {
   "collapsed_sections": [
    "5lxRMDpvPYen",
    "Ak53gD9wPYe9",
    "ZXZmyN2LPYfc",
    "nWjrN-XePYgH",
    "ImJUAQeFPYgc",
    "gvzuciHhPYgo",
    "OPHsIWOFPYhP",
    "ondg0_qhPYha",
    "G4oZY0vzPYhs",
    "yDjE7wS6PYh1",
    "p9ATUV48PYh9",
    "ysXvTWNbPYiS",
    "x2MXf0xDPYib",
    "qOao-uaCPYic",
    "cPoBET-APYih",
    "CGaEW6jCPYii",
    "D0q3UQ5nPYit"
   ],
   "name": "20190225 (1).ipynb",
   "provenance": [],
   "version": "0.3.2"
  },
  "kernelspec": {
   "display_name": "Python 3",
   "language": "python",
   "name": "python3"
  },
  "language_info": {
   "codemirror_mode": {
    "name": "ipython",
    "version": 3
   },
   "file_extension": ".py",
   "mimetype": "text/x-python",
   "name": "python",
   "nbconvert_exporter": "python",
   "pygments_lexer": "ipython3",
   "version": "3.7.1"
  }
 },
 "nbformat": 4,
 "nbformat_minor": 1
}
